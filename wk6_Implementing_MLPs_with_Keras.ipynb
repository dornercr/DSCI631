{
  "cells": [
    {
      "cell_type": "markdown",
      "metadata": {
        "id": "view-in-github",
        "colab_type": "text"
      },
      "source": [
        "<a href=\"https://colab.research.google.com/github/dornercr/DSCI631/blob/main/wk6_Implementing_MLPs_with_Keras.ipynb\" target=\"_parent\"><img src=\"https://colab.research.google.com/assets/colab-badge.svg\" alt=\"Open In Colab\"/></a>"
      ]
    },
    {
      "cell_type": "markdown",
      "metadata": {
        "id": "qpiqHGZnhqnL"
      },
      "source": [
        "# Setup"
      ]
    },
    {
      "cell_type": "code",
      "execution_count": null,
      "metadata": {
        "id": "CFnuDazbhqnM",
        "scrolled": true
      },
      "outputs": [],
      "source": [
        "import sys\n",
        "\n",
        "assert sys.version_info >= (3, 7)\n",
        "\n",
        "# Common imports\n",
        "import numpy as np\n",
        "import pandas as pd\n",
        "\n",
        "# To plot figures\n",
        "%matplotlib inline\n",
        "import matplotlib.pyplot as plt\n",
        "plt.rc('font', size=14)\n",
        "plt.rc('axes', labelsize=14, titlesize=14)\n",
        "plt.rc('legend', fontsize=14)\n",
        "plt.rc('xtick', labelsize=10)\n",
        "plt.rc('ytick', labelsize=10)\n",
        "\n",
        "# Ignore useless warnings\n",
        "import warnings\n",
        "warnings.filterwarnings(action=\"ignore\", message=\"^internal gelsd\")"
      ]
    },
    {
      "cell_type": "markdown",
      "metadata": {
        "id": "BNfJE98jhqnN"
      },
      "source": [
        "First let's import TensorFlow and Keras, and check versions."
      ]
    },
    {
      "cell_type": "code",
      "execution_count": null,
      "metadata": {
        "id": "T66DyTadhqnN",
        "scrolled": true
      },
      "outputs": [],
      "source": [
        "from packaging import version\n",
        "import sklearn\n",
        "assert version.parse(sklearn.__version__) >= version.parse(\"1.0.1\")\n",
        "\n",
        "import tensorflow as tf\n",
        "assert version.parse(tf.__version__) >= version.parse(\"2.8.0\")\n",
        "\n",
        "# import keras\n",
        "from tensorflow import keras"
      ]
    },
    {
      "cell_type": "code",
      "execution_count": null,
      "metadata": {
        "id": "DEbmPb2IWOyE",
        "colab": {
          "base_uri": "https://localhost:8080/",
          "height": 35
        },
        "outputId": "83d5ab89-cc00-4d57-d489-765088361bfe"
      },
      "outputs": [
        {
          "output_type": "execute_result",
          "data": {
            "text/plain": [
              "'1.6.1'"
            ],
            "application/vnd.google.colaboratory.intrinsic+json": {
              "type": "string"
            }
          },
          "metadata": {},
          "execution_count": 3
        }
      ],
      "source": [
        "sklearn.__version__"
      ]
    },
    {
      "cell_type": "code",
      "execution_count": null,
      "metadata": {
        "colab": {
          "base_uri": "https://localhost:8080/",
          "height": 35
        },
        "id": "huBy75ichqnN",
        "outputId": "5d6aedd9-b2a4-40ce-c284-1f18c6181a5b",
        "scrolled": true
      },
      "outputs": [
        {
          "output_type": "execute_result",
          "data": {
            "text/plain": [
              "'2.18.0'"
            ],
            "application/vnd.google.colaboratory.intrinsic+json": {
              "type": "string"
            }
          },
          "metadata": {},
          "execution_count": 4
        }
      ],
      "source": [
        "tf.__version__"
      ]
    },
    {
      "cell_type": "code",
      "execution_count": null,
      "metadata": {
        "colab": {
          "base_uri": "https://localhost:8080/",
          "height": 35
        },
        "id": "QcUdJJHWhqnO",
        "outputId": "8f86a5b8-955d-4ded-dd94-06b27bdb912f",
        "scrolled": true
      },
      "outputs": [
        {
          "output_type": "execute_result",
          "data": {
            "text/plain": [
              "'3.8.0'"
            ],
            "application/vnd.google.colaboratory.intrinsic+json": {
              "type": "string"
            }
          },
          "metadata": {},
          "execution_count": 5
        }
      ],
      "source": [
        "keras.__version__"
      ]
    },
    {
      "cell_type": "markdown",
      "metadata": {
        "id": "-sBihFLLhqnO"
      },
      "source": [
        "`-tf` indicates `tf.keras` implements the Keras API, and some extra TensorFlow-specific features."
      ]
    },
    {
      "cell_type": "code",
      "execution_count": null,
      "metadata": {
        "id": "34cQ3uxQhqnO",
        "scrolled": true
      },
      "outputs": [],
      "source": [
        "np.random.seed(42)\n",
        "tf.random.set_seed(42)"
      ]
    },
    {
      "cell_type": "markdown",
      "metadata": {
        "id": "OCH1F1x9hqnO"
      },
      "source": [
        "# Building an Image Classifier Using Sequential API\n",
        "Let's start by loading the fashion MNIST dataset. Keras has a number of functions to load popular datasets in `keras.datasets`. The dataset is already split for you between a training set and a test set, but it can be useful to split the training set further to have a validation set:"
      ]
    },
    {
      "cell_type": "code",
      "execution_count": null,
      "metadata": {
        "id": "sC_vOg9FhqnP",
        "scrolled": true
      },
      "outputs": [],
      "source": [
        "fashion_mnist = keras.datasets.fashion_mnist.load_data()\n",
        "(X_train_full, y_train_full), (X_test, y_test) = fashion_mnist\n",
        "X_train, y_train = X_train_full[:-5000], y_train_full[:-5000]\n",
        "X_valid, y_valid = X_train_full[-5000:], y_train_full[-5000:]"
      ]
    },
    {
      "cell_type": "markdown",
      "metadata": {
        "id": "RgPe_7JXhqnP"
      },
      "source": [
        "The training set contains 60,000 grayscale images, the testing set contains 10,000 grayscle images. Each image has 28x28 pixels."
      ]
    },
    {
      "cell_type": "code",
      "execution_count": null,
      "metadata": {
        "colab": {
          "base_uri": "https://localhost:8080/"
        },
        "id": "mW8rsZI2hqnP",
        "outputId": "42c8f14e-e5e5-424a-e611-4f2dcd8506b8",
        "scrolled": true
      },
      "outputs": [
        {
          "output_type": "execute_result",
          "data": {
            "text/plain": [
              "((60000, 28, 28), (10000, 28, 28))"
            ]
          },
          "metadata": {},
          "execution_count": 8
        }
      ],
      "source": [
        "X_train_full.shape, X_test.shape"
      ]
    },
    {
      "cell_type": "markdown",
      "metadata": {
        "id": "RQo-vhUMhqnP"
      },
      "source": [
        "Each pixel intensity is represented as a byte (0 to 255), integers."
      ]
    },
    {
      "cell_type": "code",
      "execution_count": null,
      "metadata": {
        "colab": {
          "base_uri": "https://localhost:8080/"
        },
        "id": "2kt0wcz2hqnQ",
        "outputId": "a8e34c94-4f75-425f-9312-ae8c543747da",
        "scrolled": true
      },
      "outputs": [
        {
          "output_type": "execute_result",
          "data": {
            "text/plain": [
              "dtype('uint8')"
            ]
          },
          "metadata": {},
          "execution_count": 9
        }
      ],
      "source": [
        "X_train_full.dtype"
      ]
    },
    {
      "cell_type": "markdown",
      "metadata": {
        "id": "E38CKZ9BhqnQ"
      },
      "source": [
        "Rescale the pixels intensities to [0,1] for all datasets."
      ]
    },
    {
      "cell_type": "code",
      "execution_count": null,
      "metadata": {
        "id": "TaW9KGAshqnQ",
        "scrolled": true
      },
      "outputs": [],
      "source": [
        "X_train, X_valid, X_test = X_train / 255., X_valid / 255., X_test / 255."
      ]
    },
    {
      "cell_type": "markdown",
      "metadata": {
        "id": "X0tCziIXhqnQ"
      },
      "source": [
        "You can plot an image using Matplotlib's `imshow()` function, with a `'binary'`\n",
        " color map:"
      ]
    },
    {
      "cell_type": "code",
      "execution_count": null,
      "metadata": {
        "colab": {
          "base_uri": "https://localhost:8080/",
          "height": 420
        },
        "id": "9oflMyAbhqnQ",
        "outputId": "2a444e64-96ef-4c6e-99f2-977ffa4b1661",
        "scrolled": true
      },
      "outputs": [
        {
          "output_type": "display_data",
          "data": {
            "text/plain": [
              "<Figure size 640x480 with 2 Axes>"
            ],
            "image/png": "[encoded data removed]"
          },
          "metadata": {}
        }
      ],
      "source": [
        "plt.imshow(X_train[2025], cmap=\"binary\")\n",
        "plt.axis('off')\n",
        "plt.colorbar()\n",
        "plt.show()"
      ]
    },
    {
      "cell_type": "markdown",
      "metadata": {
        "id": "FJUgXRkfhqnQ"
      },
      "source": [
        "The labels are the class IDs (represented as uint8), from 0 to 9:"
      ]
    },
    {
      "cell_type": "code",
      "execution_count": null,
      "metadata": {
        "colab": {
          "base_uri": "https://localhost:8080/"
        },
        "id": "RhalteeShqnQ",
        "outputId": "a3ab919b-e61a-4280-a67e-cd8957c4fd52",
        "scrolled": true
      },
      "outputs": [
        {
          "output_type": "execute_result",
          "data": {
            "text/plain": [
              "array([9, 0, 0, ..., 9, 0, 2], dtype=uint8)"
            ]
          },
          "metadata": {},
          "execution_count": 12
        }
      ],
      "source": [
        "y_train"
      ]
    },
    {
      "cell_type": "code",
      "execution_count": null,
      "metadata": {
        "colab": {
          "base_uri": "https://localhost:8080/"
        },
        "id": "HQcQgxiwhqnR",
        "outputId": "aae137bc-d098-474a-f164-3c0f35620255",
        "scrolled": true
      },
      "outputs": [
        {
          "output_type": "execute_result",
          "data": {
            "text/plain": [
              "array([5479, 5503, 5510, 5492, 5473, 5497, 5533, 5550, 5485, 5478])"
            ]
          },
          "metadata": {},
          "execution_count": 13
        }
      ],
      "source": [
        "np.bincount(y_train)"
      ]
    },
    {
      "cell_type": "markdown",
      "metadata": {
        "id": "TPJpodLJhqnR"
      },
      "source": [
        "Here is the [link](https://www.tensorflow.org/tutorials/keras/classification) with corresponding class names information."
      ]
    },
    {
      "cell_type": "code",
      "execution_count": null,
      "metadata": {
        "id": "Zr_EiulYhqnR",
        "scrolled": true
      },
      "outputs": [],
      "source": [
        "class_names = [\"T-shirt/top\", \"Trouser\", \"Pullover\", \"Dress\", \"Coat\",\n",
        "               \"Sandal\", \"Shirt\", \"Sneaker\", \"Bag\", \"Ankle boot\"]"
      ]
    },
    {
      "cell_type": "markdown",
      "metadata": {
        "id": "nUhTpL-dhqnR"
      },
      "source": [
        "So the first image in the training set is a coat:"
      ]
    },
    {
      "cell_type": "code",
      "execution_count": null,
      "metadata": {
        "colab": {
          "base_uri": "https://localhost:8080/",
          "height": 35
        },
        "id": "3sDazsDShqnR",
        "outputId": "a0d88c70-1b83-4c7c-aa75-5401993108f6",
        "scrolled": true
      },
      "outputs": [
        {
          "output_type": "execute_result",
          "data": {
            "text/plain": [
              "'Pullover'"
            ],
            "application/vnd.google.colaboratory.intrinsic+json": {
              "type": "string"
            }
          },
          "metadata": {},
          "execution_count": 15
        }
      ],
      "source": [
        "class_names[y_train[2025]]"
      ]
    },
    {
      "cell_type": "markdown",
      "metadata": {
        "id": "eK_CzaehhqnR"
      },
      "source": [
        "The training set contains 55,000 images, validation set contains 5,000 images, and the test set contains 10,000 images."
      ]
    },
    {
      "cell_type": "code",
      "execution_count": null,
      "metadata": {
        "colab": {
          "base_uri": "https://localhost:8080/"
        },
        "id": "n76s65bfhqnR",
        "outputId": "bbfb235a-8081-4701-bbe2-d86ee81523d5",
        "scrolled": true
      },
      "outputs": [
        {
          "output_type": "execute_result",
          "data": {
            "text/plain": [
              "((55000, 28, 28), (5000, 28, 28), (10000, 28, 28))"
            ]
          },
          "metadata": {},
          "execution_count": 16
        }
      ],
      "source": [
        "X_train.shape, X_valid.shape, X_test.shape"
      ]
    },
    {
      "cell_type": "markdown",
      "metadata": {
        "id": "kEpz0Q3dhqnS"
      },
      "source": [
        "Let's take a look at a sample of the images in the dataset:"
      ]
    },
    {
      "cell_type": "code",
      "execution_count": null,
      "metadata": {
        "colab": {
          "base_uri": "https://localhost:8080/",
          "height": 428
        },
        "id": "SnCeAYyOhqnS",
        "outputId": "0c750c9e-41da-4fd1-c336-4cc770e2754f",
        "scrolled": true
      },
      "outputs": [
        {
          "output_type": "display_data",
          "data": {
            "text/plain": [
              "<Figure size 1200x480 with 40 Axes>"
            ],
            "image/png": "[encoded data removed]"
          },
          "metadata": {}
        }
      ],
      "source": [
        "n_rows = 4\n",
        "n_cols = 10\n",
        "plt.figure(figsize=(n_cols * 1.2, n_rows * 1.2))\n",
        "for row in range(n_rows):\n",
        "    for col in range(n_cols):\n",
        "        index = n_cols * row + col\n",
        "        plt.subplot(n_rows, n_cols, index + 1)\n",
        "        plt.imshow(X_train[index], cmap=\"binary\", interpolation=\"nearest\")\n",
        "        plt.axis('off')\n",
        "        plt.title(class_names[y_train[index]], fontsize=12)\n",
        "plt.subplots_adjust(wspace=0.2, hspace=0.5)\n",
        "plt.show()"
      ]
    },
    {
      "cell_type": "markdown",
      "metadata": {
        "id": "GajJdxSthqnS"
      },
      "source": [
        "#### Creating the model using the Sequential API\n",
        "\n",
        "Classification MLP with two hidden layers:"
      ]
    },
    {
      "cell_type": "code",
      "execution_count": null,
      "metadata": {
        "id": "ic_pnqaghqnS",
        "scrolled": true
      },
      "outputs": [],
      "source": [
        "tf.random.set_seed(42)\n",
        "\n",
        "# creates a Sequential model, compsed of a single stack of layers connected sequentially\n",
        "model = keras.models.Sequential()\n",
        "\n",
        "# convert input into 1D array, same as use Inputlayer\n",
        "model.add(keras.layers.InputLayer(shape=[28, 28]))\n",
        "model.add(keras.layers.Flatten())\n",
        "\n",
        "# add two dense hidden layers\n",
        "model.add(keras.layers.Dense(300, activation=\"relu\"))\n",
        "model.add(keras.layers.Dense(100, activation=\"relu\"))\n",
        "\n",
        "# dense output layer, each class has one neuron\n",
        "model.add(keras.layers.Dense(10, activation=\"softmax\"))"
      ]
    },
    {
      "cell_type": "markdown",
      "metadata": {
        "id": "eeuT33LmhqnS"
      },
      "source": [
        "Instead of add layers one by one, can also pass a list of layers when creating Sequential model:\n",
        "\n",
        "```python\n",
        "model = keras.models.Sequential([\n",
        "    keras.layers.Flatten(shape=[28, 28]),\n",
        "    keras.layers.Dense(300, activation=\"relu\"),\n",
        "    keras.layers.Dense(100, activation=\"relu\"),\n",
        "    keras.layers.Dense(10, activation=\"softmax\")\n",
        "])\n",
        "```"
      ]
    },
    {
      "cell_type": "code",
      "execution_count": null,
      "metadata": {
        "id": "wFdrz2VThqnS",
        "scrolled": true
      },
      "outputs": [],
      "source": [
        "keras.backend.clear_session()"
      ]
    },
    {
      "cell_type": "markdown",
      "metadata": {
        "id": "SeXkvOlehqnT"
      },
      "source": [
        "The model’s `summary()` method displays all the model’s layers, including each layer’s name, its output shape (None means the batch size can be anything), and its number of parameters.\n",
        "\n",
        "The summary ends with the total number of parameters, including trainable and non-trainable parameters."
      ]
    },
    {
      "cell_type": "code",
      "execution_count": null,
      "metadata": {
        "colab": {
          "base_uri": "https://localhost:8080/",
          "height": 265
        },
        "id": "33GmqGdLhqnT",
        "outputId": "7b6f6272-bb01-47bd-e43e-2649f190fe27",
        "scrolled": true
      },
      "outputs": [
        {
          "output_type": "display_data",
          "data": {
            "text/plain": [
              "\u001b[1mModel: \"sequential\"\u001b[0m\n"
            ],
            "text/html": [
              "<pre style=\"white-space:pre;overflow-x:auto;line-height:normal;font-family:Menlo,'DejaVu Sans Mono',consolas,'Courier New',monospace\"><span style=\"font-weight: bold\">Model: \"sequential\"</span>\n",
              "</pre>\n"
            ]
          },
          "metadata": {}
        },
        {
          "output_type": "display_data",
          "data": {
            "text/plain": [
              "┏━━━━━━━━━━━━━━━━━━━━━━━━━━━━━━━━━━━━━━┳━━━━━━━━━━━━━━━━━━━━━━━━━━━━━┳━━━━━━━━━━━━━━━━━┓\n",
              "┃\u001b[1m \u001b[0m\u001b[1mLayer (type)                        \u001b[0m\u001b[1m \u001b[0m┃\u001b[1m \u001b[0m\u001b[1mOutput Shape               \u001b[0m\u001b[1m \u001b[0m┃\u001b[1m \u001b[0m\u001b[1m        Param #\u001b[0m\u001b[1m \u001b[0m┃\n",
              "┡━━━━━━━━━━━━━━━━━━━━━━━━━━━━━━━━━━━━━━╇━━━━━━━━━━━━━━━━━━━━━━━━━━━━━╇━━━━━━━━━━━━━━━━━┩\n",
              "│ flatten (\u001b[38;5;33mFlatten\u001b[0m)                    │ (\u001b[38;5;45mNone\u001b[0m, \u001b[38;5;34m784\u001b[0m)                 │               \u001b[38;5;34m0\u001b[0m │\n",
              "├──────────────────────────────────────┼─────────────────────────────┼─────────────────┤\n",
              "│ dense (\u001b[38;5;33mDense\u001b[0m)                        │ (\u001b[38;5;45mNone\u001b[0m, \u001b[38;5;34m300\u001b[0m)                 │         \u001b[38;5;34m235,500\u001b[0m │\n",
              "├──────────────────────────────────────┼─────────────────────────────┼─────────────────┤\n",
              "│ dense_1 (\u001b[38;5;33mDense\u001b[0m)                      │ (\u001b[38;5;45mNone\u001b[0m, \u001b[38;5;34m100\u001b[0m)                 │          \u001b[38;5;34m30,100\u001b[0m │\n",
              "├──────────────────────────────────────┼─────────────────────────────┼─────────────────┤\n",
              "│ dense_2 (\u001b[38;5;33mDense\u001b[0m)                      │ (\u001b[38;5;45mNone\u001b[0m, \u001b[38;5;34m10\u001b[0m)                  │           \u001b[38;5;34m1,010\u001b[0m │\n",
              "└──────────────────────────────────────┴─────────────────────────────┴─────────────────┘\n"
            ],
            "text/html": [
              "<pre style=\"white-space:pre;overflow-x:auto;line-height:normal;font-family:Menlo,'DejaVu Sans Mono',consolas,'Courier New',monospace\">┏━━━━━━━━━━━━━━━━━━━━━━━━━━━━━━━━━━━━━━┳━━━━━━━━━━━━━━━━━━━━━━━━━━━━━┳━━━━━━━━━━━━━━━━━┓\n",
              "┃<span style=\"font-weight: bold\"> Layer (type)                         </span>┃<span style=\"font-weight: bold\"> Output Shape                </span>┃<span style=\"font-weight: bold\">         Param # </span>┃\n",
              "┡━━━━━━━━━━━━━━━━━━━━━━━━━━━━━━━━━━━━━━╇━━━━━━━━━━━━━━━━━━━━━━━━━━━━━╇━━━━━━━━━━━━━━━━━┩\n",
              "│ flatten (<span style=\"color: #0087ff; text-decoration-color: #0087ff\">Flatten</span>)                    │ (<span style=\"color: #00d7ff; text-decoration-color: #00d7ff\">None</span>, <span style=\"color: #00af00; text-decoration-color: #00af00\">784</span>)                 │               <span style=\"color: #00af00; text-decoration-color: #00af00\">0</span> │\n",
              "├──────────────────────────────────────┼─────────────────────────────┼─────────────────┤\n",
              "│ dense (<span style=\"color: #0087ff; text-decoration-color: #0087ff\">Dense</span>)                        │ (<span style=\"color: #00d7ff; text-decoration-color: #00d7ff\">None</span>, <span style=\"color: #00af00; text-decoration-color: #00af00\">300</span>)                 │         <span style=\"color: #00af00; text-decoration-color: #00af00\">235,500</span> │\n",
              "├──────────────────────────────────────┼─────────────────────────────┼─────────────────┤\n",
              "│ dense_1 (<span style=\"color: #0087ff; text-decoration-color: #0087ff\">Dense</span>)                      │ (<span style=\"color: #00d7ff; text-decoration-color: #00d7ff\">None</span>, <span style=\"color: #00af00; text-decoration-color: #00af00\">100</span>)                 │          <span style=\"color: #00af00; text-decoration-color: #00af00\">30,100</span> │\n",
              "├──────────────────────────────────────┼─────────────────────────────┼─────────────────┤\n",
              "│ dense_2 (<span style=\"color: #0087ff; text-decoration-color: #0087ff\">Dense</span>)                      │ (<span style=\"color: #00d7ff; text-decoration-color: #00d7ff\">None</span>, <span style=\"color: #00af00; text-decoration-color: #00af00\">10</span>)                  │           <span style=\"color: #00af00; text-decoration-color: #00af00\">1,010</span> │\n",
              "└──────────────────────────────────────┴─────────────────────────────┴─────────────────┘\n",
              "</pre>\n"
            ]
          },
          "metadata": {}
        },
        {
          "output_type": "display_data",
          "data": {
            "text/plain": [
              "\u001b[1m Total params: \u001b[0m\u001b[38;5;34m266,610\u001b[0m (1.02 MB)\n"
            ],
            "text/html": [
              "<pre style=\"white-space:pre;overflow-x:auto;line-height:normal;font-family:Menlo,'DejaVu Sans Mono',consolas,'Courier New',monospace\"><span style=\"font-weight: bold\"> Total params: </span><span style=\"color: #00af00; text-decoration-color: #00af00\">266,610</span> (1.02 MB)\n",
              "</pre>\n"
            ]
          },
          "metadata": {}
        },
        {
          "output_type": "display_data",
          "data": {
            "text/plain": [
              "\u001b[1m Trainable params: \u001b[0m\u001b[38;5;34m266,610\u001b[0m (1.02 MB)\n"
            ],
            "text/html": [
              "<pre style=\"white-space:pre;overflow-x:auto;line-height:normal;font-family:Menlo,'DejaVu Sans Mono',consolas,'Courier New',monospace\"><span style=\"font-weight: bold\"> Trainable params: </span><span style=\"color: #00af00; text-decoration-color: #00af00\">266,610</span> (1.02 MB)\n",
              "</pre>\n"
            ]
          },
          "metadata": {}
        },
        {
          "output_type": "display_data",
          "data": {
            "text/plain": [
              "\u001b[1m Non-trainable params: \u001b[0m\u001b[38;5;34m0\u001b[0m (0.00 B)\n"
            ],
            "text/html": [
              "<pre style=\"white-space:pre;overflow-x:auto;line-height:normal;font-family:Menlo,'DejaVu Sans Mono',consolas,'Courier New',monospace\"><span style=\"font-weight: bold\"> Non-trainable params: </span><span style=\"color: #00af00; text-decoration-color: #00af00\">0</span> (0.00 B)\n",
              "</pre>\n"
            ]
          },
          "metadata": {}
        }
      ],
      "source": [
        "model.summary()"
      ]
    },
    {
      "cell_type": "markdown",
      "metadata": {
        "id": "SyYAmxj2hqnT"
      },
      "source": [
        "Dense layers often have a lot of parameters.\n",
        "* The first hidden layer has 784 × 300 connection weights, plus 300 bias terms, which adds up to 235,500 parameters;\n",
        "* The second hidden layer has 300 x 100 connection weights, plus 100 bias terms, which adds up to 30,100 parameters;\n",
        "* The third hidden layer has 100 x 10 connection weights, plus 10 bias terms, which adds up to 1,010 parameters.\n",
        "\n",
        "The large number of parameters gives the model quite a lot of flexibility to fit the training data, but it also means that the model runs the risk of overfitting, especially when you do not have a lot of training data."
      ]
    },
    {
      "cell_type": "code",
      "execution_count": null,
      "metadata": {
        "colab": {
          "base_uri": "https://localhost:8080/",
          "height": 1000
        },
        "id": "TsVeYJUPhqnT",
        "outputId": "d21a1dda-f91d-402b-c0ad-3cc788be1f5b",
        "scrolled": true
      },
      "outputs": [
        {
          "output_type": "execute_result",
          "data": {
            "image/png": "[encoded data removed]",
            "text/plain": [
              "<IPython.core.display.Image object>"
            ]
          },
          "metadata": {},
          "execution_count": 21
        }
      ],
      "source": [
        "keras.utils.plot_model(model, \"my_fashion_mnist_model.png\", show_shapes=True)"
      ]
    },
    {
      "cell_type": "markdown",
      "metadata": {
        "id": "tXRT6_jvhqnT"
      },
      "source": [
        "To fetch a layer by index:"
      ]
    },
    {
      "cell_type": "code",
      "execution_count": null,
      "metadata": {
        "colab": {
          "base_uri": "https://localhost:8080/"
        },
        "id": "ANM0K1k7hqnU",
        "outputId": "981da6f7-b2e7-4efd-b54d-73e5d39d7ac8",
        "scrolled": true
      },
      "outputs": [
        {
          "output_type": "execute_result",
          "data": {
            "text/plain": [
              "[<Flatten name=flatten, built=True>,\n",
              " <Dense name=dense, built=True>,\n",
              " <Dense name=dense_1, built=True>,\n",
              " <Dense name=dense_2, built=True>]"
            ]
          },
          "metadata": {},
          "execution_count": 22
        }
      ],
      "source": [
        "model.layers"
      ]
    },
    {
      "cell_type": "code",
      "execution_count": null,
      "metadata": {
        "colab": {
          "base_uri": "https://localhost:8080/"
        },
        "id": "whsYLGK8hqnY",
        "outputId": "c7bfb01a-91fc-4c1e-ee8e-a71a48c8b06f",
        "scrolled": true
      },
      "outputs": [
        {
          "output_type": "stream",
          "name": "stdout",
          "text": [
            "dense\n",
            "dense_1\n"
          ]
        }
      ],
      "source": [
        "hidden1 = model.layers[1]\n",
        "print(hidden1.name)\n",
        "print(model.layers[2].name)"
      ]
    },
    {
      "cell_type": "code",
      "execution_count": null,
      "metadata": {
        "colab": {
          "base_uri": "https://localhost:8080/"
        },
        "id": "A9zGNXrehqnY",
        "outputId": "98c73192-3700-4e81-baf9-9dcdc05ee290",
        "scrolled": true
      },
      "outputs": [
        {
          "output_type": "execute_result",
          "data": {
            "text/plain": [
              "<Dense name=dense_2, built=True>"
            ]
          },
          "metadata": {},
          "execution_count": 24
        }
      ],
      "source": [
        "model.get_layer('dense_2')"
      ]
    },
    {
      "cell_type": "markdown",
      "metadata": {
        "id": "qJvsILBKhqnY"
      },
      "source": [
        "All the parameters of a layer can be accessed using its `get_weights()` and `set_weights()` methods. For a Dense layer, this includes both the connection weights and the bias terms:"
      ]
    },
    {
      "cell_type": "code",
      "execution_count": null,
      "metadata": {
        "id": "FlTCOvJkhqnY",
        "scrolled": true
      },
      "outputs": [],
      "source": [
        "weights, biases = hidden1.get_weights()"
      ]
    },
    {
      "cell_type": "code",
      "execution_count": null,
      "metadata": {
        "colab": {
          "base_uri": "https://localhost:8080/"
        },
        "id": "V0OtC4vJhqnY",
        "outputId": "e24ca2c3-f7b5-4d04-e8a0-2b436ca3a5a4",
        "scrolled": true
      },
      "outputs": [
        {
          "output_type": "execute_result",
          "data": {
            "text/plain": [
              "array([[ 0.03529458, -0.05679902, -0.02316741, ..., -0.03819644,\n",
              "        -0.02421531, -0.02961979],\n",
              "       [-0.07004492,  0.01982198, -0.05292741, ..., -0.03155846,\n",
              "         0.04518557, -0.03890534],\n",
              "       [-0.04258458,  0.00360953, -0.01193586, ...,  0.03419887,\n",
              "        -0.00774501, -0.01215151],\n",
              "       ...,\n",
              "       [ 0.07084465, -0.06569246, -0.00571762, ..., -0.04764929,\n",
              "         0.0384723 ,  0.00012676],\n",
              "       [ 0.00358384, -0.00939232,  0.02129631, ...,  0.05439024,\n",
              "        -0.01049655,  0.05900183],\n",
              "       [ 0.04280992, -0.06347665, -0.01044705, ...,  0.02413853,\n",
              "         0.00149122,  0.00381275]], dtype=float32)"
            ]
          },
          "metadata": {},
          "execution_count": 26
        }
      ],
      "source": [
        "weights"
      ]
    },
    {
      "cell_type": "code",
      "execution_count": null,
      "metadata": {
        "colab": {
          "base_uri": "https://localhost:8080/"
        },
        "id": "d0wcoO5NhqnY",
        "outputId": "0ac16ae9-dde2-4d2f-b27d-d7b74f2ffa77",
        "scrolled": true
      },
      "outputs": [
        {
          "output_type": "execute_result",
          "data": {
            "text/plain": [
              "array([0., 0., 0., 0., 0., 0., 0., 0., 0., 0., 0., 0., 0., 0., 0., 0., 0.,\n",
              "       0., 0., 0., 0., 0., 0., 0., 0., 0., 0., 0., 0., 0., 0., 0., 0., 0.,\n",
              "       0., 0., 0., 0., 0., 0., 0., 0., 0., 0., 0., 0., 0., 0., 0., 0., 0.,\n",
              "       0., 0., 0., 0., 0., 0., 0., 0., 0., 0., 0., 0., 0., 0., 0., 0., 0.,\n",
              "       0., 0., 0., 0., 0., 0., 0., 0., 0., 0., 0., 0., 0., 0., 0., 0., 0.,\n",
              "       0., 0., 0., 0., 0., 0., 0., 0., 0., 0., 0., 0., 0., 0., 0., 0., 0.,\n",
              "       0., 0., 0., 0., 0., 0., 0., 0., 0., 0., 0., 0., 0., 0., 0., 0., 0.,\n",
              "       0., 0., 0., 0., 0., 0., 0., 0., 0., 0., 0., 0., 0., 0., 0., 0., 0.,\n",
              "       0., 0., 0., 0., 0., 0., 0., 0., 0., 0., 0., 0., 0., 0., 0., 0., 0.,\n",
              "       0., 0., 0., 0., 0., 0., 0., 0., 0., 0., 0., 0., 0., 0., 0., 0., 0.,\n",
              "       0., 0., 0., 0., 0., 0., 0., 0., 0., 0., 0., 0., 0., 0., 0., 0., 0.,\n",
              "       0., 0., 0., 0., 0., 0., 0., 0., 0., 0., 0., 0., 0., 0., 0., 0., 0.,\n",
              "       0., 0., 0., 0., 0., 0., 0., 0., 0., 0., 0., 0., 0., 0., 0., 0., 0.,\n",
              "       0., 0., 0., 0., 0., 0., 0., 0., 0., 0., 0., 0., 0., 0., 0., 0., 0.,\n",
              "       0., 0., 0., 0., 0., 0., 0., 0., 0., 0., 0., 0., 0., 0., 0., 0., 0.,\n",
              "       0., 0., 0., 0., 0., 0., 0., 0., 0., 0., 0., 0., 0., 0., 0., 0., 0.,\n",
              "       0., 0., 0., 0., 0., 0., 0., 0., 0., 0., 0., 0., 0., 0., 0., 0., 0.,\n",
              "       0., 0., 0., 0., 0., 0., 0., 0., 0., 0., 0.], dtype=float32)"
            ]
          },
          "metadata": {},
          "execution_count": 27
        }
      ],
      "source": [
        "biases"
      ]
    },
    {
      "cell_type": "code",
      "execution_count": null,
      "metadata": {
        "colab": {
          "base_uri": "https://localhost:8080/"
        },
        "id": "2hrogbPIhqnZ",
        "outputId": "b5976860-963f-4f1a-b4a0-496e874a25d0",
        "scrolled": true
      },
      "outputs": [
        {
          "output_type": "execute_result",
          "data": {
            "text/plain": [
              "((784, 300), (300,))"
            ]
          },
          "metadata": {},
          "execution_count": 28
        }
      ],
      "source": [
        "weights.shape, biases.shape"
      ]
    },
    {
      "cell_type": "markdown",
      "metadata": {
        "id": "ZPqHyGjohqnZ"
      },
      "source": [
        "Notice that the Dense layer initialized the connection weights randomly, and the biases were initialized to zeros.\n",
        "\n",
        "If you ever want to use a different initialization method, you can set `kernel_initializer` (kernel is another name for the matrix of connection weights) or `bias_initializer` when creating the layer. More details can be found in [here](https://keras.io/initializers).\n",
        "\n",
        "The shape of the weight matrix depends on the number of inputs. If you know the input shape when creating the model, it is best to specify it."
      ]
    },
    {
      "cell_type": "markdown",
      "metadata": {
        "id": "ODqFfU0-hqnZ"
      },
      "source": [
        "#### Compilng the model"
      ]
    },
    {
      "cell_type": "markdown",
      "metadata": {
        "id": "Af-_GgBshqnZ"
      },
      "source": [
        "Before the model is ready for training, it needs a few more settings. These are added during the model's compile step:\n",
        "\n",
        "* Loss function : to measures how accurate the model is during training. You want to minimize this function to \"steer\" the model in the right direction.\n",
        "* Optimizer: to indicates how the model is updated based on the data it sees and its loss function.\n",
        "* Metrics: to monitor the training and testing steps.\n",
        "\n",
        "Optionally, you can specify a list of extra metrics to compute during training and evaluation.\n",
        "\n",
        "You can also check the full list of [loss functions](https://keras.io/losses), [optimizers](https://keras.io/optimizers), and [metrics](https://keras.io/metrics)."
      ]
    },
    {
      "cell_type": "code",
      "execution_count": null,
      "metadata": {
        "id": "K3HLypqxhqnZ",
        "scrolled": true
      },
      "outputs": [],
      "source": [
        "model.compile(loss=\"sparse_categorical_crossentropy\",\n",
        "              optimizer=\"sgd\",\n",
        "              metrics=[\"accuracy\"])"
      ]
    },
    {
      "cell_type": "markdown",
      "metadata": {
        "id": "5j4pV9-VhqnZ"
      },
      "source": [
        "This is equivalent to:"
      ]
    },
    {
      "cell_type": "markdown",
      "metadata": {
        "id": "jI8oJ5Ghhqna"
      },
      "source": [
        "```python\n",
        "model.compile(loss=keras.losses.sparse_categorical_crossentropy,\n",
        "              optimizer=keras.optimizers.SGD(),\n",
        "              metrics=[keras.metrics.sparse_categorical_accuracy])\n",
        "```"
      ]
    },
    {
      "cell_type": "code",
      "source": [
        "# convert class ids to one-hot vectors\n",
        "tf.keras.utils.to_categorical([2, 0, 2, 8], num_classes=10)"
      ],
      "metadata": {
        "colab": {
          "base_uri": "https://localhost:8080/"
        },
        "id": "4SIjPwg1zZAX",
        "outputId": "37056623-2d8e-4833-8891-10b1f6dd74a3"
      },
      "execution_count": null,
      "outputs": [
        {
          "output_type": "execute_result",
          "data": {
            "text/plain": [
              "array([[0., 0., 1., 0., 0., 0., 0., 0., 0., 0.],\n",
              "       [1., 0., 0., 0., 0., 0., 0., 0., 0., 0.],\n",
              "       [0., 0., 1., 0., 0., 0., 0., 0., 0., 0.],\n",
              "       [0., 0., 0., 0., 0., 0., 0., 0., 1., 0.]])"
            ]
          },
          "metadata": {},
          "execution_count": 30
        }
      ]
    },
    {
      "cell_type": "code",
      "source": [
        "# convert one-hot vectors to class ids\n",
        "np.argmax(\n",
        "    [[0., 0., 1., 0., 0., 0., 0., 0., 0., 0.],\n",
        "       [1., 0., 0., 0., 0., 0., 0., 0., 0., 0.],\n",
        "       [0., 0., 1., 0., 0., 0., 0., 0., 0., 0.],\n",
        "       [0., 0., 0., 0., 0., 0., 0., 0., 1., 0.]],\n",
        "    axis=1\n",
        ")"
      ],
      "metadata": {
        "colab": {
          "base_uri": "https://localhost:8080/"
        },
        "id": "r4twNBhlznSK",
        "outputId": "137c88fc-502e-4200-8e28-cad9194dab64"
      },
      "execution_count": null,
      "outputs": [
        {
          "output_type": "execute_result",
          "data": {
            "text/plain": [
              "array([2, 0, 2, 8])"
            ]
          },
          "metadata": {},
          "execution_count": 31
        }
      ]
    },
    {
      "cell_type": "markdown",
      "metadata": {
        "id": "YQuAgdH3hqna"
      },
      "source": [
        "#### Training and evaluating the model\n",
        "\n",
        "Instead of passing a validation set using the validation_data argument, you could set `validation_split` to the ratio of the training set that you want Keras to use for validation."
      ]
    },
    {
      "cell_type": "code",
      "execution_count": null,
      "metadata": {
        "colab": {
          "base_uri": "https://localhost:8080/"
        },
        "id": "FhZOwahjhqna",
        "outputId": "de86f8c6-387a-4ba5-f117-4fb8a3f9cb5e",
        "scrolled": true
      },
      "outputs": [
        {
          "output_type": "stream",
          "name": "stdout",
          "text": [
            "Epoch 1/30\n",
            "\u001b[1m1719/1719\u001b[0m \u001b[32m━━━━━━━━━━━━━━━━━━━━\u001b[0m\u001b[37m\u001b[0m \u001b[1m4s\u001b[0m 2ms/step - accuracy: 0.6830 - loss: 1.0129 - val_accuracy: 0.8290 - val_loss: 0.5049\n",
            "Epoch 2/30\n",
            "\u001b[1m1719/1719\u001b[0m \u001b[32m━━━━━━━━━━━━━━━━━━━━\u001b[0m\u001b[37m\u001b[0m \u001b[1m5s\u001b[0m 2ms/step - accuracy: 0.8266 - loss: 0.5068 - val_accuracy: 0.8382 - val_loss: 0.4468\n",
            "Epoch 3/30\n",
            "\u001b[1m1719/1719\u001b[0m \u001b[32m━━━━━━━━━━━━━━━━━━━━\u001b[0m\u001b[37m\u001b[0m \u001b[1m7s\u001b[0m 4ms/step - accuracy: 0.8439 - loss: 0.4510 - val_accuracy: 0.8474 - val_loss: 0.4221\n",
            "Epoch 4/30\n",
            "\u001b[1m1719/1719\u001b[0m \u001b[32m━━━━━━━━━━━━━━━━━━━━\u001b[0m\u001b[37m\u001b[0m \u001b[1m4s\u001b[0m 2ms/step - accuracy: 0.8536 - loss: 0.4209 - val_accuracy: 0.8510 - val_loss: 0.4068\n",
            "Epoch 5/30\n",
            "\u001b[1m1719/1719\u001b[0m \u001b[32m━━━━━━━━━━━━━━━━━━━━\u001b[0m\u001b[37m\u001b[0m \u001b[1m4s\u001b[0m 2ms/step - accuracy: 0.8602 - loss: 0.3994 - val_accuracy: 0.8562 - val_loss: 0.3955\n",
            "Epoch 6/30\n",
            "\u001b[1m1719/1719\u001b[0m \u001b[32m━━━━━━━━━━━━━━━━━━━━\u001b[0m\u001b[37m\u001b[0m \u001b[1m5s\u001b[0m 3ms/step - accuracy: 0.8665 - loss: 0.3825 - val_accuracy: 0.8600 - val_loss: 0.3860\n",
            "Epoch 7/30\n",
            "\u001b[1m1719/1719\u001b[0m \u001b[32m━━━━━━━━━━━━━━━━━━━━\u001b[0m\u001b[37m\u001b[0m \u001b[1m4s\u001b[0m 2ms/step - accuracy: 0.8698 - loss: 0.3684 - val_accuracy: 0.8616 - val_loss: 0.3785\n",
            "Epoch 8/30\n",
            "\u001b[1m1719/1719\u001b[0m \u001b[32m━━━━━━━━━━━━━━━━━━━━\u001b[0m\u001b[37m\u001b[0m \u001b[1m4s\u001b[0m 2ms/step - accuracy: 0.8738 - loss: 0.3562 - val_accuracy: 0.8618 - val_loss: 0.3735\n",
            "Epoch 9/30\n",
            "\u001b[1m1719/1719\u001b[0m \u001b[32m━━━━━━━━━━━━━━━━━━━━\u001b[0m\u001b[37m\u001b[0m \u001b[1m4s\u001b[0m 2ms/step - accuracy: 0.8770 - loss: 0.3455 - val_accuracy: 0.8656 - val_loss: 0.3674\n",
            "Epoch 10/30\n",
            "\u001b[1m1719/1719\u001b[0m \u001b[32m━━━━━━━━━━━━━━━━━━━━\u001b[0m\u001b[37m\u001b[0m \u001b[1m4s\u001b[0m 2ms/step - accuracy: 0.8808 - loss: 0.3358 - val_accuracy: 0.8666 - val_loss: 0.3622\n",
            "Epoch 11/30\n",
            "\u001b[1m1719/1719\u001b[0m \u001b[32m━━━━━━━━━━━━━━━━━━━━\u001b[0m\u001b[37m\u001b[0m \u001b[1m6s\u001b[0m 3ms/step - accuracy: 0.8840 - loss: 0.3269 - val_accuracy: 0.8684 - val_loss: 0.3585\n",
            "Epoch 12/30\n",
            "\u001b[1m1719/1719\u001b[0m \u001b[32m━━━━━━━━━━━━━━━━━━━━\u001b[0m\u001b[37m\u001b[0m \u001b[1m9s\u001b[0m 2ms/step - accuracy: 0.8860 - loss: 0.3187 - val_accuracy: 0.8700 - val_loss: 0.3547\n",
            "Epoch 13/30\n",
            "\u001b[1m1719/1719\u001b[0m \u001b[32m━━━━━━━━━━━━━━━━━━━━\u001b[0m\u001b[37m\u001b[0m \u001b[1m5s\u001b[0m 2ms/step - accuracy: 0.8889 - loss: 0.3108 - val_accuracy: 0.8702 - val_loss: 0.3531\n",
            "Epoch 14/30\n",
            "\u001b[1m1719/1719\u001b[0m \u001b[32m━━━━━━━━━━━━━━━━━━━━\u001b[0m\u001b[37m\u001b[0m \u001b[1m4s\u001b[0m 2ms/step - accuracy: 0.8912 - loss: 0.3036 - val_accuracy: 0.8712 - val_loss: 0.3500\n",
            "Epoch 15/30\n",
            "\u001b[1m1719/1719\u001b[0m \u001b[32m━━━━━━━━━━━━━━━━━━━━\u001b[0m\u001b[37m\u001b[0m \u001b[1m4s\u001b[0m 2ms/step - accuracy: 0.8932 - loss: 0.2969 - val_accuracy: 0.8722 - val_loss: 0.3490\n",
            "Epoch 16/30\n",
            "\u001b[1m1719/1719\u001b[0m \u001b[32m━━━━━━━━━━━━━━━━━━━━\u001b[0m\u001b[37m\u001b[0m \u001b[1m4s\u001b[0m 2ms/step - accuracy: 0.8951 - loss: 0.2905 - val_accuracy: 0.8726 - val_loss: 0.3471\n",
            "Epoch 17/30\n",
            "\u001b[1m1719/1719\u001b[0m \u001b[32m━━━━━━━━━━━━━━━━━━━━\u001b[0m\u001b[37m\u001b[0m \u001b[1m5s\u001b[0m 2ms/step - accuracy: 0.8979 - loss: 0.2844 - val_accuracy: 0.8746 - val_loss: 0.3435\n",
            "Epoch 18/30\n",
            "\u001b[1m1719/1719\u001b[0m \u001b[32m━━━━━━━━━━━━━━━━━━━━\u001b[0m\u001b[37m\u001b[0m \u001b[1m5s\u001b[0m 2ms/step - accuracy: 0.8998 - loss: 0.2786 - val_accuracy: 0.8746 - val_loss: 0.3434\n",
            "Epoch 19/30\n",
            "\u001b[1m1719/1719\u001b[0m \u001b[32m━━━━━━━━━━━━━━━━━━━━\u001b[0m\u001b[37m\u001b[0m \u001b[1m5s\u001b[0m 2ms/step - accuracy: 0.9023 - loss: 0.2730 - val_accuracy: 0.8748 - val_loss: 0.3420\n",
            "Epoch 20/30\n",
            "\u001b[1m1719/1719\u001b[0m \u001b[32m━━━━━━━━━━━━━━━━━━━━\u001b[0m\u001b[37m\u001b[0m \u001b[1m4s\u001b[0m 2ms/step - accuracy: 0.9039 - loss: 0.2678 - val_accuracy: 0.8736 - val_loss: 0.3404\n",
            "Epoch 21/30\n",
            "\u001b[1m1719/1719\u001b[0m \u001b[32m━━━━━━━━━━━━━━━━━━━━\u001b[0m\u001b[37m\u001b[0m \u001b[1m4s\u001b[0m 2ms/step - accuracy: 0.9061 - loss: 0.2625 - val_accuracy: 0.8738 - val_loss: 0.3405\n",
            "Epoch 22/30\n",
            "\u001b[1m1719/1719\u001b[0m \u001b[32m━━━━━━━━━━━━━━━━━━━━\u001b[0m\u001b[37m\u001b[0m \u001b[1m5s\u001b[0m 3ms/step - accuracy: 0.9076 - loss: 0.2577 - val_accuracy: 0.8744 - val_loss: 0.3387\n",
            "Epoch 23/30\n",
            "\u001b[1m1719/1719\u001b[0m \u001b[32m━━━━━━━━━━━━━━━━━━━━\u001b[0m\u001b[37m\u001b[0m \u001b[1m6s\u001b[0m 3ms/step - accuracy: 0.9093 - loss: 0.2531 - val_accuracy: 0.8768 - val_loss: 0.3394\n",
            "Epoch 24/30\n",
            "\u001b[1m1719/1719\u001b[0m \u001b[32m━━━━━━━━━━━━━━━━━━━━\u001b[0m\u001b[37m\u001b[0m \u001b[1m9s\u001b[0m 3ms/step - accuracy: 0.9115 - loss: 0.2485 - val_accuracy: 0.8764 - val_loss: 0.3408\n",
            "Epoch 25/30\n",
            "\u001b[1m1719/1719\u001b[0m \u001b[32m━━━━━━━━━━━━━━━━━━━━\u001b[0m\u001b[37m\u001b[0m \u001b[1m5s\u001b[0m 2ms/step - accuracy: 0.9136 - loss: 0.2442 - val_accuracy: 0.8770 - val_loss: 0.3400\n",
            "Epoch 26/30\n",
            "\u001b[1m1719/1719\u001b[0m \u001b[32m━━━━━━━━━━━━━━━━━━━━\u001b[0m\u001b[37m\u001b[0m \u001b[1m4s\u001b[0m 2ms/step - accuracy: 0.9147 - loss: 0.2399 - val_accuracy: 0.8770 - val_loss: 0.3410\n",
            "Epoch 27/30\n",
            "\u001b[1m1719/1719\u001b[0m \u001b[32m━━━━━━━━━━━━━━━━━━━━\u001b[0m\u001b[37m\u001b[0m \u001b[1m4s\u001b[0m 2ms/step - accuracy: 0.9168 - loss: 0.2356 - val_accuracy: 0.8788 - val_loss: 0.3387\n",
            "Epoch 28/30\n",
            "\u001b[1m1719/1719\u001b[0m \u001b[32m━━━━━━━━━━━━━━━━━━━━\u001b[0m\u001b[37m\u001b[0m \u001b[1m4s\u001b[0m 2ms/step - accuracy: 0.9180 - loss: 0.2318 - val_accuracy: 0.8794 - val_loss: 0.3374\n",
            "Epoch 29/30\n",
            "\u001b[1m1719/1719\u001b[0m \u001b[32m━━━━━━━━━━━━━━━━━━━━\u001b[0m\u001b[37m\u001b[0m \u001b[1m6s\u001b[0m 2ms/step - accuracy: 0.9196 - loss: 0.2279 - val_accuracy: 0.8798 - val_loss: 0.3377\n",
            "Epoch 30/30\n",
            "\u001b[1m1719/1719\u001b[0m \u001b[32m━━━━━━━━━━━━━━━━━━━━\u001b[0m\u001b[37m\u001b[0m \u001b[1m5s\u001b[0m 2ms/step - accuracy: 0.9208 - loss: 0.2238 - val_accuracy: 0.8812 - val_loss: 0.3353\n"
          ]
        }
      ],
      "source": [
        "history = model.fit(X_train, y_train, epochs=30, validation_data=(X_valid, y_valid))"
      ]
    },
    {
      "cell_type": "markdown",
      "metadata": {
        "id": "4204T8Lthqna"
      },
      "source": [
        "* If the training set was very skewed, with some classes being overrepresented and others underrepresented, it would be useful to set the `class_weight` argument when calling the fit() method, which would give a larger weight to underrepresented classes and a lower weight to overrepresented classes. These weights would be used by Keras when computing the loss.\n",
        "* If you need per-instance weights, set the `sample_weight` argument. Per-instance weights could be useful if some instances were labeled by experts while others were labeled using a crowdsourcing platform: you might want to give more weight to the former.\n",
        "* If both `class_weight` and `sample_weight` are provided, Keras multiplies them."
      ]
    },
    {
      "cell_type": "markdown",
      "metadata": {
        "id": "dSLq6SdChqna"
      },
      "source": [
        "The `fit()` method returns a History object:\n",
        "* training parameters: `history.params`\n",
        "* epochs it went through `history.epoch`\n",
        "* most importantly a dictionary `history.history` containing the loss and extra metrics it measured at the end of each epoch on the training set and on the validation set."
      ]
    },
    {
      "cell_type": "code",
      "execution_count": null,
      "metadata": {
        "colab": {
          "base_uri": "https://localhost:8080/"
        },
        "id": "Yd6o0L2jhqnb",
        "outputId": "a08064d1-7321-4fdd-bd69-b6f0a762f0da",
        "scrolled": true
      },
      "outputs": [
        {
          "output_type": "stream",
          "name": "stdout",
          "text": [
            "training parameters: {'verbose': 'auto', 'epochs': 30, 'steps': 1719}\n",
            "\n",
            "training epoch: [0, 1, 2, 3, 4, 5, 6, 7, 8, 9, 10, 11, 12, 13, 14, 15, 16, 17, 18, 19, 20, 21, 22, 23, 24, 25, 26, 27, 28, 29]\n",
            "\n",
            "training metrics: dict_keys(['accuracy', 'loss', 'val_accuracy', 'val_loss'])\n"
          ]
        }
      ],
      "source": [
        "print('training parameters:', history.params)\n",
        "print()\n",
        "print('training epoch:', history.epoch)\n",
        "print()\n",
        "print('training metrics:', history.history.keys())"
      ]
    },
    {
      "cell_type": "code",
      "execution_count": null,
      "metadata": {
        "id": "2oM-OVGehqnb",
        "scrolled": true,
        "colab": {
          "base_uri": "https://localhost:8080/",
          "height": 475
        },
        "outputId": "74116a9f-6bf6-45c1-b590-cc9917325e40"
      },
      "outputs": [
        {
          "output_type": "display_data",
          "data": {
            "text/plain": [
              "<Figure size 800x500 with 1 Axes>"
            ],
            "image/png": "[encoded data removed]"
          },
          "metadata": {}
        }
      ],
      "source": [
        "plt.figure(figsize=(8, 5))\n",
        "for key, style in zip(history.history, [\"r--\", \"r--.\", \"b-\", \"b-*\"]):\n",
        "    epochs = np.array(history.epoch) + (0 if key.startswith(\"val_\") else -0.5)\n",
        "    plt.plot(epochs, history.history[key], style, label=key)\n",
        "plt.xlabel(\"Epoch\")\n",
        "plt.axis([-0.5, 29, 0., 1])\n",
        "plt.legend(loc=\"lower left\")\n",
        "plt.grid()\n",
        "plt.show()\n"
      ]
    },
    {
      "cell_type": "markdown",
      "metadata": {
        "id": "qQZRSFgEhqnc"
      },
      "source": [
        "If you are not satisfied with the performance of the model, you should go back and tune the hyperparameters.\n",
        "\n",
        "* The first one to check is the *learning rate*.\n",
        "* If that doesn’t help, try another *optimizer*.  \n",
        "* If the performance is still not great, then try tuning model hyperparameters such as: *the number of layers*, *the number of neurons per layer*, and the types of *activation functions* to use for each hidden layer.\n",
        "* You can also try tuning other hyperparameters, such as the *batch size* (it can be set in the `fit()` method using the `batch_size` argument, which defaults to 32).\n",
        "\n",
        "* **Always retune the learning rate after changing any hyperparameter.**\n",
        "\n",
        "Once you are satisfied with the model’s validation accuracy, you should evaluate it on the test set to estimate the generalization error before you deploy the model to production."
      ]
    },
    {
      "cell_type": "code",
      "execution_count": null,
      "metadata": {
        "colab": {
          "base_uri": "https://localhost:8080/"
        },
        "id": "k1J2hu9nhqnc",
        "outputId": "f5a1290c-2739-418e-ded2-8efda9773001",
        "scrolled": true
      },
      "outputs": [
        {
          "output_type": "stream",
          "name": "stdout",
          "text": [
            "\u001b[1m313/313\u001b[0m \u001b[32m━━━━━━━━━━━━━━━━━━━━\u001b[0m\u001b[37m\u001b[0m \u001b[1m0s\u001b[0m 1ms/step - accuracy: 0.8743 - loss: 0.3613\n"
          ]
        },
        {
          "output_type": "execute_result",
          "data": {
            "text/plain": [
              "[0.35788694024086, 0.8754000067710876]"
            ]
          },
          "metadata": {},
          "execution_count": 35
        }
      ],
      "source": [
        "model.evaluate(X_test, y_test)"
      ]
    },
    {
      "cell_type": "markdown",
      "metadata": {
        "id": "3Sy204UEhqnc"
      },
      "source": [
        "#### Using the model to make predictions"
      ]
    },
    {
      "cell_type": "code",
      "execution_count": null,
      "metadata": {
        "colab": {
          "base_uri": "https://localhost:8080/"
        },
        "id": "rPhotlXehqnc",
        "outputId": "7da77967-b881-426e-d023-18b1de6278b2",
        "scrolled": true
      },
      "outputs": [
        {
          "output_type": "stream",
          "name": "stdout",
          "text": [
            "\u001b[1m1/1\u001b[0m \u001b[32m━━━━━━━━━━━━━━━━━━━━\u001b[0m\u001b[37m\u001b[0m \u001b[1m0s\u001b[0m 48ms/step\n"
          ]
        },
        {
          "output_type": "execute_result",
          "data": {
            "text/plain": [
              "array([[0.  , 0.  , 0.  , 0.  , 0.  , 0.16, 0.  , 0.02, 0.  , 0.82],\n",
              "       [0.  , 0.  , 1.  , 0.  , 0.  , 0.  , 0.  , 0.  , 0.  , 0.  ],\n",
              "       [0.  , 1.  , 0.  , 0.  , 0.  , 0.  , 0.  , 0.  , 0.  , 0.  ]],\n",
              "      dtype=float32)"
            ]
          },
          "metadata": {},
          "execution_count": 36
        }
      ],
      "source": [
        "X_new = X_test[:3]\n",
        "y_proba = model.predict(X_new)\n",
        "y_proba.round(2)"
      ]
    },
    {
      "cell_type": "code",
      "execution_count": null,
      "metadata": {
        "colab": {
          "base_uri": "https://localhost:8080/"
        },
        "id": "6h9N_TZfhqnc",
        "outputId": "0d6d75f5-807e-48e2-a2e2-5fd5f0bd2b83",
        "scrolled": true
      },
      "outputs": [
        {
          "output_type": "stream",
          "name": "stdout",
          "text": [
            "\u001b[1m1/1\u001b[0m \u001b[32m━━━━━━━━━━━━━━━━━━━━\u001b[0m\u001b[37m\u001b[0m \u001b[1m0s\u001b[0m 24ms/step\n"
          ]
        },
        {
          "output_type": "execute_result",
          "data": {
            "text/plain": [
              "array(['Ankle boot', 'Pullover', 'Trouser'], dtype='<U11')"
            ]
          },
          "metadata": {},
          "execution_count": 37
        }
      ],
      "source": [
        "y_pred = model.predict(X_new)\n",
        "np.array(class_names)[np.argmax(y_pred, axis=1)]"
      ]
    },
    {
      "cell_type": "code",
      "execution_count": null,
      "metadata": {
        "colab": {
          "base_uri": "https://localhost:8080/"
        },
        "id": "BO5LWnRghqnd",
        "outputId": "fe605843-53fa-40b7-cf1b-7678fac3282e",
        "scrolled": true
      },
      "outputs": [
        {
          "output_type": "execute_result",
          "data": {
            "text/plain": [
              "array(['Ankle boot', 'Pullover', 'Trouser'], dtype='<U11')"
            ]
          },
          "metadata": {},
          "execution_count": 38
        }
      ],
      "source": [
        "np.array(class_names)[y_test[:3]]"
      ]
    },
    {
      "cell_type": "code",
      "execution_count": null,
      "metadata": {
        "colab": {
          "base_uri": "https://localhost:8080/",
          "height": 224
        },
        "id": "UV60WMEhhqnd",
        "outputId": "f918f710-7e9d-4ffa-bcea-b6e54d8ccd13",
        "scrolled": true
      },
      "outputs": [
        {
          "output_type": "display_data",
          "data": {
            "text/plain": [
              "<Figure size 720x240 with 3 Axes>"
            ],
            "image/png": "[encoded data removed]"
          },
          "metadata": {}
        }
      ],
      "source": [
        "plt.figure(figsize=(7.2, 2.4))\n",
        "for index, image in enumerate(X_new):\n",
        "    plt.subplot(1, 3, index + 1)\n",
        "    plt.imshow(image, cmap=\"binary\", interpolation=\"nearest\")\n",
        "    plt.axis('off')\n",
        "    plt.title(class_names[y_test[index]])\n",
        "plt.subplots_adjust(wspace=0.2, hspace=0.5)\n",
        "plt.show()\n"
      ]
    },
    {
      "cell_type": "markdown",
      "metadata": {
        "id": "cICICE8_hqnd"
      },
      "source": [
        "# Building a Regression MLP using the Sequential API"
      ]
    },
    {
      "cell_type": "markdown",
      "metadata": {
        "id": "K-zx2kK-hqnd"
      },
      "source": [
        "Let's load, split and scale the California housing dataset (the original one, not the modified one as in chapter 2):"
      ]
    },
    {
      "cell_type": "code",
      "execution_count": null,
      "metadata": {
        "id": "gGAzH8Fvhqne",
        "scrolled": true
      },
      "outputs": [],
      "source": [
        "from sklearn.datasets import fetch_california_housing\n",
        "from sklearn.model_selection import train_test_split\n",
        "from sklearn.preprocessing import StandardScaler\n",
        "\n",
        "housing = fetch_california_housing()\n",
        "\n",
        "X_train_full, X_test, y_train_full, y_test = train_test_split(housing.data, housing.target, random_state=42)\n",
        "X_train, X_valid, y_train, y_valid = train_test_split(X_train_full, y_train_full, random_state=42)"
      ]
    },
    {
      "cell_type": "markdown",
      "metadata": {
        "id": "YXXj72wrhqne"
      },
      "source": [
        "Using the Sequential API to build, train, evaluate, and use a regression MLP to make predictions is quite similar to what we did for classification.\n",
        "\n",
        "The main differences are:\n",
        "* the output layer has a single neuron and uses no activation function\n",
        "* the loss function is the mean squared error.\n",
        "* use a single hidden layer with fewer neurons than before, to avoid overfitting"
      ]
    },
    {
      "cell_type": "code",
      "execution_count": null,
      "metadata": {
        "colab": {
          "base_uri": "https://localhost:8080/"
        },
        "id": "f9MlGT-0hqne",
        "outputId": "27c32cb6-2aa0-4fe3-8872-95f0464901a2",
        "scrolled": true
      },
      "outputs": [
        {
          "output_type": "stream",
          "name": "stdout",
          "text": [
            "Epoch 1/20\n"
          ]
        },
        {
          "output_type": "stream",
          "name": "stderr",
          "text": [
            "/usr/local/lib/python3.11/dist-packages/keras/src/layers/preprocessing/tf_data_layer.py:19: UserWarning: Do not pass an `input_shape`/`input_dim` argument to a layer. When using Sequential models, prefer using an `Input(shape)` object as the first layer in the model instead.\n",
            "  super().__init__(**kwargs)\n"
          ]
        },
        {
          "output_type": "stream",
          "name": "stdout",
          "text": [
            "\u001b[1m363/363\u001b[0m \u001b[32m━━━━━━━━━━━━━━━━━━━━\u001b[0m\u001b[37m\u001b[0m \u001b[1m2s\u001b[0m 3ms/step - RootMeanSquaredError: 1.3606 - loss: 1.9995 - val_RootMeanSquaredError: 0.6807 - val_loss: 0.4633\n",
            "Epoch 2/20\n",
            "\u001b[1m363/363\u001b[0m \u001b[32m━━━━━━━━━━━━━━━━━━━━\u001b[0m\u001b[37m\u001b[0m \u001b[1m1s\u001b[0m 2ms/step - RootMeanSquaredError: 0.6334 - loss: 0.4018 - val_RootMeanSquaredError: 0.5884 - val_loss: 0.3462\n",
            "Epoch 3/20\n",
            "\u001b[1m363/363\u001b[0m \u001b[32m━━━━━━━━━━━━━━━━━━━━\u001b[0m\u001b[37m\u001b[0m \u001b[1m1s\u001b[0m 2ms/step - RootMeanSquaredError: 0.6009 - loss: 0.3613 - val_RootMeanSquaredError: 0.6088 - val_loss: 0.3707\n",
            "Epoch 4/20\n",
            "\u001b[1m363/363\u001b[0m \u001b[32m━━━━━━━━━━━━━━━━━━━━\u001b[0m\u001b[37m\u001b[0m \u001b[1m1s\u001b[0m 2ms/step - RootMeanSquaredError: 0.5879 - loss: 0.3458 - val_RootMeanSquaredError: 0.6444 - val_loss: 0.4152\n",
            "Epoch 5/20\n",
            "\u001b[1m363/363\u001b[0m \u001b[32m━━━━━━━━━━━━━━━━━━━━\u001b[0m\u001b[37m\u001b[0m \u001b[1m1s\u001b[0m 2ms/step - RootMeanSquaredError: 0.5787 - loss: 0.3350 - val_RootMeanSquaredError: 0.6635 - val_loss: 0.4403\n",
            "Epoch 6/20\n",
            "\u001b[1m363/363\u001b[0m \u001b[32m━━━━━━━━━━━━━━━━━━━━\u001b[0m\u001b[37m\u001b[0m \u001b[1m1s\u001b[0m 2ms/step - RootMeanSquaredError: 0.5696 - loss: 0.3246 - val_RootMeanSquaredError: 0.5840 - val_loss: 0.3411\n",
            "Epoch 7/20\n",
            "\u001b[1m363/363\u001b[0m \u001b[32m━━━━━━━━━━━━━━━━━━━━\u001b[0m\u001b[37m\u001b[0m \u001b[1m1s\u001b[0m 2ms/step - RootMeanSquaredError: 0.5647 - loss: 0.3189 - val_RootMeanSquaredError: 0.7173 - val_loss: 0.5146\n",
            "Epoch 8/20\n",
            "\u001b[1m363/363\u001b[0m \u001b[32m━━━━━━━━━━━━━━━━━━━━\u001b[0m\u001b[37m\u001b[0m \u001b[1m1s\u001b[0m 2ms/step - RootMeanSquaredError: 0.5577 - loss: 0.3111 - val_RootMeanSquaredError: 0.6411 - val_loss: 0.4110\n",
            "Epoch 9/20\n",
            "\u001b[1m363/363\u001b[0m \u001b[32m━━━━━━━━━━━━━━━━━━━━\u001b[0m\u001b[37m\u001b[0m \u001b[1m1s\u001b[0m 2ms/step - RootMeanSquaredError: 0.5533 - loss: 0.3063 - val_RootMeanSquaredError: 0.8145 - val_loss: 0.6635\n",
            "Epoch 10/20\n",
            "\u001b[1m363/363\u001b[0m \u001b[32m━━━━━━━━━━━━━━━━━━━━\u001b[0m\u001b[37m\u001b[0m \u001b[1m1s\u001b[0m 2ms/step - RootMeanSquaredError: 0.5513 - loss: 0.3039 - val_RootMeanSquaredError: 0.9259 - val_loss: 0.8573\n",
            "Epoch 11/20\n",
            "\u001b[1m363/363\u001b[0m \u001b[32m━━━━━━━━━━━━━━━━━━━━\u001b[0m\u001b[37m\u001b[0m \u001b[1m2s\u001b[0m 3ms/step - RootMeanSquaredError: 0.5476 - loss: 0.2999 - val_RootMeanSquaredError: 1.0648 - val_loss: 1.1339\n",
            "Epoch 12/20\n",
            "\u001b[1m363/363\u001b[0m \u001b[32m━━━━━━━━━━━━━━━━━━━━\u001b[0m\u001b[37m\u001b[0m \u001b[1m1s\u001b[0m 2ms/step - RootMeanSquaredError: 0.5455 - loss: 0.2976 - val_RootMeanSquaredError: 0.9782 - val_loss: 0.9569\n",
            "Epoch 13/20\n",
            "\u001b[1m363/363\u001b[0m \u001b[32m━━━━━━━━━━━━━━━━━━━━\u001b[0m\u001b[37m\u001b[0m \u001b[1m1s\u001b[0m 2ms/step - RootMeanSquaredError: 0.5419 - loss: 0.2937 - val_RootMeanSquaredError: 0.9381 - val_loss: 0.8800\n",
            "Epoch 14/20\n",
            "\u001b[1m363/363\u001b[0m \u001b[32m━━━━━━━━━━━━━━━━━━━━\u001b[0m\u001b[37m\u001b[0m \u001b[1m1s\u001b[0m 2ms/step - RootMeanSquaredError: 0.5384 - loss: 0.2900 - val_RootMeanSquaredError: 0.6408 - val_loss: 0.4106\n",
            "Epoch 15/20\n",
            "\u001b[1m363/363\u001b[0m \u001b[32m━━━━━━━━━━━━━━━━━━━━\u001b[0m\u001b[37m\u001b[0m \u001b[1m1s\u001b[0m 2ms/step - RootMeanSquaredError: 0.5350 - loss: 0.2863 - val_RootMeanSquaredError: 0.6019 - val_loss: 0.3623\n",
            "Epoch 16/20\n",
            "\u001b[1m363/363\u001b[0m \u001b[32m━━━━━━━━━━━━━━━━━━━━\u001b[0m\u001b[37m\u001b[0m \u001b[1m1s\u001b[0m 2ms/step - RootMeanSquaredError: 0.5306 - loss: 0.2816 - val_RootMeanSquaredError: 0.5363 - val_loss: 0.2876\n",
            "Epoch 17/20\n",
            "\u001b[1m363/363\u001b[0m \u001b[32m━━━━━━━━━━━━━━━━━━━━\u001b[0m\u001b[37m\u001b[0m \u001b[1m1s\u001b[0m 2ms/step - RootMeanSquaredError: 0.5279 - loss: 0.2787 - val_RootMeanSquaredError: 0.5499 - val_loss: 0.3024\n",
            "Epoch 18/20\n",
            "\u001b[1m363/363\u001b[0m \u001b[32m━━━━━━━━━━━━━━━━━━━━\u001b[0m\u001b[37m\u001b[0m \u001b[1m1s\u001b[0m 2ms/step - RootMeanSquaredError: 0.5259 - loss: 0.2767 - val_RootMeanSquaredError: 0.5257 - val_loss: 0.2764\n",
            "Epoch 19/20\n",
            "\u001b[1m363/363\u001b[0m \u001b[32m━━━━━━━━━━━━━━━━━━━━\u001b[0m\u001b[37m\u001b[0m \u001b[1m1s\u001b[0m 2ms/step - RootMeanSquaredError: 0.5229 - loss: 0.2736 - val_RootMeanSquaredError: 0.5237 - val_loss: 0.2742\n",
            "Epoch 20/20\n",
            "\u001b[1m363/363\u001b[0m \u001b[32m━━━━━━━━━━━━━━━━━━━━\u001b[0m\u001b[37m\u001b[0m \u001b[1m1s\u001b[0m 2ms/step - RootMeanSquaredError: 0.5217 - loss: 0.2723 - val_RootMeanSquaredError: 0.5537 - val_loss: 0.3066\n",
            "\u001b[1m162/162\u001b[0m \u001b[32m━━━━━━━━━━━━━━━━━━━━\u001b[0m\u001b[37m\u001b[0m \u001b[1m0s\u001b[0m 1ms/step - RootMeanSquaredError: 0.5275 - loss: 0.2784  \n",
            "\u001b[1m1/1\u001b[0m \u001b[32m━━━━━━━━━━━━━━━━━━━━\u001b[0m\u001b[37m\u001b[0m \u001b[1m0s\u001b[0m 57ms/step\n"
          ]
        }
      ],
      "source": [
        "tf.random.set_seed(42)\n",
        "# create model\n",
        "norm_layer = tf.keras.layers.Normalization(input_shape=X_train.shape[1:])\n",
        "model = keras.Sequential([\n",
        "    norm_layer,\n",
        "    tf.keras.layers.Dense(50, activation=\"relu\"),\n",
        "    tf.keras.layers.Dense(50, activation=\"relu\"),\n",
        "    tf.keras.layers.Dense(50, activation=\"relu\"),\n",
        "    tf.keras.layers.Dense(1)\n",
        "])\n",
        "# compile\n",
        "optimizer = tf.keras.optimizers.Adam(learning_rate=1e-3)\n",
        "model.compile(loss=\"mse\", optimizer=optimizer, metrics=[\"RootMeanSquaredError\"])\n",
        "\n",
        "# train\n",
        "norm_layer.adapt(X_train)\n",
        "history = model.fit(X_train, y_train, epochs=20, validation_data=(X_valid, y_valid))\n",
        "\n",
        "# predict\n",
        "mse_test, rmse_test = model.evaluate(X_test, y_test)\n",
        "X_new = X_test[:3]\n",
        "y_pred = model.predict(X_new)"
      ]
    },
    {
      "cell_type": "code",
      "source": [
        "print(rmse_test)\n",
        "print(y_pred)"
      ],
      "metadata": {
        "colab": {
          "base_uri": "https://localhost:8080/"
        },
        "id": "4-6xzeZrEqOd",
        "outputId": "e948ed93-8d37-4d3b-efb0-c3d940d496af"
      },
      "execution_count": null,
      "outputs": [
        {
          "output_type": "stream",
          "name": "stdout",
          "text": [
            "0.5332791209220886\n",
            "[[0.436885]\n",
            " [1.199105]\n",
            " [4.986472]]\n"
          ]
        }
      ]
    },
    {
      "cell_type": "code",
      "execution_count": null,
      "metadata": {
        "colab": {
          "base_uri": "https://localhost:8080/",
          "height": 455
        },
        "id": "t1_ff-64hqne",
        "outputId": "d8374a2f-f58b-469d-a886-83f55e083db0",
        "scrolled": true
      },
      "outputs": [
        {
          "output_type": "display_data",
          "data": {
            "text/plain": [
              "<Figure size 640x480 with 1 Axes>"
            ],
            "image/png": "[encoded data removed]"
          },
          "metadata": {}
        }
      ],
      "source": [
        "df = pd.DataFrame(history.history)\n",
        "df.plot()\n",
        "plt.grid(True)\n",
        "plt.xlabel('Training epoch #', fontsize = 15)\n",
        "plt.ylabel('Metrics value', fontsize = 15)\n",
        "plt.legend(fontsize = 12)\n",
        "plt.show()"
      ]
    },
    {
      "cell_type": "markdown",
      "metadata": {
        "id": "5vEZAuI9hqnf"
      },
      "source": [
        "# Building Complex Models using the Functional API"
      ]
    },
    {
      "cell_type": "markdown",
      "metadata": {
        "id": "JFheRjcvhqnf"
      },
      "source": [
        "Not all neural network models are simply sequential. Some may have complex topologies. Some may have multiple inputs and/or multiple outputs. For example, a Wide & Deep neural network (see [paper](https://ai.google/research/pubs/pub45413)) connects all or part of the inputs directly to the output layer.\n",
        "\n",
        "\n",
        "\n",
        "<img src=\"https://drive.google.com/uc?id=1WHJvxbVHU2cQAPKaha5QxR1LFXNYtZ9t\" width=\"200\">"
      ]
    },
    {
      "cell_type": "markdown",
      "metadata": {
        "id": "tNVP_m7Rhqnf"
      },
      "source": [
        "Build a neural network to tackle the California housing problem."
      ]
    },
    {
      "cell_type": "code",
      "source": [
        "tf.keras.backend.clear_session()\n",
        "tf.random.set_seed(42)"
      ],
      "metadata": {
        "id": "1ZpwxuCAE19m"
      },
      "execution_count": null,
      "outputs": []
    },
    {
      "cell_type": "code",
      "execution_count": null,
      "metadata": {
        "id": "PzGCafFRhqnf",
        "scrolled": true
      },
      "outputs": [],
      "source": [
        "normalization_layer = keras.layers.Normalization()\n",
        "hidden_layer1 = keras.layers.Dense(30, activation=\"relu\")\n",
        "hidden_layer2 = keras.layers.Dense(30, activation=\"relu\")\n",
        "concat_layer = keras.layers.Concatenate()\n",
        "output_layer = keras.layers.Dense(1)\n",
        "\n",
        "input_ = keras.layers.Input(shape=X_train.shape[1:])\n",
        "normalized = normalization_layer(input_)\n",
        "hidden1 = hidden_layer1(normalized)\n",
        "hidden2 = hidden_layer2(hidden1)\n",
        "concat = concat_layer([normalized, hidden2])\n",
        "output = output_layer(concat)\n",
        "\n",
        "model = tf.keras.Model(inputs=[input_], outputs=[output])"
      ]
    },
    {
      "cell_type": "code",
      "execution_count": null,
      "metadata": {
        "colab": {
          "base_uri": "https://localhost:8080/",
          "height": 364
        },
        "id": "WtLQ6ht3hqnf",
        "outputId": "64e0a75d-d1ad-455c-9420-872026298627",
        "scrolled": true
      },
      "outputs": [
        {
          "output_type": "display_data",
          "data": {
            "text/plain": [
              "\u001b[1mModel: \"functional\"\u001b[0m\n"
            ],
            "text/html": [
              "<pre style=\"white-space:pre;overflow-x:auto;line-height:normal;font-family:Menlo,'DejaVu Sans Mono',consolas,'Courier New',monospace\"><span style=\"font-weight: bold\">Model: \"functional\"</span>\n",
              "</pre>\n"
            ]
          },
          "metadata": {}
        },
        {
          "output_type": "display_data",
          "data": {
            "text/plain": [
              "┏━━━━━━━━━━━━━━━━━━━━━━━━━━━┳━━━━━━━━━━━━━━━━━━━━━━━━┳━━━━━━━━━━━━━━━━┳━━━━━━━━━━━━━━━━━━━━━━━━┓\n",
              "┃\u001b[1m \u001b[0m\u001b[1mLayer (type)             \u001b[0m\u001b[1m \u001b[0m┃\u001b[1m \u001b[0m\u001b[1mOutput Shape          \u001b[0m\u001b[1m \u001b[0m┃\u001b[1m \u001b[0m\u001b[1m       Param #\u001b[0m\u001b[1m \u001b[0m┃\u001b[1m \u001b[0m\u001b[1mConnected to          \u001b[0m\u001b[1m \u001b[0m┃\n",
              "┡━━━━━━━━━━━━━━━━━━━━━━━━━━━╇━━━━━━━━━━━━━━━━━━━━━━━━╇━━━━━━━━━━━━━━━━╇━━━━━━━━━━━━━━━━━━━━━━━━┩\n",
              "│ input_layer (\u001b[38;5;33mInputLayer\u001b[0m)  │ (\u001b[38;5;45mNone\u001b[0m, \u001b[38;5;34m8\u001b[0m)              │              \u001b[38;5;34m0\u001b[0m │ -                      │\n",
              "├───────────────────────────┼────────────────────────┼────────────────┼────────────────────────┤\n",
              "│ normalization             │ (\u001b[38;5;45mNone\u001b[0m, \u001b[38;5;34m8\u001b[0m)              │             \u001b[38;5;34m17\u001b[0m │ input_layer[\u001b[38;5;34m0\u001b[0m][\u001b[38;5;34m0\u001b[0m]      │\n",
              "│ (\u001b[38;5;33mNormalization\u001b[0m)           │                        │                │                        │\n",
              "├───────────────────────────┼────────────────────────┼────────────────┼────────────────────────┤\n",
              "│ dense (\u001b[38;5;33mDense\u001b[0m)             │ (\u001b[38;5;45mNone\u001b[0m, \u001b[38;5;34m30\u001b[0m)             │            \u001b[38;5;34m270\u001b[0m │ normalization[\u001b[38;5;34m0\u001b[0m][\u001b[38;5;34m0\u001b[0m]    │\n",
              "├───────────────────────────┼────────────────────────┼────────────────┼────────────────────────┤\n",
              "│ dense_1 (\u001b[38;5;33mDense\u001b[0m)           │ (\u001b[38;5;45mNone\u001b[0m, \u001b[38;5;34m30\u001b[0m)             │            \u001b[38;5;34m930\u001b[0m │ dense[\u001b[38;5;34m0\u001b[0m][\u001b[38;5;34m0\u001b[0m]            │\n",
              "├───────────────────────────┼────────────────────────┼────────────────┼────────────────────────┤\n",
              "│ concatenate (\u001b[38;5;33mConcatenate\u001b[0m) │ (\u001b[38;5;45mNone\u001b[0m, \u001b[38;5;34m38\u001b[0m)             │              \u001b[38;5;34m0\u001b[0m │ normalization[\u001b[38;5;34m0\u001b[0m][\u001b[38;5;34m0\u001b[0m],   │\n",
              "│                           │                        │                │ dense_1[\u001b[38;5;34m0\u001b[0m][\u001b[38;5;34m0\u001b[0m]          │\n",
              "├───────────────────────────┼────────────────────────┼────────────────┼────────────────────────┤\n",
              "│ dense_2 (\u001b[38;5;33mDense\u001b[0m)           │ (\u001b[38;5;45mNone\u001b[0m, \u001b[38;5;34m1\u001b[0m)              │             \u001b[38;5;34m39\u001b[0m │ concatenate[\u001b[38;5;34m0\u001b[0m][\u001b[38;5;34m0\u001b[0m]      │\n",
              "└───────────────────────────┴────────────────────────┴────────────────┴────────────────────────┘\n"
            ],
            "text/html": [
              "<pre style=\"white-space:pre;overflow-x:auto;line-height:normal;font-family:Menlo,'DejaVu Sans Mono',consolas,'Courier New',monospace\">┏━━━━━━━━━━━━━━━━━━━━━━━━━━━┳━━━━━━━━━━━━━━━━━━━━━━━━┳━━━━━━━━━━━━━━━━┳━━━━━━━━━━━━━━━━━━━━━━━━┓\n",
              "┃<span style=\"font-weight: bold\"> Layer (type)              </span>┃<span style=\"font-weight: bold\"> Output Shape           </span>┃<span style=\"font-weight: bold\">        Param # </span>┃<span style=\"font-weight: bold\"> Connected to           </span>┃\n",
              "┡━━━━━━━━━━━━━━━━━━━━━━━━━━━╇━━━━━━━━━━━━━━━━━━━━━━━━╇━━━━━━━━━━━━━━━━╇━━━━━━━━━━━━━━━━━━━━━━━━┩\n",
              "│ input_layer (<span style=\"color: #0087ff; text-decoration-color: #0087ff\">InputLayer</span>)  │ (<span style=\"color: #00d7ff; text-decoration-color: #00d7ff\">None</span>, <span style=\"color: #00af00; text-decoration-color: #00af00\">8</span>)              │              <span style=\"color: #00af00; text-decoration-color: #00af00\">0</span> │ -                      │\n",
              "├───────────────────────────┼────────────────────────┼────────────────┼────────────────────────┤\n",
              "│ normalization             │ (<span style=\"color: #00d7ff; text-decoration-color: #00d7ff\">None</span>, <span style=\"color: #00af00; text-decoration-color: #00af00\">8</span>)              │             <span style=\"color: #00af00; text-decoration-color: #00af00\">17</span> │ input_layer[<span style=\"color: #00af00; text-decoration-color: #00af00\">0</span>][<span style=\"color: #00af00; text-decoration-color: #00af00\">0</span>]      │\n",
              "│ (<span style=\"color: #0087ff; text-decoration-color: #0087ff\">Normalization</span>)           │                        │                │                        │\n",
              "├───────────────────────────┼────────────────────────┼────────────────┼────────────────────────┤\n",
              "│ dense (<span style=\"color: #0087ff; text-decoration-color: #0087ff\">Dense</span>)             │ (<span style=\"color: #00d7ff; text-decoration-color: #00d7ff\">None</span>, <span style=\"color: #00af00; text-decoration-color: #00af00\">30</span>)             │            <span style=\"color: #00af00; text-decoration-color: #00af00\">270</span> │ normalization[<span style=\"color: #00af00; text-decoration-color: #00af00\">0</span>][<span style=\"color: #00af00; text-decoration-color: #00af00\">0</span>]    │\n",
              "├───────────────────────────┼────────────────────────┼────────────────┼────────────────────────┤\n",
              "│ dense_1 (<span style=\"color: #0087ff; text-decoration-color: #0087ff\">Dense</span>)           │ (<span style=\"color: #00d7ff; text-decoration-color: #00d7ff\">None</span>, <span style=\"color: #00af00; text-decoration-color: #00af00\">30</span>)             │            <span style=\"color: #00af00; text-decoration-color: #00af00\">930</span> │ dense[<span style=\"color: #00af00; text-decoration-color: #00af00\">0</span>][<span style=\"color: #00af00; text-decoration-color: #00af00\">0</span>]            │\n",
              "├───────────────────────────┼────────────────────────┼────────────────┼────────────────────────┤\n",
              "│ concatenate (<span style=\"color: #0087ff; text-decoration-color: #0087ff\">Concatenate</span>) │ (<span style=\"color: #00d7ff; text-decoration-color: #00d7ff\">None</span>, <span style=\"color: #00af00; text-decoration-color: #00af00\">38</span>)             │              <span style=\"color: #00af00; text-decoration-color: #00af00\">0</span> │ normalization[<span style=\"color: #00af00; text-decoration-color: #00af00\">0</span>][<span style=\"color: #00af00; text-decoration-color: #00af00\">0</span>],   │\n",
              "│                           │                        │                │ dense_1[<span style=\"color: #00af00; text-decoration-color: #00af00\">0</span>][<span style=\"color: #00af00; text-decoration-color: #00af00\">0</span>]          │\n",
              "├───────────────────────────┼────────────────────────┼────────────────┼────────────────────────┤\n",
              "│ dense_2 (<span style=\"color: #0087ff; text-decoration-color: #0087ff\">Dense</span>)           │ (<span style=\"color: #00d7ff; text-decoration-color: #00d7ff\">None</span>, <span style=\"color: #00af00; text-decoration-color: #00af00\">1</span>)              │             <span style=\"color: #00af00; text-decoration-color: #00af00\">39</span> │ concatenate[<span style=\"color: #00af00; text-decoration-color: #00af00\">0</span>][<span style=\"color: #00af00; text-decoration-color: #00af00\">0</span>]      │\n",
              "└───────────────────────────┴────────────────────────┴────────────────┴────────────────────────┘\n",
              "</pre>\n"
            ]
          },
          "metadata": {}
        },
        {
          "output_type": "display_data",
          "data": {
            "text/plain": [
              "\u001b[1m Total params: \u001b[0m\u001b[38;5;34m1,256\u001b[0m (4.91 KB)\n"
            ],
            "text/html": [
              "<pre style=\"white-space:pre;overflow-x:auto;line-height:normal;font-family:Menlo,'DejaVu Sans Mono',consolas,'Courier New',monospace\"><span style=\"font-weight: bold\"> Total params: </span><span style=\"color: #00af00; text-decoration-color: #00af00\">1,256</span> (4.91 KB)\n",
              "</pre>\n"
            ]
          },
          "metadata": {}
        },
        {
          "output_type": "display_data",
          "data": {
            "text/plain": [
              "\u001b[1m Trainable params: \u001b[0m\u001b[38;5;34m1,239\u001b[0m (4.84 KB)\n"
            ],
            "text/html": [
              "<pre style=\"white-space:pre;overflow-x:auto;line-height:normal;font-family:Menlo,'DejaVu Sans Mono',consolas,'Courier New',monospace\"><span style=\"font-weight: bold\"> Trainable params: </span><span style=\"color: #00af00; text-decoration-color: #00af00\">1,239</span> (4.84 KB)\n",
              "</pre>\n"
            ]
          },
          "metadata": {}
        },
        {
          "output_type": "display_data",
          "data": {
            "text/plain": [
              "\u001b[1m Non-trainable params: \u001b[0m\u001b[38;5;34m17\u001b[0m (72.00 B)\n"
            ],
            "text/html": [
              "<pre style=\"white-space:pre;overflow-x:auto;line-height:normal;font-family:Menlo,'DejaVu Sans Mono',consolas,'Courier New',monospace\"><span style=\"font-weight: bold\"> Non-trainable params: </span><span style=\"color: #00af00; text-decoration-color: #00af00\">17</span> (72.00 B)\n",
              "</pre>\n"
            ]
          },
          "metadata": {}
        }
      ],
      "source": [
        "model.summary()"
      ]
    },
    {
      "cell_type": "code",
      "execution_count": null,
      "metadata": {
        "colab": {
          "base_uri": "https://localhost:8080/"
        },
        "id": "a-XjPlrghqng",
        "outputId": "00dde8b8-135a-47e2-af12-1e2545d55820",
        "scrolled": true
      },
      "outputs": [
        {
          "output_type": "stream",
          "name": "stdout",
          "text": [
            "Epoch 1/20\n"
          ]
        },
        {
          "output_type": "stream",
          "name": "stderr",
          "text": [
            "/usr/local/lib/python3.11/dist-packages/keras/src/models/functional.py:237: UserWarning: The structure of `inputs` doesn't match the expected structure.\n",
            "Expected: ['keras_tensor']\n",
            "Received: inputs=Tensor(shape=(None, 8))\n",
            "  warnings.warn(msg)\n"
          ]
        },
        {
          "output_type": "stream",
          "name": "stdout",
          "text": [
            "\u001b[1m363/363\u001b[0m \u001b[32m━━━━━━━━━━━━━━━━━━━━\u001b[0m\u001b[37m\u001b[0m \u001b[1m1s\u001b[0m 2ms/step - RootMeanSquaredError: 1.8573 - loss: 3.6228 - val_RootMeanSquaredError: 0.8415 - val_loss: 0.7081\n",
            "Epoch 2/20\n",
            "\u001b[1m363/363\u001b[0m \u001b[32m━━━━━━━━━━━━━━━━━━━━\u001b[0m\u001b[37m\u001b[0m \u001b[1m1s\u001b[0m 2ms/step - RootMeanSquaredError: 0.7444 - loss: 0.5564 - val_RootMeanSquaredError: 0.6699 - val_loss: 0.4488\n",
            "Epoch 3/20\n",
            "\u001b[1m363/363\u001b[0m \u001b[32m━━━━━━━━━━━━━━━━━━━━\u001b[0m\u001b[37m\u001b[0m \u001b[1m2s\u001b[0m 3ms/step - RootMeanSquaredError: 0.6595 - loss: 0.4356 - val_RootMeanSquaredError: 0.6155 - val_loss: 0.3788\n",
            "Epoch 4/20\n",
            "\u001b[1m363/363\u001b[0m \u001b[32m━━━━━━━━━━━━━━━━━━━━\u001b[0m\u001b[37m\u001b[0m \u001b[1m1s\u001b[0m 2ms/step - RootMeanSquaredError: 0.6326 - loss: 0.4005 - val_RootMeanSquaredError: 0.5989 - val_loss: 0.3587\n",
            "Epoch 5/20\n",
            "\u001b[1m363/363\u001b[0m \u001b[32m━━━━━━━━━━━━━━━━━━━━\u001b[0m\u001b[37m\u001b[0m \u001b[1m1s\u001b[0m 2ms/step - RootMeanSquaredError: 0.6191 - loss: 0.3835 - val_RootMeanSquaredError: 0.5985 - val_loss: 0.3582\n",
            "Epoch 6/20\n",
            "\u001b[1m363/363\u001b[0m \u001b[32m━━━━━━━━━━━━━━━━━━━━\u001b[0m\u001b[37m\u001b[0m \u001b[1m1s\u001b[0m 2ms/step - RootMeanSquaredError: 0.6099 - loss: 0.3722 - val_RootMeanSquaredError: 0.6520 - val_loss: 0.4251\n",
            "Epoch 7/20\n",
            "\u001b[1m363/363\u001b[0m \u001b[32m━━━━━━━━━━━━━━━━━━━━\u001b[0m\u001b[37m\u001b[0m \u001b[1m1s\u001b[0m 2ms/step - RootMeanSquaredError: 0.6032 - loss: 0.3641 - val_RootMeanSquaredError: 0.5757 - val_loss: 0.3314\n",
            "Epoch 8/20\n",
            "\u001b[1m363/363\u001b[0m \u001b[32m━━━━━━━━━━━━━━━━━━━━\u001b[0m\u001b[37m\u001b[0m \u001b[1m1s\u001b[0m 2ms/step - RootMeanSquaredError: 0.5977 - loss: 0.3575 - val_RootMeanSquaredError: 0.9244 - val_loss: 0.8545\n",
            "Epoch 9/20\n",
            "\u001b[1m363/363\u001b[0m \u001b[32m━━━━━━━━━━━━━━━━━━━━\u001b[0m\u001b[37m\u001b[0m \u001b[1m1s\u001b[0m 2ms/step - RootMeanSquaredError: 0.5939 - loss: 0.3529 - val_RootMeanSquaredError: 1.4351 - val_loss: 2.0596\n",
            "Epoch 10/20\n",
            "\u001b[1m363/363\u001b[0m \u001b[32m━━━━━━━━━━━━━━━━━━━━\u001b[0m\u001b[37m\u001b[0m \u001b[1m1s\u001b[0m 2ms/step - RootMeanSquaredError: 0.5925 - loss: 0.3512 - val_RootMeanSquaredError: 0.8009 - val_loss: 0.6414\n",
            "Epoch 11/20\n",
            "\u001b[1m363/363\u001b[0m \u001b[32m━━━━━━━━━━━━━━━━━━━━\u001b[0m\u001b[37m\u001b[0m \u001b[1m1s\u001b[0m 2ms/step - RootMeanSquaredError: 0.5867 - loss: 0.3444 - val_RootMeanSquaredError: 0.9577 - val_loss: 0.9172\n",
            "Epoch 12/20\n",
            "\u001b[1m363/363\u001b[0m \u001b[32m━━━━━━━━━━━━━━━━━━━━\u001b[0m\u001b[37m\u001b[0m \u001b[1m1s\u001b[0m 2ms/step - RootMeanSquaredError: 0.5828 - loss: 0.3398 - val_RootMeanSquaredError: 0.6314 - val_loss: 0.3987\n",
            "Epoch 13/20\n",
            "\u001b[1m363/363\u001b[0m \u001b[32m━━━━━━━━━━━━━━━━━━━━\u001b[0m\u001b[37m\u001b[0m \u001b[1m1s\u001b[0m 2ms/step - RootMeanSquaredError: 0.5776 - loss: 0.3337 - val_RootMeanSquaredError: 0.7201 - val_loss: 0.5186\n",
            "Epoch 14/20\n",
            "\u001b[1m363/363\u001b[0m \u001b[32m━━━━━━━━━━━━━━━━━━━━\u001b[0m\u001b[37m\u001b[0m \u001b[1m1s\u001b[0m 2ms/step - RootMeanSquaredError: 0.5756 - loss: 0.3314 - val_RootMeanSquaredError: 0.5892 - val_loss: 0.3472\n",
            "Epoch 15/20\n",
            "\u001b[1m363/363\u001b[0m \u001b[32m━━━━━━━━━━━━━━━━━━━━\u001b[0m\u001b[37m\u001b[0m \u001b[1m1s\u001b[0m 2ms/step - RootMeanSquaredError: 0.5733 - loss: 0.3288 - val_RootMeanSquaredError: 0.7185 - val_loss: 0.5162\n",
            "Epoch 16/20\n",
            "\u001b[1m363/363\u001b[0m \u001b[32m━━━━━━━━━━━━━━━━━━━━\u001b[0m\u001b[37m\u001b[0m \u001b[1m1s\u001b[0m 2ms/step - RootMeanSquaredError: 0.5704 - loss: 0.3254 - val_RootMeanSquaredError: 0.8898 - val_loss: 0.7917\n",
            "Epoch 17/20\n",
            "\u001b[1m363/363\u001b[0m \u001b[32m━━━━━━━━━━━━━━━━━━━━\u001b[0m\u001b[37m\u001b[0m \u001b[1m1s\u001b[0m 3ms/step - RootMeanSquaredError: 0.5687 - loss: 0.3235 - val_RootMeanSquaredError: 0.8719 - val_loss: 0.7602\n",
            "Epoch 18/20\n",
            "\u001b[1m363/363\u001b[0m \u001b[32m━━━━━━━━━━━━━━━━━━━━\u001b[0m\u001b[37m\u001b[0m \u001b[1m1s\u001b[0m 2ms/step - RootMeanSquaredError: 0.5652 - loss: 0.3196 - val_RootMeanSquaredError: 0.6424 - val_loss: 0.4126\n",
            "Epoch 19/20\n",
            "\u001b[1m363/363\u001b[0m \u001b[32m━━━━━━━━━━━━━━━━━━━━\u001b[0m\u001b[37m\u001b[0m \u001b[1m1s\u001b[0m 2ms/step - RootMeanSquaredError: 0.5615 - loss: 0.3154 - val_RootMeanSquaredError: 0.8714 - val_loss: 0.7593\n",
            "Epoch 20/20\n",
            "\u001b[1m363/363\u001b[0m \u001b[32m━━━━━━━━━━━━━━━━━━━━\u001b[0m\u001b[37m\u001b[0m \u001b[1m1s\u001b[0m 2ms/step - RootMeanSquaredError: 0.5596 - loss: 0.3132 - val_RootMeanSquaredError: 0.7323 - val_loss: 0.5363\n",
            "\u001b[1m162/162\u001b[0m \u001b[32m━━━━━━━━━━━━━━━━━━━━\u001b[0m\u001b[37m\u001b[0m \u001b[1m0s\u001b[0m 1ms/step - RootMeanSquaredError: 0.5549 - loss: 0.3081\n",
            "\u001b[1m1/1\u001b[0m \u001b[32m━━━━━━━━━━━━━━━━━━━━\u001b[0m\u001b[37m\u001b[0m \u001b[1m0s\u001b[0m 53ms/step\n"
          ]
        },
        {
          "output_type": "stream",
          "name": "stderr",
          "text": [
            "/usr/local/lib/python3.11/dist-packages/keras/src/models/functional.py:237: UserWarning: The structure of `inputs` doesn't match the expected structure.\n",
            "Expected: ['keras_tensor']\n",
            "Received: inputs=Tensor(shape=(3, 8))\n",
            "  warnings.warn(msg)\n"
          ]
        }
      ],
      "source": [
        "optimizer = keras.optimizers.Adam(learning_rate=1e-3)\n",
        "model.compile(loss=\"mse\", optimizer=optimizer, metrics=[\"RootMeanSquaredError\"])\n",
        "normalization_layer.adapt(X_train)\n",
        "history = model.fit(X_train, y_train, epochs=20, validation_data=(X_valid, y_valid))\n",
        "mse_test = model.evaluate(X_test, y_test)\n",
        "y_pred = model.predict(X_new)"
      ]
    },
    {
      "cell_type": "markdown",
      "metadata": {
        "id": "FY5bJbvmhqng"
      },
      "source": [
        "What if you want to send different subsets of input features through the wide or deep paths? We will send 5 features (features 0 to 4), and 6 through the deep path (features 2 to 7). Note that 3 features will go through both (features 2, 3 and 4).\n",
        "\n",
        "<img src=\"https://drive.google.com/uc?id=17j4DMUIX9eVeAZDn5k1hyD8Nhgc3NHnl\" width=\"200\">\n"
      ]
    },
    {
      "cell_type": "code",
      "execution_count": null,
      "metadata": {
        "id": "yf9SvcS0hqng",
        "scrolled": true
      },
      "outputs": [],
      "source": [
        "tf.random.set_seed(42)  # extra code\n",
        "\n",
        "input_wide = keras.layers.Input(shape=[5])  # features 0 to 4\n",
        "input_deep = keras.layers.Input(shape=[6])  # features 2 to 7\n",
        "norm_layer_wide = keras.layers.Normalization()\n",
        "norm_layer_deep = keras.layers.Normalization()\n",
        "norm_wide = norm_layer_wide(input_wide)\n",
        "norm_deep = norm_layer_deep(input_deep)\n",
        "hidden1 = keras.layers.Dense(30, activation=\"relu\")(norm_deep)\n",
        "hidden2 = keras.layers.Dense(30, activation=\"relu\")(hidden1)\n",
        "concat = keras.layers.concatenate([norm_wide, hidden2])\n",
        "output = keras.layers.Dense(1)(concat)\n",
        "model = keras.Model(inputs=[input_wide, input_deep], outputs=[output])"
      ]
    },
    {
      "cell_type": "code",
      "execution_count": null,
      "metadata": {
        "colab": {
          "base_uri": "https://localhost:8080/",
          "height": 479
        },
        "id": "2XxWOfS8hqng",
        "outputId": "c6a4bd97-b246-43f1-e22c-a1ce6eb69c4c",
        "scrolled": true
      },
      "outputs": [
        {
          "output_type": "display_data",
          "data": {
            "text/plain": [
              "\u001b[1mModel: \"functional_1\"\u001b[0m\n"
            ],
            "text/html": [
              "<pre style=\"white-space:pre;overflow-x:auto;line-height:normal;font-family:Menlo,'DejaVu Sans Mono',consolas,'Courier New',monospace\"><span style=\"font-weight: bold\">Model: \"functional_1\"</span>\n",
              "</pre>\n"
            ]
          },
          "metadata": {}
        },
        {
          "output_type": "display_data",
          "data": {
            "text/plain": [
              "┏━━━━━━━━━━━━━━━━━━━━━━━━━━━┳━━━━━━━━━━━━━━━━━━━━━━━━┳━━━━━━━━━━━━━━━━┳━━━━━━━━━━━━━━━━━━━━━━━━┓\n",
              "┃\u001b[1m \u001b[0m\u001b[1mLayer (type)             \u001b[0m\u001b[1m \u001b[0m┃\u001b[1m \u001b[0m\u001b[1mOutput Shape          \u001b[0m\u001b[1m \u001b[0m┃\u001b[1m \u001b[0m\u001b[1m       Param #\u001b[0m\u001b[1m \u001b[0m┃\u001b[1m \u001b[0m\u001b[1mConnected to          \u001b[0m\u001b[1m \u001b[0m┃\n",
              "┡━━━━━━━━━━━━━━━━━━━━━━━━━━━╇━━━━━━━━━━━━━━━━━━━━━━━━╇━━━━━━━━━━━━━━━━╇━━━━━━━━━━━━━━━━━━━━━━━━┩\n",
              "│ input_layer_2             │ (\u001b[38;5;45mNone\u001b[0m, \u001b[38;5;34m6\u001b[0m)              │              \u001b[38;5;34m0\u001b[0m │ -                      │\n",
              "│ (\u001b[38;5;33mInputLayer\u001b[0m)              │                        │                │                        │\n",
              "├───────────────────────────┼────────────────────────┼────────────────┼────────────────────────┤\n",
              "│ normalization_2           │ (\u001b[38;5;45mNone\u001b[0m, \u001b[38;5;34m6\u001b[0m)              │             \u001b[38;5;34m13\u001b[0m │ input_layer_2[\u001b[38;5;34m0\u001b[0m][\u001b[38;5;34m0\u001b[0m]    │\n",
              "│ (\u001b[38;5;33mNormalization\u001b[0m)           │                        │                │                        │\n",
              "├───────────────────────────┼────────────────────────┼────────────────┼────────────────────────┤\n",
              "│ input_layer_1             │ (\u001b[38;5;45mNone\u001b[0m, \u001b[38;5;34m5\u001b[0m)              │              \u001b[38;5;34m0\u001b[0m │ -                      │\n",
              "│ (\u001b[38;5;33mInputLayer\u001b[0m)              │                        │                │                        │\n",
              "├───────────────────────────┼────────────────────────┼────────────────┼────────────────────────┤\n",
              "│ dense_3 (\u001b[38;5;33mDense\u001b[0m)           │ (\u001b[38;5;45mNone\u001b[0m, \u001b[38;5;34m30\u001b[0m)             │            \u001b[38;5;34m210\u001b[0m │ normalization_2[\u001b[38;5;34m0\u001b[0m][\u001b[38;5;34m0\u001b[0m]  │\n",
              "├───────────────────────────┼────────────────────────┼────────────────┼────────────────────────┤\n",
              "│ normalization_1           │ (\u001b[38;5;45mNone\u001b[0m, \u001b[38;5;34m5\u001b[0m)              │             \u001b[38;5;34m11\u001b[0m │ input_layer_1[\u001b[38;5;34m0\u001b[0m][\u001b[38;5;34m0\u001b[0m]    │\n",
              "│ (\u001b[38;5;33mNormalization\u001b[0m)           │                        │                │                        │\n",
              "├───────────────────────────┼────────────────────────┼────────────────┼────────────────────────┤\n",
              "│ dense_4 (\u001b[38;5;33mDense\u001b[0m)           │ (\u001b[38;5;45mNone\u001b[0m, \u001b[38;5;34m30\u001b[0m)             │            \u001b[38;5;34m930\u001b[0m │ dense_3[\u001b[38;5;34m0\u001b[0m][\u001b[38;5;34m0\u001b[0m]          │\n",
              "├───────────────────────────┼────────────────────────┼────────────────┼────────────────────────┤\n",
              "│ concatenate_1             │ (\u001b[38;5;45mNone\u001b[0m, \u001b[38;5;34m35\u001b[0m)             │              \u001b[38;5;34m0\u001b[0m │ normalization_1[\u001b[38;5;34m0\u001b[0m][\u001b[38;5;34m0\u001b[0m], │\n",
              "│ (\u001b[38;5;33mConcatenate\u001b[0m)             │                        │                │ dense_4[\u001b[38;5;34m0\u001b[0m][\u001b[38;5;34m0\u001b[0m]          │\n",
              "├───────────────────────────┼────────────────────────┼────────────────┼────────────────────────┤\n",
              "│ dense_5 (\u001b[38;5;33mDense\u001b[0m)           │ (\u001b[38;5;45mNone\u001b[0m, \u001b[38;5;34m1\u001b[0m)              │             \u001b[38;5;34m36\u001b[0m │ concatenate_1[\u001b[38;5;34m0\u001b[0m][\u001b[38;5;34m0\u001b[0m]    │\n",
              "└───────────────────────────┴────────────────────────┴────────────────┴────────────────────────┘\n"
            ],
            "text/html": [
              "<pre style=\"white-space:pre;overflow-x:auto;line-height:normal;font-family:Menlo,'DejaVu Sans Mono',consolas,'Courier New',monospace\">┏━━━━━━━━━━━━━━━━━━━━━━━━━━━┳━━━━━━━━━━━━━━━━━━━━━━━━┳━━━━━━━━━━━━━━━━┳━━━━━━━━━━━━━━━━━━━━━━━━┓\n",
              "┃<span style=\"font-weight: bold\"> Layer (type)              </span>┃<span style=\"font-weight: bold\"> Output Shape           </span>┃<span style=\"font-weight: bold\">        Param # </span>┃<span style=\"font-weight: bold\"> Connected to           </span>┃\n",
              "┡━━━━━━━━━━━━━━━━━━━━━━━━━━━╇━━━━━━━━━━━━━━━━━━━━━━━━╇━━━━━━━━━━━━━━━━╇━━━━━━━━━━━━━━━━━━━━━━━━┩\n",
              "│ input_layer_2             │ (<span style=\"color: #00d7ff; text-decoration-color: #00d7ff\">None</span>, <span style=\"color: #00af00; text-decoration-color: #00af00\">6</span>)              │              <span style=\"color: #00af00; text-decoration-color: #00af00\">0</span> │ -                      │\n",
              "│ (<span style=\"color: #0087ff; text-decoration-color: #0087ff\">InputLayer</span>)              │                        │                │                        │\n",
              "├───────────────────────────┼────────────────────────┼────────────────┼────────────────────────┤\n",
              "│ normalization_2           │ (<span style=\"color: #00d7ff; text-decoration-color: #00d7ff\">None</span>, <span style=\"color: #00af00; text-decoration-color: #00af00\">6</span>)              │             <span style=\"color: #00af00; text-decoration-color: #00af00\">13</span> │ input_layer_2[<span style=\"color: #00af00; text-decoration-color: #00af00\">0</span>][<span style=\"color: #00af00; text-decoration-color: #00af00\">0</span>]    │\n",
              "│ (<span style=\"color: #0087ff; text-decoration-color: #0087ff\">Normalization</span>)           │                        │                │                        │\n",
              "├───────────────────────────┼────────────────────────┼────────────────┼────────────────────────┤\n",
              "│ input_layer_1             │ (<span style=\"color: #00d7ff; text-decoration-color: #00d7ff\">None</span>, <span style=\"color: #00af00; text-decoration-color: #00af00\">5</span>)              │              <span style=\"color: #00af00; text-decoration-color: #00af00\">0</span> │ -                      │\n",
              "│ (<span style=\"color: #0087ff; text-decoration-color: #0087ff\">InputLayer</span>)              │                        │                │                        │\n",
              "├───────────────────────────┼────────────────────────┼────────────────┼────────────────────────┤\n",
              "│ dense_3 (<span style=\"color: #0087ff; text-decoration-color: #0087ff\">Dense</span>)           │ (<span style=\"color: #00d7ff; text-decoration-color: #00d7ff\">None</span>, <span style=\"color: #00af00; text-decoration-color: #00af00\">30</span>)             │            <span style=\"color: #00af00; text-decoration-color: #00af00\">210</span> │ normalization_2[<span style=\"color: #00af00; text-decoration-color: #00af00\">0</span>][<span style=\"color: #00af00; text-decoration-color: #00af00\">0</span>]  │\n",
              "├───────────────────────────┼────────────────────────┼────────────────┼────────────────────────┤\n",
              "│ normalization_1           │ (<span style=\"color: #00d7ff; text-decoration-color: #00d7ff\">None</span>, <span style=\"color: #00af00; text-decoration-color: #00af00\">5</span>)              │             <span style=\"color: #00af00; text-decoration-color: #00af00\">11</span> │ input_layer_1[<span style=\"color: #00af00; text-decoration-color: #00af00\">0</span>][<span style=\"color: #00af00; text-decoration-color: #00af00\">0</span>]    │\n",
              "│ (<span style=\"color: #0087ff; text-decoration-color: #0087ff\">Normalization</span>)           │                        │                │                        │\n",
              "├───────────────────────────┼────────────────────────┼────────────────┼────────────────────────┤\n",
              "│ dense_4 (<span style=\"color: #0087ff; text-decoration-color: #0087ff\">Dense</span>)           │ (<span style=\"color: #00d7ff; text-decoration-color: #00d7ff\">None</span>, <span style=\"color: #00af00; text-decoration-color: #00af00\">30</span>)             │            <span style=\"color: #00af00; text-decoration-color: #00af00\">930</span> │ dense_3[<span style=\"color: #00af00; text-decoration-color: #00af00\">0</span>][<span style=\"color: #00af00; text-decoration-color: #00af00\">0</span>]          │\n",
              "├───────────────────────────┼────────────────────────┼────────────────┼────────────────────────┤\n",
              "│ concatenate_1             │ (<span style=\"color: #00d7ff; text-decoration-color: #00d7ff\">None</span>, <span style=\"color: #00af00; text-decoration-color: #00af00\">35</span>)             │              <span style=\"color: #00af00; text-decoration-color: #00af00\">0</span> │ normalization_1[<span style=\"color: #00af00; text-decoration-color: #00af00\">0</span>][<span style=\"color: #00af00; text-decoration-color: #00af00\">0</span>], │\n",
              "│ (<span style=\"color: #0087ff; text-decoration-color: #0087ff\">Concatenate</span>)             │                        │                │ dense_4[<span style=\"color: #00af00; text-decoration-color: #00af00\">0</span>][<span style=\"color: #00af00; text-decoration-color: #00af00\">0</span>]          │\n",
              "├───────────────────────────┼────────────────────────┼────────────────┼────────────────────────┤\n",
              "│ dense_5 (<span style=\"color: #0087ff; text-decoration-color: #0087ff\">Dense</span>)           │ (<span style=\"color: #00d7ff; text-decoration-color: #00d7ff\">None</span>, <span style=\"color: #00af00; text-decoration-color: #00af00\">1</span>)              │             <span style=\"color: #00af00; text-decoration-color: #00af00\">36</span> │ concatenate_1[<span style=\"color: #00af00; text-decoration-color: #00af00\">0</span>][<span style=\"color: #00af00; text-decoration-color: #00af00\">0</span>]    │\n",
              "└───────────────────────────┴────────────────────────┴────────────────┴────────────────────────┘\n",
              "</pre>\n"
            ]
          },
          "metadata": {}
        },
        {
          "output_type": "display_data",
          "data": {
            "text/plain": [
              "\u001b[1m Total params: \u001b[0m\u001b[38;5;34m1,200\u001b[0m (4.70 KB)\n"
            ],
            "text/html": [
              "<pre style=\"white-space:pre;overflow-x:auto;line-height:normal;font-family:Menlo,'DejaVu Sans Mono',consolas,'Courier New',monospace\"><span style=\"font-weight: bold\"> Total params: </span><span style=\"color: #00af00; text-decoration-color: #00af00\">1,200</span> (4.70 KB)\n",
              "</pre>\n"
            ]
          },
          "metadata": {}
        },
        {
          "output_type": "display_data",
          "data": {
            "text/plain": [
              "\u001b[1m Trainable params: \u001b[0m\u001b[38;5;34m1,176\u001b[0m (4.59 KB)\n"
            ],
            "text/html": [
              "<pre style=\"white-space:pre;overflow-x:auto;line-height:normal;font-family:Menlo,'DejaVu Sans Mono',consolas,'Courier New',monospace\"><span style=\"font-weight: bold\"> Trainable params: </span><span style=\"color: #00af00; text-decoration-color: #00af00\">1,176</span> (4.59 KB)\n",
              "</pre>\n"
            ]
          },
          "metadata": {}
        },
        {
          "output_type": "display_data",
          "data": {
            "text/plain": [
              "\u001b[1m Non-trainable params: \u001b[0m\u001b[38;5;34m24\u001b[0m (104.00 B)\n"
            ],
            "text/html": [
              "<pre style=\"white-space:pre;overflow-x:auto;line-height:normal;font-family:Menlo,'DejaVu Sans Mono',consolas,'Courier New',monospace\"><span style=\"font-weight: bold\"> Non-trainable params: </span><span style=\"color: #00af00; text-decoration-color: #00af00\">24</span> (104.00 B)\n",
              "</pre>\n"
            ]
          },
          "metadata": {}
        }
      ],
      "source": [
        "model.summary()"
      ]
    },
    {
      "cell_type": "code",
      "execution_count": null,
      "metadata": {
        "colab": {
          "base_uri": "https://localhost:8080/"
        },
        "id": "c3mPxSyPhqng",
        "outputId": "54224a7f-809f-479c-c1ad-d3377eb1e82c",
        "scrolled": true
      },
      "outputs": [
        {
          "output_type": "stream",
          "name": "stdout",
          "text": [
            "Epoch 1/20\n",
            "\u001b[1m363/363\u001b[0m \u001b[32m━━━━━━━━━━━━━━━━━━━━\u001b[0m\u001b[37m\u001b[0m \u001b[1m2s\u001b[0m 2ms/step - RootMeanSquaredError: 1.7108 - loss: 3.0285 - val_RootMeanSquaredError: 0.9727 - val_loss: 0.9462\n",
            "Epoch 2/20\n",
            "\u001b[1m363/363\u001b[0m \u001b[32m━━━━━━━━━━━━━━━━━━━━\u001b[0m\u001b[37m\u001b[0m \u001b[1m1s\u001b[0m 2ms/step - RootMeanSquaredError: 0.7912 - loss: 0.6266 - val_RootMeanSquaredError: 0.7768 - val_loss: 0.6033\n",
            "Epoch 3/20\n",
            "\u001b[1m363/363\u001b[0m \u001b[32m━━━━━━━━━━━━━━━━━━━━\u001b[0m\u001b[37m\u001b[0m \u001b[1m1s\u001b[0m 2ms/step - RootMeanSquaredError: 0.7140 - loss: 0.5100 - val_RootMeanSquaredError: 0.6995 - val_loss: 0.4893\n",
            "Epoch 4/20\n",
            "\u001b[1m363/363\u001b[0m \u001b[32m━━━━━━━━━━━━━━━━━━━━\u001b[0m\u001b[37m\u001b[0m \u001b[1m1s\u001b[0m 2ms/step - RootMeanSquaredError: 0.6759 - loss: 0.4570 - val_RootMeanSquaredError: 0.6385 - val_loss: 0.4077\n",
            "Epoch 5/20\n",
            "\u001b[1m363/363\u001b[0m \u001b[32m━━━━━━━━━━━━━━━━━━━━\u001b[0m\u001b[37m\u001b[0m \u001b[1m1s\u001b[0m 2ms/step - RootMeanSquaredError: 0.6456 - loss: 0.4169 - val_RootMeanSquaredError: 0.6777 - val_loss: 0.4593\n",
            "Epoch 6/20\n",
            "\u001b[1m363/363\u001b[0m \u001b[32m━━━━━━━━━━━━━━━━━━━━\u001b[0m\u001b[37m\u001b[0m \u001b[1m1s\u001b[0m 2ms/step - RootMeanSquaredError: 0.6207 - loss: 0.3853 - val_RootMeanSquaredError: 0.6800 - val_loss: 0.4624\n",
            "Epoch 7/20\n",
            "\u001b[1m363/363\u001b[0m \u001b[32m━━━━━━━━━━━━━━━━━━━━\u001b[0m\u001b[37m\u001b[0m \u001b[1m1s\u001b[0m 2ms/step - RootMeanSquaredError: 0.6042 - loss: 0.3651 - val_RootMeanSquaredError: 0.9159 - val_loss: 0.8388\n",
            "Epoch 8/20\n",
            "\u001b[1m363/363\u001b[0m \u001b[32m━━━━━━━━━━━━━━━━━━━━\u001b[0m\u001b[37m\u001b[0m \u001b[1m1s\u001b[0m 2ms/step - RootMeanSquaredError: 0.5945 - loss: 0.3535 - val_RootMeanSquaredError: 1.2143 - val_loss: 1.4746\n",
            "Epoch 9/20\n",
            "\u001b[1m363/363\u001b[0m \u001b[32m━━━━━━━━━━━━━━━━━━━━\u001b[0m\u001b[37m\u001b[0m \u001b[1m1s\u001b[0m 2ms/step - RootMeanSquaredError: 0.5912 - loss: 0.3496 - val_RootMeanSquaredError: 1.4244 - val_loss: 2.0290\n",
            "Epoch 10/20\n",
            "\u001b[1m363/363\u001b[0m \u001b[32m━━━━━━━━━━━━━━━━━━━━\u001b[0m\u001b[37m\u001b[0m \u001b[1m1s\u001b[0m 2ms/step - RootMeanSquaredError: 0.5896 - loss: 0.3477 - val_RootMeanSquaredError: 1.1544 - val_loss: 1.3326\n",
            "Epoch 11/20\n",
            "\u001b[1m363/363\u001b[0m \u001b[32m━━━━━━━━━━━━━━━━━━━━\u001b[0m\u001b[37m\u001b[0m \u001b[1m1s\u001b[0m 2ms/step - RootMeanSquaredError: 0.5845 - loss: 0.3417 - val_RootMeanSquaredError: 0.7934 - val_loss: 0.6295\n",
            "Epoch 12/20\n",
            "\u001b[1m363/363\u001b[0m \u001b[32m━━━━━━━━━━━━━━━━━━━━\u001b[0m\u001b[37m\u001b[0m \u001b[1m1s\u001b[0m 2ms/step - RootMeanSquaredError: 0.5800 - loss: 0.3364 - val_RootMeanSquaredError: 0.7376 - val_loss: 0.5441\n",
            "Epoch 13/20\n",
            "\u001b[1m363/363\u001b[0m \u001b[32m━━━━━━━━━━━━━━━━━━━━\u001b[0m\u001b[37m\u001b[0m \u001b[1m1s\u001b[0m 2ms/step - RootMeanSquaredError: 0.5777 - loss: 0.3338 - val_RootMeanSquaredError: 0.6817 - val_loss: 0.4648\n",
            "Epoch 14/20\n",
            "\u001b[1m363/363\u001b[0m \u001b[32m━━━━━━━━━━━━━━━━━━━━\u001b[0m\u001b[37m\u001b[0m \u001b[1m1s\u001b[0m 2ms/step - RootMeanSquaredError: 0.5755 - loss: 0.3313 - val_RootMeanSquaredError: 0.6906 - val_loss: 0.4769\n",
            "Epoch 15/20\n",
            "\u001b[1m363/363\u001b[0m \u001b[32m━━━━━━━━━━━━━━━━━━━━\u001b[0m\u001b[37m\u001b[0m \u001b[1m1s\u001b[0m 2ms/step - RootMeanSquaredError: 0.5742 - loss: 0.3297 - val_RootMeanSquaredError: 0.7399 - val_loss: 0.5475\n",
            "Epoch 16/20\n",
            "\u001b[1m363/363\u001b[0m \u001b[32m━━━━━━━━━━━━━━━━━━━━\u001b[0m\u001b[37m\u001b[0m \u001b[1m1s\u001b[0m 2ms/step - RootMeanSquaredError: 0.5733 - loss: 0.3287 - val_RootMeanSquaredError: 0.7741 - val_loss: 0.5992\n",
            "Epoch 17/20\n",
            "\u001b[1m363/363\u001b[0m \u001b[32m━━━━━━━━━━━━━━━━━━━━\u001b[0m\u001b[37m\u001b[0m \u001b[1m1s\u001b[0m 2ms/step - RootMeanSquaredError: 0.5720 - loss: 0.3272 - val_RootMeanSquaredError: 0.8681 - val_loss: 0.7536\n",
            "Epoch 18/20\n",
            "\u001b[1m363/363\u001b[0m \u001b[32m━━━━━━━━━━━━━━━━━━━━\u001b[0m\u001b[37m\u001b[0m \u001b[1m2s\u001b[0m 3ms/step - RootMeanSquaredError: 0.5709 - loss: 0.3260 - val_RootMeanSquaredError: 0.9364 - val_loss: 0.8769\n",
            "Epoch 19/20\n",
            "\u001b[1m363/363\u001b[0m \u001b[32m━━━━━━━━━━━━━━━━━━━━\u001b[0m\u001b[37m\u001b[0m \u001b[1m1s\u001b[0m 2ms/step - RootMeanSquaredError: 0.5707 - loss: 0.3258 - val_RootMeanSquaredError: 1.0378 - val_loss: 1.0769\n",
            "Epoch 20/20\n",
            "\u001b[1m363/363\u001b[0m \u001b[32m━━━━━━━━━━━━━━━━━━━━\u001b[0m\u001b[37m\u001b[0m \u001b[1m1s\u001b[0m 2ms/step - RootMeanSquaredError: 0.5699 - loss: 0.3249 - val_RootMeanSquaredError: 1.3694 - val_loss: 1.8752\n",
            "\u001b[1m162/162\u001b[0m \u001b[32m━━━━━━━━━━━━━━━━━━━━\u001b[0m\u001b[37m\u001b[0m \u001b[1m0s\u001b[0m 1ms/step - RootMeanSquaredError: 0.5739 - loss: 0.3295\n",
            "\u001b[1m1/1\u001b[0m \u001b[32m━━━━━━━━━━━━━━━━━━━━\u001b[0m\u001b[37m\u001b[0m \u001b[1m0s\u001b[0m 77ms/step\n"
          ]
        }
      ],
      "source": [
        "optimizer = keras.optimizers.Adam(learning_rate=1e-3)\n",
        "model.compile(loss=\"mse\", optimizer=optimizer, metrics=[\"RootMeanSquaredError\"])\n",
        "\n",
        "X_train_wide, X_train_deep = X_train[:, :5], X_train[:, 2:]\n",
        "X_valid_wide, X_valid_deep = X_valid[:, :5], X_valid[:, 2:]\n",
        "X_test_wide, X_test_deep = X_test[:, :5], X_test[:, 2:]\n",
        "X_new_wide, X_new_deep = X_test_wide[:3], X_test_deep[:3]\n",
        "\n",
        "norm_layer_wide.adapt(X_train_wide)\n",
        "norm_layer_deep.adapt(X_train_deep)\n",
        "history = model.fit((X_train_wide, X_train_deep), y_train, epochs=20, validation_data=((X_valid_wide, X_valid_deep), y_valid))\n",
        "mse_test = model.evaluate((X_test_wide, X_test_deep), y_test)\n",
        "y_pred = model.predict((X_new_wide, X_new_deep))"
      ]
    },
    {
      "cell_type": "markdown",
      "metadata": {
        "id": "bnIPa4ydhqnh"
      },
      "source": [
        "Adding an auxiliary output for regularization:\n",
        "\n",
        "<img src=\"https://drive.google.com/uc?id=1AvBjOdYgTOyzlP8aWDuGrhqkZWFZlyrP\" width=\"200\">\n"
      ]
    },
    {
      "cell_type": "code",
      "source": [
        "tf.keras.backend.clear_session()\n",
        "tf.random.set_seed(42)"
      ],
      "metadata": {
        "id": "gGpk85JEI3Su"
      },
      "execution_count": null,
      "outputs": []
    },
    {
      "cell_type": "code",
      "execution_count": null,
      "metadata": {
        "id": "gZrZB6eAhqnh",
        "scrolled": true
      },
      "outputs": [],
      "source": [
        "input_wide = keras.layers.Input(shape=[5])  # features 0 to 4\n",
        "input_deep = keras.layers.Input(shape=[6])  # features 2 to 7\n",
        "norm_layer_wide = keras.layers.Normalization()\n",
        "norm_layer_deep = keras.layers.Normalization()\n",
        "norm_wide = norm_layer_wide(input_wide)\n",
        "norm_deep = norm_layer_deep(input_deep)\n",
        "hidden1 = keras.layers.Dense(30, activation=\"relu\")(norm_deep)\n",
        "hidden2 = keras.layers.Dense(30, activation=\"relu\")(hidden1)\n",
        "concat = keras.layers.concatenate([norm_wide, hidden2])\n",
        "output = keras.layers.Dense(1)(concat)\n",
        "aux_output = keras.layers.Dense(1)(hidden2)\n",
        "model = keras.Model(inputs=[input_wide, input_deep],\n",
        "                       outputs=[output, aux_output])"
      ]
    },
    {
      "cell_type": "markdown",
      "source": [
        "Warning: in recent versions, Keras requires one metric per output"
      ],
      "metadata": {
        "id": "vgzOMLLJJLPU"
      }
    },
    {
      "cell_type": "code",
      "execution_count": null,
      "metadata": {
        "id": "IGgIv0vxhqnh",
        "scrolled": true
      },
      "outputs": [],
      "source": [
        "optimizer = keras.optimizers.Adam(learning_rate=1e-3)\n",
        "model.compile(loss=(\"mse\", \"mse\"), loss_weights=(0.9, 0.1), optimizer=optimizer,\n",
        "              metrics=[\"RootMeanSquaredError\", \"RootMeanSquaredError\"])"
      ]
    },
    {
      "cell_type": "code",
      "execution_count": null,
      "metadata": {
        "colab": {
          "base_uri": "https://localhost:8080/"
        },
        "id": "CRgRRC04hqnh",
        "outputId": "042fb48a-5883-4e02-9449-a7116d068650",
        "scrolled": true
      },
      "outputs": [
        {
          "output_type": "stream",
          "name": "stdout",
          "text": [
            "Epoch 1/20\n",
            "\u001b[1m363/363\u001b[0m \u001b[32m━━━━━━━━━━━━━━━━━━━━\u001b[0m\u001b[37m\u001b[0m \u001b[1m2s\u001b[0m 2ms/step - dense_2_RootMeanSquaredError: 1.4766 - dense_2_loss: 2.2670 - dense_3_RootMeanSquaredError: 1.9023 - dense_3_loss: 3.7160 - loss: 2.4119 - val_dense_2_RootMeanSquaredError: 0.8149 - val_dense_2_loss: 0.6639 - val_dense_3_RootMeanSquaredError: 2.2872 - val_dense_3_loss: 5.2289 - val_loss: 1.1208\n",
            "Epoch 2/20\n",
            "\u001b[1m363/363\u001b[0m \u001b[32m━━━━━━━━━━━━━━━━━━━━\u001b[0m\u001b[37m\u001b[0m \u001b[1m1s\u001b[0m 2ms/step - dense_2_RootMeanSquaredError: 0.7416 - dense_2_loss: 0.5504 - dense_3_RootMeanSquaredError: 0.9265 - dense_3_loss: 0.8597 - loss: 0.5813 - val_dense_2_RootMeanSquaredError: 0.6855 - val_dense_2_loss: 0.4698 - val_dense_3_RootMeanSquaredError: 1.2297 - val_dense_3_loss: 1.5116 - val_loss: 0.5741\n",
            "Epoch 3/20\n",
            "\u001b[1m363/363\u001b[0m \u001b[32m━━━━━━━━━━━━━━━━━━━━\u001b[0m\u001b[37m\u001b[0m \u001b[1m1s\u001b[0m 2ms/step - dense_2_RootMeanSquaredError: 0.6813 - dense_2_loss: 0.4645 - dense_3_RootMeanSquaredError: 0.7871 - dense_3_loss: 0.6197 - loss: 0.4800 - val_dense_2_RootMeanSquaredError: 0.6332 - val_dense_2_loss: 0.4009 - val_dense_3_RootMeanSquaredError: 0.9163 - val_dense_3_loss: 0.8394 - val_loss: 0.4448\n",
            "Epoch 4/20\n",
            "\u001b[1m363/363\u001b[0m \u001b[32m━━━━━━━━━━━━━━━━━━━━\u001b[0m\u001b[37m\u001b[0m \u001b[1m1s\u001b[0m 2ms/step - dense_2_RootMeanSquaredError: 0.6521 - dense_2_loss: 0.4254 - dense_3_RootMeanSquaredError: 0.7456 - dense_3_loss: 0.5560 - loss: 0.4385 - val_dense_2_RootMeanSquaredError: 0.6402 - val_dense_2_loss: 0.4097 - val_dense_3_RootMeanSquaredError: 0.8315 - val_dense_3_loss: 0.6912 - val_loss: 0.4380\n",
            "Epoch 5/20\n",
            "\u001b[1m363/363\u001b[0m \u001b[32m━━━━━━━━━━━━━━━━━━━━\u001b[0m\u001b[37m\u001b[0m \u001b[1m1s\u001b[0m 2ms/step - dense_2_RootMeanSquaredError: 0.6360 - dense_2_loss: 0.4047 - dense_3_RootMeanSquaredError: 0.7255 - dense_3_loss: 0.5264 - loss: 0.4169 - val_dense_2_RootMeanSquaredError: 0.6281 - val_dense_2_loss: 0.3944 - val_dense_3_RootMeanSquaredError: 0.7632 - val_dense_3_loss: 0.5823 - val_loss: 0.4133\n",
            "Epoch 6/20\n",
            "\u001b[1m363/363\u001b[0m \u001b[32m━━━━━━━━━━━━━━━━━━━━\u001b[0m\u001b[37m\u001b[0m \u001b[1m1s\u001b[0m 2ms/step - dense_2_RootMeanSquaredError: 0.6259 - dense_2_loss: 0.3920 - dense_3_RootMeanSquaredError: 0.7124 - dense_3_loss: 0.5077 - loss: 0.4036 - val_dense_2_RootMeanSquaredError: 0.6747 - val_dense_2_loss: 0.4551 - val_dense_3_RootMeanSquaredError: 0.7470 - val_dense_3_loss: 0.5579 - val_loss: 0.4655\n",
            "Epoch 7/20\n",
            "\u001b[1m363/363\u001b[0m \u001b[32m━━━━━━━━━━━━━━━━━━━━\u001b[0m\u001b[37m\u001b[0m \u001b[1m2s\u001b[0m 3ms/step - dense_2_RootMeanSquaredError: 0.6182 - dense_2_loss: 0.3824 - dense_3_RootMeanSquaredError: 0.7017 - dense_3_loss: 0.4925 - loss: 0.3934 - val_dense_2_RootMeanSquaredError: 0.7723 - val_dense_2_loss: 0.5963 - val_dense_3_RootMeanSquaredError: 0.6725 - val_dense_3_loss: 0.4522 - val_loss: 0.5821\n",
            "Epoch 8/20\n",
            "\u001b[1m363/363\u001b[0m \u001b[32m━━━━━━━━━━━━━━━━━━━━\u001b[0m\u001b[37m\u001b[0m \u001b[1m1s\u001b[0m 2ms/step - dense_2_RootMeanSquaredError: 0.6118 - dense_2_loss: 0.3746 - dense_3_RootMeanSquaredError: 0.6870 - dense_3_loss: 0.4721 - loss: 0.3843 - val_dense_2_RootMeanSquaredError: 0.9358 - val_dense_2_loss: 0.8754 - val_dense_3_RootMeanSquaredError: 0.8401 - val_dense_3_loss: 0.7055 - val_loss: 0.8588\n",
            "Epoch 9/20\n",
            "\u001b[1m363/363\u001b[0m \u001b[32m━━━━━━━━━━━━━━━━━━━━\u001b[0m\u001b[37m\u001b[0m \u001b[1m1s\u001b[0m 2ms/step - dense_2_RootMeanSquaredError: 0.6054 - dense_2_loss: 0.3667 - dense_3_RootMeanSquaredError: 0.6733 - dense_3_loss: 0.4534 - loss: 0.3754 - val_dense_2_RootMeanSquaredError: 0.9864 - val_dense_2_loss: 0.9726 - val_dense_3_RootMeanSquaredError: 0.6475 - val_dense_3_loss: 0.4192 - val_loss: 0.9177\n",
            "Epoch 10/20\n",
            "\u001b[1m363/363\u001b[0m \u001b[32m━━━━━━━━━━━━━━━━━━━━\u001b[0m\u001b[37m\u001b[0m \u001b[1m1s\u001b[0m 2ms/step - dense_2_RootMeanSquaredError: 0.6020 - dense_2_loss: 0.3626 - dense_3_RootMeanSquaredError: 0.6639 - dense_3_loss: 0.4408 - loss: 0.3704 - val_dense_2_RootMeanSquaredError: 1.3708 - val_dense_2_loss: 1.8781 - val_dense_3_RootMeanSquaredError: 1.1872 - val_dense_3_loss: 1.4090 - val_loss: 1.8321\n",
            "Epoch 11/20\n",
            "\u001b[1m363/363\u001b[0m \u001b[32m━━━━━━━━━━━━━━━━━━━━\u001b[0m\u001b[37m\u001b[0m \u001b[1m1s\u001b[0m 2ms/step - dense_2_RootMeanSquaredError: 0.5981 - dense_2_loss: 0.3579 - dense_3_RootMeanSquaredError: 0.6565 - dense_3_loss: 0.4311 - loss: 0.3652 - val_dense_2_RootMeanSquaredError: 0.9660 - val_dense_2_loss: 0.9327 - val_dense_3_RootMeanSquaredError: 1.0049 - val_dense_3_loss: 1.0095 - val_loss: 0.9408\n",
            "Epoch 12/20\n",
            "\u001b[1m363/363\u001b[0m \u001b[32m━━━━━━━━━━━━━━━━━━━━\u001b[0m\u001b[37m\u001b[0m \u001b[1m1s\u001b[0m 2ms/step - dense_2_RootMeanSquaredError: 0.5942 - dense_2_loss: 0.3533 - dense_3_RootMeanSquaredError: 0.6533 - dense_3_loss: 0.4269 - loss: 0.3606 - val_dense_2_RootMeanSquaredError: 1.4008 - val_dense_2_loss: 1.9615 - val_dense_3_RootMeanSquaredError: 1.3665 - val_dense_3_loss: 1.8664 - val_loss: 1.9529\n",
            "Epoch 13/20\n",
            "\u001b[1m363/363\u001b[0m \u001b[32m━━━━━━━━━━━━━━━━━━━━\u001b[0m\u001b[37m\u001b[0m \u001b[1m1s\u001b[0m 2ms/step - dense_2_RootMeanSquaredError: 0.5921 - dense_2_loss: 0.3507 - dense_3_RootMeanSquaredError: 0.6459 - dense_3_loss: 0.4173 - loss: 0.3574 - val_dense_2_RootMeanSquaredError: 0.9133 - val_dense_2_loss: 0.8338 - val_dense_3_RootMeanSquaredError: 0.7057 - val_dense_3_loss: 0.4979 - val_loss: 0.8005\n",
            "Epoch 14/20\n",
            "\u001b[1m363/363\u001b[0m \u001b[32m━━━━━━━━━━━━━━━━━━━━\u001b[0m\u001b[37m\u001b[0m \u001b[1m1s\u001b[0m 2ms/step - dense_2_RootMeanSquaredError: 0.5880 - dense_2_loss: 0.3459 - dense_3_RootMeanSquaredError: 0.6415 - dense_3_loss: 0.4116 - loss: 0.3525 - val_dense_2_RootMeanSquaredError: 1.1295 - val_dense_2_loss: 1.2751 - val_dense_3_RootMeanSquaredError: 1.1749 - val_dense_3_loss: 1.3798 - val_loss: 1.2861\n",
            "Epoch 15/20\n",
            "\u001b[1m363/363\u001b[0m \u001b[32m━━━━━━━━━━━━━━━━━━━━\u001b[0m\u001b[37m\u001b[0m \u001b[1m1s\u001b[0m 2ms/step - dense_2_RootMeanSquaredError: 0.5849 - dense_2_loss: 0.3423 - dense_3_RootMeanSquaredError: 0.6376 - dense_3_loss: 0.4066 - loss: 0.3487 - val_dense_2_RootMeanSquaredError: 0.9748 - val_dense_2_loss: 0.9498 - val_dense_3_RootMeanSquaredError: 0.7667 - val_dense_3_loss: 0.5876 - val_loss: 0.9140\n",
            "Epoch 16/20\n",
            "\u001b[1m363/363\u001b[0m \u001b[32m━━━━━━━━━━━━━━━━━━━━\u001b[0m\u001b[37m\u001b[0m \u001b[1m1s\u001b[0m 3ms/step - dense_2_RootMeanSquaredError: 0.5829 - dense_2_loss: 0.3399 - dense_3_RootMeanSquaredError: 0.6349 - dense_3_loss: 0.4031 - loss: 0.3462 - val_dense_2_RootMeanSquaredError: 1.2712 - val_dense_2_loss: 1.6153 - val_dense_3_RootMeanSquaredError: 1.2179 - val_dense_3_loss: 1.4827 - val_loss: 1.6028\n",
            "Epoch 17/20\n",
            "\u001b[1m363/363\u001b[0m \u001b[32m━━━━━━━━━━━━━━━━━━━━\u001b[0m\u001b[37m\u001b[0m \u001b[1m1s\u001b[0m 3ms/step - dense_2_RootMeanSquaredError: 0.5818 - dense_2_loss: 0.3386 - dense_3_RootMeanSquaredError: 0.6320 - dense_3_loss: 0.3995 - loss: 0.3447 - val_dense_2_RootMeanSquaredError: 1.1776 - val_dense_2_loss: 1.3861 - val_dense_3_RootMeanSquaredError: 0.8320 - val_dense_3_loss: 0.6919 - val_loss: 1.3173\n",
            "Epoch 18/20\n",
            "\u001b[1m363/363\u001b[0m \u001b[32m━━━━━━━━━━━━━━━━━━━━\u001b[0m\u001b[37m\u001b[0m \u001b[1m1s\u001b[0m 2ms/step - dense_2_RootMeanSquaredError: 0.5813 - dense_2_loss: 0.3380 - dense_3_RootMeanSquaredError: 0.6301 - dense_3_loss: 0.3971 - loss: 0.3439 - val_dense_2_RootMeanSquaredError: 0.9278 - val_dense_2_loss: 0.8604 - val_dense_3_RootMeanSquaredError: 1.3906 - val_dense_3_loss: 1.9330 - val_loss: 0.9681\n",
            "Epoch 19/20\n",
            "\u001b[1m363/363\u001b[0m \u001b[32m━━━━━━━━━━━━━━━━━━━━\u001b[0m\u001b[37m\u001b[0m \u001b[1m1s\u001b[0m 2ms/step - dense_2_RootMeanSquaredError: 0.5755 - dense_2_loss: 0.3313 - dense_3_RootMeanSquaredError: 0.6281 - dense_3_loss: 0.3946 - loss: 0.3376 - val_dense_2_RootMeanSquaredError: 0.6942 - val_dense_2_loss: 0.4818 - val_dense_3_RootMeanSquaredError: 0.7546 - val_dense_3_loss: 0.5693 - val_loss: 0.4907\n",
            "Epoch 20/20\n",
            "\u001b[1m363/363\u001b[0m \u001b[32m━━━━━━━━━━━━━━━━━━━━\u001b[0m\u001b[37m\u001b[0m \u001b[1m1s\u001b[0m 2ms/step - dense_2_RootMeanSquaredError: 0.5735 - dense_2_loss: 0.3290 - dense_3_RootMeanSquaredError: 0.6241 - dense_3_loss: 0.3895 - loss: 0.3351 - val_dense_2_RootMeanSquaredError: 0.6743 - val_dense_2_loss: 0.4545 - val_dense_3_RootMeanSquaredError: 0.9479 - val_dense_3_loss: 0.8982 - val_loss: 0.4990\n"
          ]
        }
      ],
      "source": [
        "norm_layer_wide.adapt(X_train_wide)\n",
        "norm_layer_deep.adapt(X_train_deep)\n",
        "history = model.fit((X_train_wide, X_train_deep), (y_train, y_train), epochs=20,\n",
        "    validation_data=((X_valid_wide, X_valid_deep), (y_valid, y_valid)))"
      ]
    },
    {
      "cell_type": "code",
      "execution_count": null,
      "metadata": {
        "colab": {
          "base_uri": "https://localhost:8080/"
        },
        "id": "7QUR6CYYhqni",
        "outputId": "51597b60-0ea8-49ad-c9f1-2e3ce0b83831",
        "scrolled": true
      },
      "outputs": [
        {
          "output_type": "stream",
          "name": "stdout",
          "text": [
            "\u001b[1m162/162\u001b[0m \u001b[32m━━━━━━━━━━━━━━━━━━━━\u001b[0m\u001b[37m\u001b[0m \u001b[1m0s\u001b[0m 1ms/step - dense_2_RootMeanSquaredError: 0.5774 - dense_2_loss: 0.3335 - dense_3_RootMeanSquaredError: 0.6293 - dense_3_loss: 0.3961 - loss: 0.3398\n"
          ]
        }
      ],
      "source": [
        "eval_results = model.evaluate((X_test_wide, X_test_deep), (y_test, y_test))\n",
        "weighted_sum_of_losses, main_loss, aux_loss = eval_results[:3]"
      ]
    },
    {
      "cell_type": "code",
      "source": [
        "y_pred_main, y_pred_aux = model.predict((X_new_wide, X_new_deep))\n"
      ],
      "metadata": {
        "colab": {
          "base_uri": "https://localhost:8080/"
        },
        "id": "oAC8fYgVJmJf",
        "outputId": "3714e420-987e-43d7-f5d4-25da86b27a96"
      },
      "execution_count": null,
      "outputs": [
        {
          "output_type": "stream",
          "name": "stderr",
          "text": [
            "WARNING:tensorflow:5 out of the last 6 calls to <function TensorFlowTrainer.make_predict_function.<locals>.one_step_on_data_distributed at 0x7a4df0861a80> triggered tf.function retracing. Tracing is expensive and the excessive number of tracings could be due to (1) creating @tf.function repeatedly in a loop, (2) passing tensors with different shapes, (3) passing Python objects instead of tensors. For (1), please define your @tf.function outside of the loop. For (2), @tf.function has reduce_retracing=True option that can avoid unnecessary retracing. For (3), please refer to https://www.tensorflow.org/guide/function#controlling_retracing and https://www.tensorflow.org/api_docs/python/tf/function for  more details.\n"
          ]
        },
        {
          "output_type": "stream",
          "name": "stdout",
          "text": [
            "\u001b[1m1/1\u001b[0m \u001b[32m━━━━━━━━━━━━━━━━━━━━\u001b[0m\u001b[37m\u001b[0m \u001b[1m0s\u001b[0m 71ms/step\n"
          ]
        }
      ]
    },
    {
      "cell_type": "code",
      "source": [
        "y_pred_tuple = model.predict((X_new_wide, X_new_deep))\n",
        "y_pred = dict(zip(model.output_names, y_pred_tuple))"
      ],
      "metadata": {
        "colab": {
          "base_uri": "https://localhost:8080/"
        },
        "id": "3l17oic4JpiT",
        "outputId": "f8ae1dc4-87ca-4d4b-bad3-72b68120ce5f"
      },
      "execution_count": null,
      "outputs": [
        {
          "output_type": "stream",
          "name": "stdout",
          "text": [
            "\u001b[1m1/1\u001b[0m \u001b[32m━━━━━━━━━━━━━━━━━━━━\u001b[0m\u001b[37m\u001b[0m \u001b[1m0s\u001b[0m 27ms/step\n"
          ]
        }
      ]
    },
    {
      "cell_type": "markdown",
      "metadata": {
        "id": "TNO6V9Jmhqni"
      },
      "source": [
        "# Using the subclassing API to build Dynamic Models"
      ]
    },
    {
      "cell_type": "code",
      "execution_count": null,
      "metadata": {
        "id": "AyqVOXz8hqni",
        "scrolled": true
      },
      "outputs": [],
      "source": [
        "class WideAndDeepModel(keras.Model):\n",
        "    def __init__(self, units=30, activation=\"relu\", **kwargs):\n",
        "        super().__init__(**kwargs)  # needed to support naming the model\n",
        "        self.norm_layer_wide = keras.layers.Normalization()\n",
        "        self.norm_layer_deep = keras.layers.Normalization()\n",
        "        self.hidden1 = keras.layers.Dense(units, activation=activation)\n",
        "        self.hidden2 = keras.layers.Dense(units, activation=activation)\n",
        "        self.main_output = keras.layers.Dense(1)\n",
        "        self.aux_output = keras.layers.Dense(1)\n",
        "\n",
        "    def call(self, inputs):\n",
        "        input_wide, input_deep = inputs\n",
        "        norm_wide = self.norm_layer_wide(input_wide)\n",
        "        norm_deep = self.norm_layer_deep(input_deep)\n",
        "        hidden1 = self.hidden1(norm_deep)\n",
        "        hidden2 = self.hidden2(hidden1)\n",
        "        concat = keras.layers.concatenate([norm_wide, hidden2])\n",
        "        output = self.main_output(concat)\n",
        "        aux_output = self.aux_output(hidden2)\n",
        "        return output, aux_output\n",
        "\n",
        "tf.random.set_seed(42)  # extra code – just for reproducibility\n",
        "model = WideAndDeepModel(30, activation=\"relu\", name=\"my_cool_model\")"
      ]
    },
    {
      "cell_type": "code",
      "execution_count": null,
      "metadata": {
        "colab": {
          "base_uri": "https://localhost:8080/"
        },
        "id": "z0Q-M54Vhqni",
        "outputId": "261f61e8-3523-494c-8b2a-26e5cdc3d44f",
        "scrolled": true
      },
      "outputs": [
        {
          "output_type": "stream",
          "name": "stdout",
          "text": [
            "Epoch 1/10\n",
            "\u001b[1m363/363\u001b[0m \u001b[32m━━━━━━━━━━━━━━━━━━━━\u001b[0m\u001b[37m\u001b[0m \u001b[1m2s\u001b[0m 2ms/step - RootMeanSquaredError: 1.4798 - RootMeanSquaredError_1: 2.0889 - loss: 2.5013 - mse_loss: 4.4922 - val_RootMeanSquaredError: 1.0191 - val_RootMeanSquaredError_1: 1.7863 - val_loss: 1.2538 - val_mse_loss: 3.1897\n",
            "Epoch 2/10\n",
            "\u001b[1m363/363\u001b[0m \u001b[32m━━━━━━━━━━━━━━━━━━━━\u001b[0m\u001b[37m\u001b[0m \u001b[1m1s\u001b[0m 2ms/step - RootMeanSquaredError: 0.7394 - RootMeanSquaredError_1: 0.9793 - loss: 0.5889 - mse_loss: 0.9611 - val_RootMeanSquaredError: 0.6669 - val_RootMeanSquaredError_1: 0.9060 - val_loss: 0.4823 - val_mse_loss: 0.8206\n",
            "Epoch 3/10\n",
            "\u001b[1m363/363\u001b[0m \u001b[32m━━━━━━━━━━━━━━━━━━━━\u001b[0m\u001b[37m\u001b[0m \u001b[1m1s\u001b[0m 2ms/step - RootMeanSquaredError: 0.6827 - RootMeanSquaredError_1: 0.8127 - loss: 0.4859 - mse_loss: 0.6608 - val_RootMeanSquaredError: 0.6551 - val_RootMeanSquaredError_1: 0.7461 - val_loss: 0.4420 - val_mse_loss: 0.5565\n",
            "Epoch 4/10\n",
            "\u001b[1m363/363\u001b[0m \u001b[32m━━━━━━━━━━━━━━━━━━━━\u001b[0m\u001b[37m\u001b[0m \u001b[1m1s\u001b[0m 2ms/step - RootMeanSquaredError: 0.6532 - RootMeanSquaredError_1: 0.7641 - loss: 0.4427 - mse_loss: 0.5841 - val_RootMeanSquaredError: 0.6141 - val_RootMeanSquaredError_1: 0.7456 - val_loss: 0.3950 - val_mse_loss: 0.5558\n",
            "Epoch 5/10\n",
            "\u001b[1m363/363\u001b[0m \u001b[32m━━━━━━━━━━━━━━━━━━━━\u001b[0m\u001b[37m\u001b[0m \u001b[1m1s\u001b[0m 3ms/step - RootMeanSquaredError: 0.6330 - RootMeanSquaredError_1: 0.7277 - loss: 0.4138 - mse_loss: 0.5298 - val_RootMeanSquaredError: 0.8329 - val_RootMeanSquaredError_1: 0.8075 - val_loss: 0.6895 - val_mse_loss: 0.6518\n",
            "Epoch 6/10\n",
            "\u001b[1m363/363\u001b[0m \u001b[32m━━━━━━━━━━━━━━━━━━━━\u001b[0m\u001b[37m\u001b[0m \u001b[1m1s\u001b[0m 2ms/step - RootMeanSquaredError: 0.6214 - RootMeanSquaredError_1: 0.7025 - loss: 0.3971 - mse_loss: 0.4937 - val_RootMeanSquaredError: 0.9519 - val_RootMeanSquaredError_1: 1.0553 - val_loss: 0.9269 - val_mse_loss: 1.1133\n",
            "Epoch 7/10\n",
            "\u001b[1m363/363\u001b[0m \u001b[32m━━━━━━━━━━━━━━━━━━━━\u001b[0m\u001b[37m\u001b[0m \u001b[1m1s\u001b[0m 2ms/step - RootMeanSquaredError: 0.6138 - RootMeanSquaredError_1: 0.6824 - loss: 0.3858 - mse_loss: 0.4658 - val_RootMeanSquaredError: 0.9869 - val_RootMeanSquaredError_1: 1.0350 - val_loss: 0.9837 - val_mse_loss: 1.0708\n",
            "Epoch 8/10\n",
            "\u001b[1m363/363\u001b[0m \u001b[32m━━━━━━━━━━━━━━━━━━━━\u001b[0m\u001b[37m\u001b[0m \u001b[1m1s\u001b[0m 2ms/step - RootMeanSquaredError: 0.6078 - RootMeanSquaredError_1: 0.6703 - loss: 0.3775 - mse_loss: 0.4494 - val_RootMeanSquaredError: 1.0979 - val_RootMeanSquaredError_1: 1.2188 - val_loss: 1.2334 - val_mse_loss: 1.4847\n",
            "Epoch 9/10\n",
            "\u001b[1m363/363\u001b[0m \u001b[32m━━━━━━━━━━━━━━━━━━━━\u001b[0m\u001b[37m\u001b[0m \u001b[1m1s\u001b[0m 2ms/step - RootMeanSquaredError: 0.6038 - RootMeanSquaredError_1: 0.6617 - loss: 0.3721 - mse_loss: 0.4380 - val_RootMeanSquaredError: 0.8617 - val_RootMeanSquaredError_1: 0.9403 - val_loss: 0.7567 - val_mse_loss: 0.8839\n",
            "Epoch 10/10\n",
            "\u001b[1m363/363\u001b[0m \u001b[32m━━━━━━━━━━━━━━━━━━━━\u001b[0m\u001b[37m\u001b[0m \u001b[1m1s\u001b[0m 2ms/step - RootMeanSquaredError: 0.6013 - RootMeanSquaredError_1: 0.6568 - loss: 0.3686 - mse_loss: 0.4315 - val_RootMeanSquaredError: 0.9252 - val_RootMeanSquaredError_1: 1.0647 - val_loss: 0.8837 - val_mse_loss: 1.1332\n",
            "\u001b[1m162/162\u001b[0m \u001b[32m━━━━━━━━━━━━━━━━━━━━\u001b[0m\u001b[37m\u001b[0m \u001b[1m0s\u001b[0m 1ms/step - RootMeanSquaredError: 0.5993 - RootMeanSquaredError_1: 0.6517 - loss: 0.3659 - mse_loss: 0.4248\n"
          ]
        },
        {
          "output_type": "stream",
          "name": "stderr",
          "text": [
            "WARNING:tensorflow:6 out of the last 8 calls to <function TensorFlowTrainer.make_predict_function.<locals>.one_step_on_data_distributed at 0x7a4e10672d40> triggered tf.function retracing. Tracing is expensive and the excessive number of tracings could be due to (1) creating @tf.function repeatedly in a loop, (2) passing tensors with different shapes, (3) passing Python objects instead of tensors. For (1), please define your @tf.function outside of the loop. For (2), @tf.function has reduce_retracing=True option that can avoid unnecessary retracing. For (3), please refer to https://www.tensorflow.org/guide/function#controlling_retracing and https://www.tensorflow.org/api_docs/python/tf/function for  more details.\n"
          ]
        },
        {
          "output_type": "stream",
          "name": "stdout",
          "text": [
            "\u001b[1m1/1\u001b[0m \u001b[32m━━━━━━━━━━━━━━━━━━━━\u001b[0m\u001b[37m\u001b[0m \u001b[1m0s\u001b[0m 67ms/step\n"
          ]
        }
      ],
      "source": [
        "optimizer = keras.optimizers.Adam(learning_rate=1e-3)\n",
        "model.compile(loss=[\"mse\", \"mse\"], loss_weights=[0.9, 0.1], optimizer=optimizer,\n",
        "              metrics=[\"RootMeanSquaredError\", \"RootMeanSquaredError\"])\n",
        "\n",
        "model.norm_layer_wide.adapt(X_train_wide)\n",
        "model.norm_layer_deep.adapt(X_train_deep)\n",
        "history = model.fit(\n",
        "    (X_train_wide, X_train_deep), (y_train, y_train), epochs=10,\n",
        "    validation_data=((X_valid_wide, X_valid_deep), (y_valid, y_valid)))\n",
        "\n",
        "eval_results = model.evaluate((X_test_wide, X_test_deep), (y_test, y_test))\n",
        "y_pred_main, y_pred_aux = model.predict((X_new_wide, X_new_deep))"
      ]
    },
    {
      "cell_type": "markdown",
      "metadata": {
        "id": "znulGLd0hqni"
      },
      "source": [
        "# Saving and Restoring a Model\n",
        "\n",
        "\n",
        "When using the Sequential API or the Functional API, we want to save and re-load the model.\n",
        "\n",
        "Keras utilizes the HDF5 format to save both the model’s architecture (including every layer’s hyperparameters) and the values of all the model parameters for every layer (e.g., connection weights and biases). It also saves the optimizer (including its hyperparameters and any state it may have).\n",
        "\n",
        "Warning: Keras now recommends using the `.keras` format to save models, and the `h5` format for weights."
      ]
    },
    {
      "cell_type": "code",
      "source": [
        "import shutil\n",
        "\n",
        "shutil.rmtree(\"my_keras_model\", ignore_errors=True)"
      ],
      "metadata": {
        "id": "iKieBhP8Qlbs"
      },
      "execution_count": null,
      "outputs": []
    },
    {
      "cell_type": "code",
      "source": [
        "model.export(\"my_keras_model\")"
      ],
      "metadata": {
        "colab": {
          "base_uri": "https://localhost:8080/"
        },
        "id": "nyy-I2R3QpVh",
        "outputId": "b8e9a228-b774-4a6e-ce77-26cfa8e663d9"
      },
      "execution_count": null,
      "outputs": [
        {
          "output_type": "stream",
          "name": "stdout",
          "text": [
            "Saved artifact at 'my_keras_model'. The following endpoints are available:\n",
            "\n",
            "* Endpoint 'serve'\n",
            "  args_0 (POSITIONAL_ONLY): Tuple[TensorSpec(shape=(None, 5), dtype=tf.float32, name=None), TensorSpec(shape=(None, 6), dtype=tf.float32, name=None)]\n",
            "Output Type:\n",
            "  Tuple[TensorSpec(shape=(None, 1), dtype=tf.float32, name=None), TensorSpec(shape=(None, 1), dtype=tf.float32, name=None)]\n",
            "Captures:\n",
            "  134475206077968: TensorSpec(shape=(1, 5), dtype=tf.float32, name=None)\n",
            "  134475206078160: TensorSpec(shape=(1, 5), dtype=tf.float32, name=None)\n",
            "  134475206072592: TensorSpec(shape=(1, 6), dtype=tf.float32, name=None)\n",
            "  134475206071824: TensorSpec(shape=(1, 6), dtype=tf.float32, name=None)\n",
            "  134475167350224: TensorSpec(shape=(), dtype=tf.resource, name=None)\n",
            "  134475167341776: TensorSpec(shape=(), dtype=tf.resource, name=None)\n",
            "  134475167347344: TensorSpec(shape=(), dtype=tf.resource, name=None)\n",
            "  134475167346384: TensorSpec(shape=(), dtype=tf.resource, name=None)\n",
            "  134475167345040: TensorSpec(shape=(), dtype=tf.resource, name=None)\n",
            "  134475167349840: TensorSpec(shape=(), dtype=tf.resource, name=None)\n",
            "  134475167347728: TensorSpec(shape=(), dtype=tf.resource, name=None)\n",
            "  134475167347536: TensorSpec(shape=(), dtype=tf.resource, name=None)\n"
          ]
        }
      ]
    },
    {
      "cell_type": "code",
      "source": [
        "from pathlib import Path\n",
        "\n",
        "# show the contents of the my_keras_model/ directory\n",
        "for path in sorted(Path(\"my_keras_model\").glob(\"**/*\")):\n",
        "    print(path)"
      ],
      "metadata": {
        "colab": {
          "base_uri": "https://localhost:8080/"
        },
        "id": "esdOCjB-Qy-w",
        "outputId": "1befbe75-367c-4a4a-d117-676a8e5c5507"
      },
      "execution_count": null,
      "outputs": [
        {
          "output_type": "stream",
          "name": "stdout",
          "text": [
            "my_keras_model/assets\n",
            "my_keras_model/fingerprint.pb\n",
            "my_keras_model/saved_model.pb\n",
            "my_keras_model/variables\n",
            "my_keras_model/variables/variables.data-00000-of-00001\n",
            "my_keras_model/variables/variables.index\n"
          ]
        }
      ]
    },
    {
      "cell_type": "markdown",
      "source": [
        "load a SavedModel as a `keras.layers.TFSMLayer` layer, but be aware that this layer can only be used for inference: no training."
      ],
      "metadata": {
        "id": "9tKxRjJoRHD8"
      }
    },
    {
      "cell_type": "code",
      "execution_count": null,
      "metadata": {
        "id": "58r8SSnwhqni",
        "scrolled": true
      },
      "outputs": [],
      "source": [
        "tfsm_layer = keras.layers.TFSMLayer(\"my_keras_model\")\n",
        "y_pred_main, y_pred_aux = tfsm_layer((X_new_wide, X_new_deep))"
      ]
    },
    {
      "cell_type": "markdown",
      "source": [
        "Warning: Keras now requires the saved weights to have the `.weights.h5` extension."
      ],
      "metadata": {
        "id": "Rl2jL_reRZaj"
      }
    },
    {
      "cell_type": "code",
      "source": [
        "model.save_weights(\"my_weights.weights.h5\")"
      ],
      "metadata": {
        "id": "Q4ZtuhBYRcz1"
      },
      "execution_count": null,
      "outputs": []
    },
    {
      "cell_type": "code",
      "execution_count": null,
      "metadata": {
        "id": "ELuGslidhqnj",
        "scrolled": true
      },
      "outputs": [],
      "source": [
        "model.load_weights(\"my_weights.weights.h5\")"
      ]
    },
    {
      "cell_type": "markdown",
      "source": [
        "To save a model using the `.keras` format, simply use `model.save()`.\n",
        "\n",
        "To load a `.keras` model, use the `tf.keras.models.load_model()` function. If the model uses any custom object, you must pass them to the function via the custom_objects argument:"
      ],
      "metadata": {
        "id": "xhNVZ5h0RpzJ"
      }
    },
    {
      "cell_type": "code",
      "execution_count": null,
      "metadata": {
        "id": "j-VdPpU9hqnj",
        "scrolled": true
      },
      "outputs": [],
      "source": [
        "model.save(\"my_model.keras\")"
      ]
    },
    {
      "cell_type": "code",
      "execution_count": null,
      "metadata": {
        "id": "AsLQdX4nhqnj",
        "scrolled": true
      },
      "outputs": [],
      "source": [
        "loaded_model = keras.models.load_model(\n",
        "    \"my_model.keras\",\n",
        "    custom_objects={\"WideAndDeepModel\": WideAndDeepModel}\n",
        ")\n"
      ]
    },
    {
      "cell_type": "markdown",
      "metadata": {
        "id": "9KIXiHlahqnk"
      },
      "source": [
        "# Using Callbacks during Training\n",
        "\n",
        "If the training lasts several hours, we should not only save the model at the end of training, but also save checkpoints at regular intervals during training, to avoid losing everything if the computer crashes."
      ]
    },
    {
      "cell_type": "code",
      "execution_count": null,
      "metadata": {
        "id": "zUpekfGthqnk",
        "scrolled": true
      },
      "outputs": [],
      "source": [
        "shutil.rmtree(\"my_checkpoints\", ignore_errors=True)"
      ]
    },
    {
      "cell_type": "markdown",
      "metadata": {
        "id": "b-JH7-k5hqnl"
      },
      "source": [
        "The `fit()` method accepts a callbacks argument that lets you specify a list of objects that Keras will call at the start and end of training, at the start and end of each epoch, and even before and after processing each batch.\n",
        "\n",
        "For example, the `ModelCheckpoint` callback saves checkpoints of your model at regular intervals during training, by default at the end of each epoch.\n",
        "\n",
        "Can set `save_best_only=True` when creating the ModelCheckpoint. In this case, it will only save the model when its performance on the validation set is the best so far."
      ]
    },
    {
      "cell_type": "code",
      "execution_count": null,
      "metadata": {
        "colab": {
          "base_uri": "https://localhost:8080/"
        },
        "id": "BFL2iwsmhqnl",
        "outputId": "f7e5efd7-27b4-4671-b051-6bf5158fe5bf",
        "scrolled": true
      },
      "outputs": [
        {
          "output_type": "stream",
          "name": "stdout",
          "text": [
            "Epoch 1/10\n",
            "\u001b[1m363/363\u001b[0m \u001b[32m━━━━━━━━━━━━━━━━━━━━\u001b[0m\u001b[37m\u001b[0m \u001b[1m1s\u001b[0m 2ms/step - RootMeanSquaredError: 0.5953 - RootMeanSquaredError_1: 0.6497 - loss: 0.3613 - mse_loss: 0.4222 - val_RootMeanSquaredError: 0.7534 - val_RootMeanSquaredError_1: 0.8611 - val_loss: 0.5850 - val_mse_loss: 0.7412\n",
            "Epoch 2/10\n",
            "\u001b[1m363/363\u001b[0m \u001b[32m━━━━━━━━━━━━━━━━━━━━\u001b[0m\u001b[37m\u001b[0m \u001b[1m1s\u001b[0m 2ms/step - RootMeanSquaredError: 0.5922 - RootMeanSquaredError_1: 0.6446 - loss: 0.3573 - mse_loss: 0.4157 - val_RootMeanSquaredError: 0.8516 - val_RootMeanSquaredError_1: 1.0029 - val_loss: 0.7533 - val_mse_loss: 1.0055\n",
            "Epoch 3/10\n",
            "\u001b[1m363/363\u001b[0m \u001b[32m━━━━━━━━━━━━━━━━━━━━\u001b[0m\u001b[37m\u001b[0m \u001b[1m1s\u001b[0m 2ms/step - RootMeanSquaredError: 0.5895 - RootMeanSquaredError_1: 0.6402 - loss: 0.3538 - mse_loss: 0.4099 - val_RootMeanSquaredError: 0.7645 - val_RootMeanSquaredError_1: 0.8417 - val_loss: 0.5969 - val_mse_loss: 0.7082\n",
            "Epoch 4/10\n",
            "\u001b[1m363/363\u001b[0m \u001b[32m━━━━━━━━━━━━━━━━━━━━\u001b[0m\u001b[37m\u001b[0m \u001b[1m1s\u001b[0m 2ms/step - RootMeanSquaredError: 0.5858 - RootMeanSquaredError_1: 0.6351 - loss: 0.3492 - mse_loss: 0.4035 - val_RootMeanSquaredError: 0.8784 - val_RootMeanSquaredError_1: 1.0650 - val_loss: 0.8079 - val_mse_loss: 1.1339\n",
            "Epoch 5/10\n",
            "\u001b[1m363/363\u001b[0m \u001b[32m━━━━━━━━━━━━━━━━━━━━\u001b[0m\u001b[37m\u001b[0m \u001b[1m1s\u001b[0m 2ms/step - RootMeanSquaredError: 0.5845 - RootMeanSquaredError_1: 0.6318 - loss: 0.3475 - mse_loss: 0.3993 - val_RootMeanSquaredError: 0.8173 - val_RootMeanSquaredError_1: 0.9015 - val_loss: 0.6824 - val_mse_loss: 0.8124\n",
            "Epoch 6/10\n",
            "\u001b[1m363/363\u001b[0m \u001b[32m━━━━━━━━━━━━━━━━━━━━\u001b[0m\u001b[37m\u001b[0m \u001b[1m1s\u001b[0m 2ms/step - RootMeanSquaredError: 0.5805 - RootMeanSquaredError_1: 0.6271 - loss: 0.3427 - mse_loss: 0.3933 - val_RootMeanSquaredError: 0.9348 - val_RootMeanSquaredError_1: 1.1635 - val_loss: 0.9218 - val_mse_loss: 1.3532\n",
            "Epoch 7/10\n",
            "\u001b[1m363/363\u001b[0m \u001b[32m━━━━━━━━━━━━━━━━━━━━\u001b[0m\u001b[37m\u001b[0m \u001b[1m1s\u001b[0m 2ms/step - RootMeanSquaredError: 0.5798 - RootMeanSquaredError_1: 0.6254 - loss: 0.3418 - mse_loss: 0.3913 - val_RootMeanSquaredError: 0.8314 - val_RootMeanSquaredError_1: 0.8927 - val_loss: 0.7017 - val_mse_loss: 0.7966\n",
            "Epoch 8/10\n",
            "\u001b[1m363/363\u001b[0m \u001b[32m━━━━━━━━━━━━━━━━━━━━\u001b[0m\u001b[37m\u001b[0m \u001b[1m1s\u001b[0m 2ms/step - RootMeanSquaredError: 0.5799 - RootMeanSquaredError_1: 0.6226 - loss: 0.3415 - mse_loss: 0.3878 - val_RootMeanSquaredError: 0.9048 - val_RootMeanSquaredError_1: 1.1251 - val_loss: 0.8634 - val_mse_loss: 1.2654\n",
            "Epoch 9/10\n",
            "\u001b[1m363/363\u001b[0m \u001b[32m━━━━━━━━━━━━━━━━━━━━\u001b[0m\u001b[37m\u001b[0m \u001b[1m1s\u001b[0m 2ms/step - RootMeanSquaredError: 0.5746 - RootMeanSquaredError_1: 0.6193 - loss: 0.3356 - mse_loss: 0.3837 - val_RootMeanSquaredError: 0.8138 - val_RootMeanSquaredError_1: 0.8786 - val_loss: 0.6732 - val_mse_loss: 0.7716\n",
            "Epoch 10/10\n",
            "\u001b[1m363/363\u001b[0m \u001b[32m━━━━━━━━━━━━━━━━━━━━\u001b[0m\u001b[37m\u001b[0m \u001b[1m1s\u001b[0m 2ms/step - RootMeanSquaredError: 0.5721 - RootMeanSquaredError_1: 0.6164 - loss: 0.3326 - mse_loss: 0.3800 - val_RootMeanSquaredError: 0.8500 - val_RootMeanSquaredError_1: 1.0407 - val_loss: 0.7585 - val_mse_loss: 1.0827\n"
          ]
        }
      ],
      "source": [
        "checkpoint_cb = keras.callbacks.ModelCheckpoint(\"my_checkpoints.weights.h5\",\n",
        "                                                   save_weights_only=True)\n",
        "history = model.fit(\n",
        "    (X_train_wide, X_train_deep), (y_train, y_train), epochs=10,\n",
        "    validation_data=((X_valid_wide, X_valid_deep), (y_valid, y_valid)),\n",
        "    callbacks=[checkpoint_cb])"
      ]
    },
    {
      "cell_type": "markdown",
      "metadata": {
        "id": "4tq-IIG1hqnl"
      },
      "source": [
        "Another way to implement early stopping is to simply use the `EarlyStopping` callback. It will interrupt training when it measures no progress on the validation set for a number of epochs (`patience` argument), and if you set `restore_best_weights=True` it will roll back to the best model at the end of training. You can combine both callbacks to save checkpoints of your model in case your computer crashes, and interrupt training early when there is no more progress, to avoid wasting time and resources and to reduce overfitting"
      ]
    },
    {
      "cell_type": "code",
      "execution_count": null,
      "metadata": {
        "colab": {
          "base_uri": "https://localhost:8080/"
        },
        "id": "__iWPQ8Shqnl",
        "outputId": "4e525def-15c7-46db-9700-c57c7b91ead4",
        "scrolled": true
      },
      "outputs": [
        {
          "output_type": "stream",
          "name": "stdout",
          "text": [
            "Epoch 1/100\n",
            "\u001b[1m363/363\u001b[0m \u001b[32m━━━━━━━━━━━━━━━━━━━━\u001b[0m\u001b[37m\u001b[0m \u001b[1m1s\u001b[0m 2ms/step - RootMeanSquaredError: 0.5719 - RootMeanSquaredError_1: 0.6145 - loss: 0.3322 - mse_loss: 0.3778 - val_RootMeanSquaredError: 0.7581 - val_RootMeanSquaredError_1: 0.8206 - val_loss: 0.5846 - val_mse_loss: 0.6732\n",
            "Epoch 2/100\n",
            "\u001b[1m363/363\u001b[0m \u001b[32m━━━━━━━━━━━━━━━━━━━━\u001b[0m\u001b[37m\u001b[0m \u001b[1m1s\u001b[0m 2ms/step - RootMeanSquaredError: 0.5681 - RootMeanSquaredError_1: 0.6116 - loss: 0.3280 - mse_loss: 0.3741 - val_RootMeanSquaredError: 0.8044 - val_RootMeanSquaredError_1: 0.9805 - val_loss: 0.6784 - val_mse_loss: 0.9610\n",
            "Epoch 3/100\n",
            "\u001b[1m363/363\u001b[0m \u001b[32m━━━━━━━━━━━━━━━━━━━━\u001b[0m\u001b[37m\u001b[0m \u001b[1m1s\u001b[0m 2ms/step - RootMeanSquaredError: 0.5701 - RootMeanSquaredError_1: 0.6112 - loss: 0.3299 - mse_loss: 0.3736 - val_RootMeanSquaredError: 0.7449 - val_RootMeanSquaredError_1: 0.8023 - val_loss: 0.5638 - val_mse_loss: 0.6434\n",
            "Epoch 4/100\n",
            "\u001b[1m363/363\u001b[0m \u001b[32m━━━━━━━━━━━━━━━━━━━━\u001b[0m\u001b[37m\u001b[0m \u001b[1m1s\u001b[0m 3ms/step - RootMeanSquaredError: 0.5696 - RootMeanSquaredError_1: 0.6105 - loss: 0.3293 - mse_loss: 0.3728 - val_RootMeanSquaredError: 0.8171 - val_RootMeanSquaredError_1: 1.0188 - val_loss: 0.7047 - val_mse_loss: 1.0377\n",
            "Epoch 5/100\n",
            "\u001b[1m363/363\u001b[0m \u001b[32m━━━━━━━━━━━━━━━━━━━━\u001b[0m\u001b[37m\u001b[0m \u001b[1m1s\u001b[0m 2ms/step - RootMeanSquaredError: 0.5641 - RootMeanSquaredError_1: 0.6079 - loss: 0.3235 - mse_loss: 0.3696 - val_RootMeanSquaredError: 0.7658 - val_RootMeanSquaredError_1: 0.8315 - val_loss: 0.5969 - val_mse_loss: 0.6911\n",
            "Epoch 6/100\n",
            "\u001b[1m363/363\u001b[0m \u001b[32m━━━━━━━━━━━━━━━━━━━━\u001b[0m\u001b[37m\u001b[0m \u001b[1m1s\u001b[0m 2ms/step - RootMeanSquaredError: 0.5633 - RootMeanSquaredError_1: 0.6050 - loss: 0.3223 - mse_loss: 0.3661 - val_RootMeanSquaredError: 0.8465 - val_RootMeanSquaredError_1: 1.0342 - val_loss: 0.7519 - val_mse_loss: 1.0692\n",
            "Epoch 7/100\n",
            "\u001b[1m363/363\u001b[0m \u001b[32m━━━━━━━━━━━━━━━━━━━━\u001b[0m\u001b[37m\u001b[0m \u001b[1m1s\u001b[0m 2ms/step - RootMeanSquaredError: 0.5616 - RootMeanSquaredError_1: 0.6037 - loss: 0.3204 - mse_loss: 0.3646 - val_RootMeanSquaredError: 0.7476 - val_RootMeanSquaredError_1: 0.8118 - val_loss: 0.5689 - val_mse_loss: 0.6589\n",
            "Epoch 8/100\n",
            "\u001b[1m363/363\u001b[0m \u001b[32m━━━━━━━━━━━━━━━━━━━━\u001b[0m\u001b[37m\u001b[0m \u001b[1m1s\u001b[0m 2ms/step - RootMeanSquaredError: 0.5608 - RootMeanSquaredError_1: 0.6017 - loss: 0.3193 - mse_loss: 0.3621 - val_RootMeanSquaredError: 0.8198 - val_RootMeanSquaredError_1: 0.9842 - val_loss: 0.7017 - val_mse_loss: 0.9684\n",
            "Epoch 9/100\n",
            "\u001b[1m363/363\u001b[0m \u001b[32m━━━━━━━━━━━━━━━━━━━━\u001b[0m\u001b[37m\u001b[0m \u001b[1m1s\u001b[0m 2ms/step - RootMeanSquaredError: 0.5597 - RootMeanSquaredError_1: 0.6002 - loss: 0.3180 - mse_loss: 0.3603 - val_RootMeanSquaredError: 0.7514 - val_RootMeanSquaredError_1: 0.7155 - val_loss: 0.5593 - val_mse_loss: 0.5118\n",
            "Epoch 10/100\n",
            "\u001b[1m363/363\u001b[0m \u001b[32m━━━━━━━━━━━━━━━━━━━━\u001b[0m\u001b[37m\u001b[0m \u001b[1m1s\u001b[0m 2ms/step - RootMeanSquaredError: 0.5585 - RootMeanSquaredError_1: 0.5984 - loss: 0.3166 - mse_loss: 0.3582 - val_RootMeanSquaredError: 0.7983 - val_RootMeanSquaredError_1: 0.8416 - val_loss: 0.6444 - val_mse_loss: 0.7081\n",
            "Epoch 11/100\n",
            "\u001b[1m363/363\u001b[0m \u001b[32m━━━━━━━━━━━━━━━━━━━━\u001b[0m\u001b[37m\u001b[0m \u001b[1m1s\u001b[0m 2ms/step - RootMeanSquaredError: 0.5580 - RootMeanSquaredError_1: 0.5973 - loss: 0.3159 - mse_loss: 0.3568 - val_RootMeanSquaredError: 0.6935 - val_RootMeanSquaredError_1: 0.7599 - val_loss: 0.4906 - val_mse_loss: 0.5772\n",
            "Epoch 12/100\n",
            "\u001b[1m363/363\u001b[0m \u001b[32m━━━━━━━━━━━━━━━━━━━━\u001b[0m\u001b[37m\u001b[0m \u001b[1m1s\u001b[0m 2ms/step - RootMeanSquaredError: 0.5590 - RootMeanSquaredError_1: 0.5987 - loss: 0.3172 - mse_loss: 0.3585 - val_RootMeanSquaredError: 0.7415 - val_RootMeanSquaredError_1: 0.9994 - val_loss: 0.5948 - val_mse_loss: 0.9983\n",
            "Epoch 13/100\n",
            "\u001b[1m363/363\u001b[0m \u001b[32m━━━━━━━━━━━━━━━━━━━━\u001b[0m\u001b[37m\u001b[0m \u001b[1m1s\u001b[0m 2ms/step - RootMeanSquaredError: 0.5556 - RootMeanSquaredError_1: 0.5958 - loss: 0.3134 - mse_loss: 0.3551 - val_RootMeanSquaredError: 0.6857 - val_RootMeanSquaredError_1: 0.8793 - val_loss: 0.5005 - val_mse_loss: 0.7729\n",
            "Epoch 14/100\n",
            "\u001b[1m363/363\u001b[0m \u001b[32m━━━━━━━━━━━━━━━━━━━━\u001b[0m\u001b[37m\u001b[0m \u001b[1m1s\u001b[0m 2ms/step - RootMeanSquaredError: 0.5564 - RootMeanSquaredError_1: 0.5956 - loss: 0.3142 - mse_loss: 0.3549 - val_RootMeanSquaredError: 0.7618 - val_RootMeanSquaredError_1: 1.0127 - val_loss: 0.6248 - val_mse_loss: 1.0253\n",
            "Epoch 15/100\n",
            "\u001b[1m363/363\u001b[0m \u001b[32m━━━━━━━━━━━━━━━━━━━━\u001b[0m\u001b[37m\u001b[0m \u001b[1m1s\u001b[0m 2ms/step - RootMeanSquaredError: 0.5541 - RootMeanSquaredError_1: 0.5931 - loss: 0.3115 - mse_loss: 0.3519 - val_RootMeanSquaredError: 0.6863 - val_RootMeanSquaredError_1: 0.8039 - val_loss: 0.4885 - val_mse_loss: 0.6461\n",
            "Epoch 16/100\n",
            "\u001b[1m363/363\u001b[0m \u001b[32m━━━━━━━━━━━━━━━━━━━━\u001b[0m\u001b[37m\u001b[0m \u001b[1m1s\u001b[0m 2ms/step - RootMeanSquaredError: 0.5557 - RootMeanSquaredError_1: 0.5945 - loss: 0.3133 - mse_loss: 0.3536 - val_RootMeanSquaredError: 0.7632 - val_RootMeanSquaredError_1: 0.9707 - val_loss: 0.6185 - val_mse_loss: 0.9419\n",
            "Epoch 17/100\n",
            "\u001b[1m363/363\u001b[0m \u001b[32m━━━━━━━━━━━━━━━━━━━━\u001b[0m\u001b[37m\u001b[0m \u001b[1m1s\u001b[0m 2ms/step - RootMeanSquaredError: 0.5521 - RootMeanSquaredError_1: 0.5912 - loss: 0.3094 - mse_loss: 0.3496 - val_RootMeanSquaredError: 0.6642 - val_RootMeanSquaredError_1: 0.8005 - val_loss: 0.4611 - val_mse_loss: 0.6407\n",
            "Epoch 18/100\n",
            "\u001b[1m363/363\u001b[0m \u001b[32m━━━━━━━━━━━━━━━━━━━━\u001b[0m\u001b[37m\u001b[0m \u001b[1m1s\u001b[0m 2ms/step - RootMeanSquaredError: 0.5515 - RootMeanSquaredError_1: 0.5904 - loss: 0.3086 - mse_loss: 0.3487 - val_RootMeanSquaredError: 0.7320 - val_RootMeanSquaredError_1: 0.9086 - val_loss: 0.5647 - val_mse_loss: 0.8252\n",
            "Epoch 19/100\n",
            "\u001b[1m363/363\u001b[0m \u001b[32m━━━━━━━━━━━━━━━━━━━━\u001b[0m\u001b[37m\u001b[0m \u001b[1m1s\u001b[0m 2ms/step - RootMeanSquaredError: 0.5506 - RootMeanSquaredError_1: 0.5893 - loss: 0.3077 - mse_loss: 0.3473 - val_RootMeanSquaredError: 0.6777 - val_RootMeanSquaredError_1: 0.7763 - val_loss: 0.4736 - val_mse_loss: 0.6025\n",
            "Epoch 20/100\n",
            "\u001b[1m363/363\u001b[0m \u001b[32m━━━━━━━━━━━━━━━━━━━━\u001b[0m\u001b[37m\u001b[0m \u001b[1m1s\u001b[0m 2ms/step - RootMeanSquaredError: 0.5506 - RootMeanSquaredError_1: 0.5890 - loss: 0.3076 - mse_loss: 0.3471 - val_RootMeanSquaredError: 0.7547 - val_RootMeanSquaredError_1: 0.8324 - val_loss: 0.5818 - val_mse_loss: 0.6927\n",
            "Epoch 21/100\n",
            "\u001b[1m363/363\u001b[0m \u001b[32m━━━━━━━━━━━━━━━━━━━━\u001b[0m\u001b[37m\u001b[0m \u001b[1m1s\u001b[0m 2ms/step - RootMeanSquaredError: 0.5493 - RootMeanSquaredError_1: 0.5873 - loss: 0.3062 - mse_loss: 0.3450 - val_RootMeanSquaredError: 0.5622 - val_RootMeanSquaredError_1: 0.6176 - val_loss: 0.3226 - val_mse_loss: 0.3813\n",
            "Epoch 22/100\n",
            "\u001b[1m363/363\u001b[0m \u001b[32m━━━━━━━━━━━━━━━━━━━━\u001b[0m\u001b[37m\u001b[0m \u001b[1m1s\u001b[0m 2ms/step - RootMeanSquaredError: 0.5484 - RootMeanSquaredError_1: 0.5866 - loss: 0.3052 - mse_loss: 0.3443 - val_RootMeanSquaredError: 0.6957 - val_RootMeanSquaredError_1: 0.7906 - val_loss: 0.4981 - val_mse_loss: 0.6248\n",
            "Epoch 23/100\n",
            "\u001b[1m363/363\u001b[0m \u001b[32m━━━━━━━━━━━━━━━━━━━━\u001b[0m\u001b[37m\u001b[0m \u001b[1m1s\u001b[0m 2ms/step - RootMeanSquaredError: 0.5489 - RootMeanSquaredError_1: 0.5866 - loss: 0.3056 - mse_loss: 0.3443 - val_RootMeanSquaredError: 0.5900 - val_RootMeanSquaredError_1: 0.6321 - val_loss: 0.3532 - val_mse_loss: 0.3995\n",
            "Epoch 24/100\n",
            "\u001b[1m363/363\u001b[0m \u001b[32m━━━━━━━━━━━━━━━━━━━━\u001b[0m\u001b[37m\u001b[0m \u001b[1m1s\u001b[0m 2ms/step - RootMeanSquaredError: 0.5505 - RootMeanSquaredError_1: 0.5879 - loss: 0.3074 - mse_loss: 0.3458 - val_RootMeanSquaredError: 0.7086 - val_RootMeanSquaredError_1: 1.0147 - val_loss: 0.5549 - val_mse_loss: 1.0292\n",
            "Epoch 25/100\n",
            "\u001b[1m363/363\u001b[0m \u001b[32m━━━━━━━━━━━━━━━━━━━━\u001b[0m\u001b[37m\u001b[0m \u001b[1m1s\u001b[0m 2ms/step - RootMeanSquaredError: 0.5468 - RootMeanSquaredError_1: 0.5854 - loss: 0.3035 - mse_loss: 0.3428 - val_RootMeanSquaredError: 0.5646 - val_RootMeanSquaredError_1: 0.6113 - val_loss: 0.3243 - val_mse_loss: 0.3736\n",
            "Epoch 26/100\n",
            "\u001b[1m363/363\u001b[0m \u001b[32m━━━━━━━━━━━━━━━━━━━━\u001b[0m\u001b[37m\u001b[0m \u001b[1m1s\u001b[0m 2ms/step - RootMeanSquaredError: 0.5462 - RootMeanSquaredError_1: 0.5841 - loss: 0.3027 - mse_loss: 0.3413 - val_RootMeanSquaredError: 0.7060 - val_RootMeanSquaredError_1: 0.7927 - val_loss: 0.5114 - val_mse_loss: 0.6281\n",
            "Epoch 27/100\n",
            "\u001b[1m363/363\u001b[0m \u001b[32m━━━━━━━━━━━━━━━━━━━━\u001b[0m\u001b[37m\u001b[0m \u001b[1m1s\u001b[0m 2ms/step - RootMeanSquaredError: 0.5459 - RootMeanSquaredError_1: 0.5836 - loss: 0.3023 - mse_loss: 0.3407 - val_RootMeanSquaredError: 0.6632 - val_RootMeanSquaredError_1: 0.7046 - val_loss: 0.4455 - val_mse_loss: 0.4963\n",
            "Epoch 28/100\n",
            "\u001b[1m363/363\u001b[0m \u001b[32m━━━━━━━━━━━━━━━━━━━━\u001b[0m\u001b[37m\u001b[0m \u001b[1m1s\u001b[0m 2ms/step - RootMeanSquaredError: 0.5467 - RootMeanSquaredError_1: 0.5845 - loss: 0.3032 - mse_loss: 0.3417 - val_RootMeanSquaredError: 0.5938 - val_RootMeanSquaredError_1: 0.6821 - val_loss: 0.3639 - val_mse_loss: 0.4651\n",
            "Epoch 29/100\n",
            "\u001b[1m363/363\u001b[0m \u001b[32m━━━━━━━━━━━━━━━━━━━━\u001b[0m\u001b[37m\u001b[0m \u001b[1m1s\u001b[0m 2ms/step - RootMeanSquaredError: 0.5446 - RootMeanSquaredError_1: 0.5821 - loss: 0.3009 - mse_loss: 0.3389 - val_RootMeanSquaredError: 0.5445 - val_RootMeanSquaredError_1: 0.5857 - val_loss: 0.3011 - val_mse_loss: 0.3431\n",
            "Epoch 30/100\n",
            "\u001b[1m363/363\u001b[0m \u001b[32m━━━━━━━━━━━━━━━━━━━━\u001b[0m\u001b[37m\u001b[0m \u001b[1m1s\u001b[0m 2ms/step - RootMeanSquaredError: 0.5440 - RootMeanSquaredError_1: 0.5814 - loss: 0.3002 - mse_loss: 0.3381 - val_RootMeanSquaredError: 0.6212 - val_RootMeanSquaredError_1: 0.7651 - val_loss: 0.4058 - val_mse_loss: 0.5852\n",
            "Epoch 31/100\n",
            "\u001b[1m363/363\u001b[0m \u001b[32m━━━━━━━━━━━━━━━━━━━━\u001b[0m\u001b[37m\u001b[0m \u001b[1m1s\u001b[0m 2ms/step - RootMeanSquaredError: 0.5440 - RootMeanSquaredError_1: 0.5808 - loss: 0.3002 - mse_loss: 0.3375 - val_RootMeanSquaredError: 0.5909 - val_RootMeanSquaredError_1: 0.6046 - val_loss: 0.3508 - val_mse_loss: 0.3654\n",
            "Epoch 32/100\n",
            "\u001b[1m363/363\u001b[0m \u001b[32m━━━━━━━━━━━━━━━━━━━━\u001b[0m\u001b[37m\u001b[0m \u001b[1m1s\u001b[0m 2ms/step - RootMeanSquaredError: 0.5434 - RootMeanSquaredError_1: 0.5806 - loss: 0.2995 - mse_loss: 0.3372 - val_RootMeanSquaredError: 0.6112 - val_RootMeanSquaredError_1: 0.7281 - val_loss: 0.3892 - val_mse_loss: 0.5300\n",
            "Epoch 33/100\n",
            "\u001b[1m363/363\u001b[0m \u001b[32m━━━━━━━━━━━━━━━━━━━━\u001b[0m\u001b[37m\u001b[0m \u001b[1m2s\u001b[0m 3ms/step - RootMeanSquaredError: 0.5435 - RootMeanSquaredError_1: 0.5802 - loss: 0.2996 - mse_loss: 0.3367 - val_RootMeanSquaredError: 0.5433 - val_RootMeanSquaredError_1: 0.5808 - val_loss: 0.2994 - val_mse_loss: 0.3373\n",
            "Epoch 34/100\n",
            "\u001b[1m363/363\u001b[0m \u001b[32m━━━━━━━━━━━━━━━━━━━━\u001b[0m\u001b[37m\u001b[0m \u001b[1m1s\u001b[0m 2ms/step - RootMeanSquaredError: 0.5440 - RootMeanSquaredError_1: 0.5804 - loss: 0.3001 - mse_loss: 0.3370 - val_RootMeanSquaredError: 0.5858 - val_RootMeanSquaredError_1: 0.7078 - val_loss: 0.3590 - val_mse_loss: 0.5008\n",
            "Epoch 35/100\n",
            "\u001b[1m363/363\u001b[0m \u001b[32m━━━━━━━━━━━━━━━━━━━━\u001b[0m\u001b[37m\u001b[0m \u001b[1m1s\u001b[0m 2ms/step - RootMeanSquaredError: 0.5419 - RootMeanSquaredError_1: 0.5785 - loss: 0.2979 - mse_loss: 0.3348 - val_RootMeanSquaredError: 0.5366 - val_RootMeanSquaredError_1: 0.5833 - val_loss: 0.2932 - val_mse_loss: 0.3402\n",
            "Epoch 36/100\n",
            "\u001b[1m363/363\u001b[0m \u001b[32m━━━━━━━━━━━━━━━━━━━━\u001b[0m\u001b[37m\u001b[0m \u001b[1m1s\u001b[0m 2ms/step - RootMeanSquaredError: 0.5413 - RootMeanSquaredError_1: 0.5780 - loss: 0.2972 - mse_loss: 0.3343 - val_RootMeanSquaredError: 0.6464 - val_RootMeanSquaredError_1: 0.7879 - val_loss: 0.4381 - val_mse_loss: 0.6207\n",
            "Epoch 37/100\n",
            "\u001b[1m363/363\u001b[0m \u001b[32m━━━━━━━━━━━━━━━━━━━━\u001b[0m\u001b[37m\u001b[0m \u001b[1m1s\u001b[0m 2ms/step - RootMeanSquaredError: 0.5405 - RootMeanSquaredError_1: 0.5770 - loss: 0.2963 - mse_loss: 0.3330 - val_RootMeanSquaredError: 0.5934 - val_RootMeanSquaredError_1: 0.5839 - val_loss: 0.3510 - val_mse_loss: 0.3409\n",
            "Epoch 38/100\n",
            "\u001b[1m363/363\u001b[0m \u001b[32m━━━━━━━━━━━━━━━━━━━━\u001b[0m\u001b[37m\u001b[0m \u001b[1m1s\u001b[0m 2ms/step - RootMeanSquaredError: 0.5414 - RootMeanSquaredError_1: 0.5775 - loss: 0.2972 - mse_loss: 0.3336 - val_RootMeanSquaredError: 0.6077 - val_RootMeanSquaredError_1: 0.9116 - val_loss: 0.4155 - val_mse_loss: 0.8307\n",
            "Epoch 39/100\n",
            "\u001b[1m363/363\u001b[0m \u001b[32m━━━━━━━━━━━━━━━━━━━━\u001b[0m\u001b[37m\u001b[0m \u001b[1m1s\u001b[0m 2ms/step - RootMeanSquaredError: 0.5404 - RootMeanSquaredError_1: 0.5776 - loss: 0.2963 - mse_loss: 0.3337 - val_RootMeanSquaredError: 0.5413 - val_RootMeanSquaredError_1: 0.5982 - val_loss: 0.2995 - val_mse_loss: 0.3578\n",
            "Epoch 40/100\n",
            "\u001b[1m363/363\u001b[0m \u001b[32m━━━━━━━━━━━━━━━━━━━━\u001b[0m\u001b[37m\u001b[0m \u001b[1m1s\u001b[0m 2ms/step - RootMeanSquaredError: 0.5401 - RootMeanSquaredError_1: 0.5764 - loss: 0.2958 - mse_loss: 0.3323 - val_RootMeanSquaredError: 0.6708 - val_RootMeanSquaredError_1: 0.7525 - val_loss: 0.4616 - val_mse_loss: 0.5662\n",
            "Epoch 41/100\n",
            "\u001b[1m363/363\u001b[0m \u001b[32m━━━━━━━━━━━━━━━━━━━━\u001b[0m\u001b[37m\u001b[0m \u001b[1m1s\u001b[0m 2ms/step - RootMeanSquaredError: 0.5390 - RootMeanSquaredError_1: 0.5751 - loss: 0.2946 - mse_loss: 0.3308 - val_RootMeanSquaredError: 0.5745 - val_RootMeanSquaredError_1: 0.5834 - val_loss: 0.3311 - val_mse_loss: 0.3403\n",
            "Epoch 42/100\n",
            "\u001b[1m363/363\u001b[0m \u001b[32m━━━━━━━━━━━━━━━━━━━━\u001b[0m\u001b[37m\u001b[0m \u001b[1m1s\u001b[0m 2ms/step - RootMeanSquaredError: 0.5390 - RootMeanSquaredError_1: 0.5751 - loss: 0.2946 - mse_loss: 0.3309 - val_RootMeanSquaredError: 0.6162 - val_RootMeanSquaredError_1: 0.8492 - val_loss: 0.4138 - val_mse_loss: 0.7208\n",
            "Epoch 43/100\n",
            "\u001b[1m363/363\u001b[0m \u001b[32m━━━━━━━━━━━━━━━━━━━━\u001b[0m\u001b[37m\u001b[0m \u001b[1m2s\u001b[0m 3ms/step - RootMeanSquaredError: 0.5381 - RootMeanSquaredError_1: 0.5745 - loss: 0.2937 - mse_loss: 0.3302 - val_RootMeanSquaredError: 0.5403 - val_RootMeanSquaredError_1: 0.5770 - val_loss: 0.2961 - val_mse_loss: 0.3329\n",
            "Epoch 44/100\n",
            "\u001b[1m363/363\u001b[0m \u001b[32m━━━━━━━━━━━━━━━━━━━━\u001b[0m\u001b[37m\u001b[0m \u001b[1m1s\u001b[0m 2ms/step - RootMeanSquaredError: 0.5375 - RootMeanSquaredError_1: 0.5733 - loss: 0.2929 - mse_loss: 0.3288 - val_RootMeanSquaredError: 0.6637 - val_RootMeanSquaredError_1: 0.8176 - val_loss: 0.4633 - val_mse_loss: 0.6683\n",
            "Epoch 45/100\n",
            "\u001b[1m363/363\u001b[0m \u001b[32m━━━━━━━━━━━━━━━━━━━━\u001b[0m\u001b[37m\u001b[0m \u001b[1m1s\u001b[0m 2ms/step - RootMeanSquaredError: 0.5371 - RootMeanSquaredError_1: 0.5729 - loss: 0.2926 - mse_loss: 0.3284 - val_RootMeanSquaredError: 0.5500 - val_RootMeanSquaredError_1: 0.5751 - val_loss: 0.3053 - val_mse_loss: 0.3307\n"
          ]
        }
      ],
      "source": [
        "early_stopping_cb = keras.callbacks.EarlyStopping(patience=10,\n",
        "                                                     restore_best_weights=True)\n",
        "history = model.fit(\n",
        "    (X_train_wide, X_train_deep), (y_train, y_train), epochs=100,\n",
        "    validation_data=((X_valid_wide, X_valid_deep), (y_valid, y_valid)),\n",
        "    callbacks=[checkpoint_cb, early_stopping_cb])"
      ]
    },
    {
      "cell_type": "code",
      "source": [
        "class PrintValTrainRatioCallback(tf.keras.callbacks.Callback):\n",
        "    def on_epoch_end(self, epoch, logs):\n",
        "        ratio = logs[\"val_loss\"] / logs[\"loss\"]\n",
        "        print(f\"Epoch={epoch}, val/train={ratio:.2f}\")"
      ],
      "metadata": {
        "id": "NZV_NwEfV6iV"
      },
      "execution_count": null,
      "outputs": []
    },
    {
      "cell_type": "code",
      "source": [
        "val_train_ratio_cb = PrintValTrainRatioCallback()\n",
        "history = model.fit(\n",
        "    (X_train_wide, X_train_deep), (y_train, y_train), epochs=10,\n",
        "    validation_data=((X_valid_wide, X_valid_deep), (y_valid, y_valid)),\n",
        "    callbacks=[val_train_ratio_cb], verbose=0)"
      ],
      "metadata": {
        "colab": {
          "base_uri": "https://localhost:8080/"
        },
        "id": "SHBQsj6LV8D-",
        "outputId": "4ba67c14-addb-4c29-a4d7-dc8c26c5b812"
      },
      "execution_count": null,
      "outputs": [
        {
          "output_type": "stream",
          "name": "stdout",
          "text": [
            "Epoch=0, val/train=1.58\n",
            "Epoch=1, val/train=1.10\n",
            "Epoch=2, val/train=1.39\n",
            "Epoch=3, val/train=0.99\n",
            "Epoch=4, val/train=1.06\n",
            "Epoch=5, val/train=1.03\n",
            "Epoch=6, val/train=0.99\n",
            "Epoch=7, val/train=1.21\n",
            "Epoch=8, val/train=1.01\n",
            "Epoch=9, val/train=1.21\n"
          ]
        }
      ]
    },
    {
      "cell_type": "markdown",
      "metadata": {
        "id": "VB3vXEbOhqnl"
      },
      "source": [
        "# Fine-Tuning Neural Network Hyperparameters"
      ]
    },
    {
      "cell_type": "code",
      "execution_count": null,
      "metadata": {
        "id": "mDU7l2PUhqnm",
        "scrolled": true
      },
      "outputs": [],
      "source": [
        "keras.backend.clear_session()\n",
        "np.random.seed(42)\n",
        "tf.random.set_seed(42)"
      ]
    },
    {
      "cell_type": "markdown",
      "metadata": {
        "id": "nGOtFi2Vhqnm"
      },
      "source": [
        "The flexibility of neural networks is also one of their main drawbacks: there are many hyperparameters to tweak. Not only can you use any imaginable network architecture, but even in a simple MLP you can change the number of layers, the number of neurons per layer, the type of activation function to use in each layer, the weight initialization logic, and much more.\n",
        "\n",
        "To obtain the best combination of hyperparameters work for the task, we can simply try many combinations of hyperparameters and see which one works best on the validation set (or use K-fold cross-validation). For example, we can use `GridSearchCV` or `RandomizedSearchCV` to explore the hyperparameter space.\n",
        "\n",
        "However, there’s a better way: we can use the `Keras Tuner` library, which is a hyperparameter tuning library for Keras models. It offers several tuning strategies, it’s highly customizable, and it has excellent integration with TensorBoard. Let’s see how to use it."
      ]
    },
    {
      "cell_type": "code",
      "source": [
        "if \"google.colab\" in sys.modules:\n",
        "    %pip install -q -U keras_tuner~=1.4.6"
      ],
      "metadata": {
        "id": "RtB9S1csWsTk"
      },
      "execution_count": null,
      "outputs": []
    },
    {
      "cell_type": "code",
      "source": [
        "(X_train_full, y_train_full), (X_test, y_test) = fashion_mnist\n",
        "X_train, y_train = X_train_full[:-5000], y_train_full[:-5000]\n",
        "X_valid, y_valid = X_train_full[-5000:], y_train_full[-5000:]"
      ],
      "metadata": {
        "id": "Zio61SqRWx0a"
      },
      "execution_count": null,
      "outputs": []
    },
    {
      "cell_type": "markdown",
      "source": [
        "Let's write a function that builds, compiles, and returns a Keras model. The function must take a `kt.HyperParameters` object as an argument, which it can use to define hyperparameters (integers, floats, strings, etc.) along with their range of possible values, and these hyperparameters may be used to build and compile the model.\n",
        "\n",
        "For example, the following function builds and compiles an MLP to classify Fashion MNIST images, using hyperparameters such as the number of hidden layers (n_hidden), the number of neurons per layer (n_neurons), the learning rate (learning_rate), and the type of optimizer to use (optimizer)"
      ],
      "metadata": {
        "id": "YwT5nGVJXF-e"
      }
    },
    {
      "cell_type": "code",
      "execution_count": null,
      "metadata": {
        "id": "E7VKPg0vhqnm",
        "scrolled": true
      },
      "outputs": [],
      "source": [
        "import keras_tuner as kt\n",
        "\n",
        "def build_model(hp):\n",
        "    n_hidden = hp.Int(\"n_hidden\", min_value=0, max_value=8, default=2)\n",
        "    n_neurons = hp.Int(\"n_neurons\", min_value=16, max_value=256)\n",
        "    learning_rate = hp.Float(\"learning_rate\", min_value=1e-4, max_value=1e-2,\n",
        "                             sampling=\"log\")\n",
        "    optimizer = hp.Choice(\"optimizer\", values=[\"sgd\", \"adam\"])\n",
        "    if optimizer == \"sgd\":\n",
        "        optimizer = keras.optimizers.SGD(learning_rate=learning_rate)\n",
        "    else:\n",
        "        optimizer = keras.optimizers.Adam(learning_rate=learning_rate)\n",
        "\n",
        "    model = keras.Sequential()\n",
        "    model.add(keras.layers.Flatten())\n",
        "    for _ in range(n_hidden):\n",
        "        model.add(keras.layers.Dense(n_neurons, activation=\"relu\"))\n",
        "    model.add(keras.layers.Dense(10, activation=\"softmax\"))\n",
        "    model.compile(loss=\"sparse_categorical_crossentropy\", optimizer=optimizer,\n",
        "                  metrics=[\"accuracy\"])\n",
        "    return model\n"
      ]
    },
    {
      "cell_type": "markdown",
      "source": [
        "The `RandomSearch` tuner first calls `build_model()` once with an empty `Hyperparameters` object, just to gather all the hyperparameter specifications. Then, in this example, it runs 5 trials; for each trial it builds a model using hyperparameters sampled randomly within their respective ranges, then it trains that model for 10 epochs and saves it to a subdirectory of the `my_fashion_mnist/my_rnd_search` directory.\n",
        "\n",
        "Since `overwrite=True`, the `my_rnd_search` directory is deleted before training starts.\n",
        "If run this code a second time but with `overwrite=False` and `max_​tri⁠als=10`, the tuner will continue tuning where it left off, running 5 more trials: this means we don’t have to run all the trials in one shot.\n",
        "\n",
        "Lastly, since objective is set to `val_accuracy`, the tuner prefers models with a higher validation accuracy."
      ],
      "metadata": {
        "id": "AOYNoEnsaCvb"
      }
    },
    {
      "cell_type": "code",
      "source": [
        "random_search_tuner = kt.RandomSearch(\n",
        "    build_model, objective=\"val_accuracy\", max_trials=5, overwrite=True,\n",
        "    directory=\"my_fashion_mnist\", project_name=\"my_rnd_search\", seed=42)\n",
        "\n",
        "random_search_tuner.search(X_train, y_train, epochs=10, validation_data=(X_valid, y_valid))"
      ],
      "metadata": {
        "colab": {
          "base_uri": "https://localhost:8080/"
        },
        "id": "AZ6wVr_iZSZI",
        "outputId": "a542e045-2235-4339-ad4b-8992cbc50b6e"
      },
      "execution_count": null,
      "outputs": [
        {
          "output_type": "stream",
          "name": "stdout",
          "text": [
            "Trial 5 Complete [00h 00m 42s]\n",
            "val_accuracy: 0.8399999737739563\n",
            "\n",
            "Best val_accuracy So Far: 0.848800003528595\n",
            "Total elapsed time: 00h 03m 26s\n"
          ]
        }
      ]
    },
    {
      "cell_type": "code",
      "source": [
        "top3_models = random_search_tuner.get_best_models(num_models=3)\n",
        "best_model = top3_models[0]"
      ],
      "metadata": {
        "id": "x1Rb5BFRaoiy"
      },
      "execution_count": null,
      "outputs": []
    },
    {
      "cell_type": "code",
      "source": [
        "top3_params = random_search_tuner.get_best_hyperparameters(num_trials=3)\n",
        "top3_params[0].values  # best hyperparameter values"
      ],
      "metadata": {
        "colab": {
          "base_uri": "https://localhost:8080/"
        },
        "id": "aanOLv_2apPl",
        "outputId": "78b33131-be55-4da5-c526-885e6ee3fc47"
      },
      "execution_count": null,
      "outputs": [
        {
          "output_type": "execute_result",
          "data": {
            "text/plain": [
              "{'n_hidden': 7,\n",
              " 'n_neurons': 100,\n",
              " 'learning_rate': 0.0012482904754698163,\n",
              " 'optimizer': 'sgd'}"
            ]
          },
          "metadata": {},
          "execution_count": 79
        }
      ]
    },
    {
      "cell_type": "markdown",
      "source": [
        "Each tuner is guided by a so-called `oracle`: before each trial, the tuner asks the oracle to tell it what the next trial should be. The `RandomSearch` tuner uses a `RandomSearchOracle`, which is pretty basic: it just picks the next trial randomly, as we saw earlier. Since the oracle keeps track of all the trials, you can ask it to give you the best one, and you can display a summary of that trial"
      ],
      "metadata": {
        "id": "yHHGNgeNbgiM"
      }
    },
    {
      "cell_type": "code",
      "source": [
        "best_trial = random_search_tuner.oracle.get_best_trials(num_trials=1)[0]\n",
        "best_trial.summary()"
      ],
      "metadata": {
        "colab": {
          "base_uri": "https://localhost:8080/"
        },
        "id": "moj_TS5RaspC",
        "outputId": "06955db4-059d-4b94-db7f-b07c42dc72e4"
      },
      "execution_count": null,
      "outputs": [
        {
          "output_type": "stream",
          "name": "stdout",
          "text": [
            "Trial 1 summary\n",
            "Hyperparameters:\n",
            "n_hidden: 7\n",
            "n_neurons: 100\n",
            "learning_rate: 0.0012482904754698163\n",
            "optimizer: sgd\n",
            "Score: 0.848800003528595\n"
          ]
        }
      ]
    },
    {
      "cell_type": "code",
      "source": [
        "best_trial.metrics.get_last_value(\"val_accuracy\")"
      ],
      "metadata": {
        "colab": {
          "base_uri": "https://localhost:8080/"
        },
        "id": "qmiSEbDpauzE",
        "outputId": "624801fc-92ad-43d5-8235-c495e3c28ad3"
      },
      "execution_count": null,
      "outputs": [
        {
          "output_type": "execute_result",
          "data": {
            "text/plain": [
              "np.float64(0.848800003528595)"
            ]
          },
          "metadata": {},
          "execution_count": 81
        }
      ]
    },
    {
      "cell_type": "code",
      "source": [
        "best_model.fit(X_train_full, y_train_full, epochs=10)\n",
        "test_loss, test_accuracy = best_model.evaluate(X_test, y_test)"
      ],
      "metadata": {
        "colab": {
          "base_uri": "https://localhost:8080/"
        },
        "id": "t4f9pWGBawf6",
        "outputId": "55af98c4-904d-400a-e38d-e12002d27c3b"
      },
      "execution_count": null,
      "outputs": [
        {
          "output_type": "stream",
          "name": "stdout",
          "text": [
            "Epoch 1/10\n",
            "\u001b[1m1875/1875\u001b[0m \u001b[32m━━━━━━━━━━━━━━━━━━━━\u001b[0m\u001b[37m\u001b[0m \u001b[1m8s\u001b[0m 4ms/step - accuracy: 0.8755 - loss: 0.3334\n",
            "Epoch 2/10\n",
            "\u001b[1m1875/1875\u001b[0m \u001b[32m━━━━━━━━━━━━━━━━━━━━\u001b[0m\u001b[37m\u001b[0m \u001b[1m6s\u001b[0m 2ms/step - accuracy: 0.8811 - loss: 0.3196\n",
            "Epoch 3/10\n",
            "\u001b[1m1875/1875\u001b[0m \u001b[32m━━━━━━━━━━━━━━━━━━━━\u001b[0m\u001b[37m\u001b[0m \u001b[1m3s\u001b[0m 2ms/step - accuracy: 0.8854 - loss: 0.3087\n",
            "Epoch 4/10\n",
            "\u001b[1m1875/1875\u001b[0m \u001b[32m━━━━━━━━━━━━━━━━━━━━\u001b[0m\u001b[37m\u001b[0m \u001b[1m5s\u001b[0m 2ms/step - accuracy: 0.8889 - loss: 0.3003\n",
            "Epoch 5/10\n",
            "\u001b[1m1875/1875\u001b[0m \u001b[32m━━━━━━━━━━━━━━━━━━━━\u001b[0m\u001b[37m\u001b[0m \u001b[1m5s\u001b[0m 2ms/step - accuracy: 0.8934 - loss: 0.2913\n",
            "Epoch 6/10\n",
            "\u001b[1m1875/1875\u001b[0m \u001b[32m━━━━━━━━━━━━━━━━━━━━\u001b[0m\u001b[37m\u001b[0m \u001b[1m5s\u001b[0m 2ms/step - accuracy: 0.8952 - loss: 0.2841\n",
            "Epoch 7/10\n",
            "\u001b[1m1875/1875\u001b[0m \u001b[32m━━━━━━━━━━━━━━━━━━━━\u001b[0m\u001b[37m\u001b[0m \u001b[1m3s\u001b[0m 2ms/step - accuracy: 0.8982 - loss: 0.2772\n",
            "Epoch 8/10\n",
            "\u001b[1m1875/1875\u001b[0m \u001b[32m━━━━━━━━━━━━━━━━━━━━\u001b[0m\u001b[37m\u001b[0m \u001b[1m3s\u001b[0m 2ms/step - accuracy: 0.9008 - loss: 0.2705\n",
            "Epoch 9/10\n",
            "\u001b[1m1875/1875\u001b[0m \u001b[32m━━━━━━━━━━━━━━━━━━━━\u001b[0m\u001b[37m\u001b[0m \u001b[1m5s\u001b[0m 2ms/step - accuracy: 0.9041 - loss: 0.2646\n",
            "Epoch 10/10\n",
            "\u001b[1m1875/1875\u001b[0m \u001b[32m━━━━━━━━━━━━━━━━━━━━\u001b[0m\u001b[37m\u001b[0m \u001b[1m3s\u001b[0m 2ms/step - accuracy: 0.9046 - loss: 0.2598\n",
            "\u001b[1m313/313\u001b[0m \u001b[32m━━━━━━━━━━━━━━━━━━━━\u001b[0m\u001b[37m\u001b[0m \u001b[1m1s\u001b[0m 1ms/step - accuracy: 0.8569 - loss: 0.4225\n"
          ]
        }
      ]
    },
    {
      "cell_type": "markdown",
      "source": [
        "In some cases, you may want to fine-tune data preprocessing hyperparameters, or `model.fit()` arguments, such as the batch size. For this, you must use a slightly different technique: instead of writing a `build_model()` function, you must subclass the `kt.HyperModel` class and define two methods, `build()` and `fit()`.\n",
        "\n",
        "The `build()` method does the exact same thing as the `build_model()` function. The `fit()` method takes a HyperParameters object and a compiled model as an argument, as well as all the `model.fit()` arguments, and fits the model and returns the History object. Crucially, the `fit()` method may use hyperparameters to decide how to preprocess the data, tweak the batch size, and more."
      ],
      "metadata": {
        "id": "Ezk6lv6AcBjP"
      }
    },
    {
      "cell_type": "code",
      "source": [
        "class MyClassificationHyperModel(kt.HyperModel):\n",
        "    def build(self, hp):\n",
        "        return build_model(hp)\n",
        "\n",
        "    def fit(self, hp, model, X, y, **kwargs):\n",
        "        if hp.Boolean(\"normalize\"):\n",
        "            norm_layer = tf.keras.layers.Normalization()\n",
        "            X = norm_layer(X)\n",
        "        return model.fit(X, y, **kwargs)"
      ],
      "metadata": {
        "id": "ql3WNV_LcaKl"
      },
      "execution_count": null,
      "outputs": []
    },
    {
      "cell_type": "code",
      "source": [
        "hyperband_tuner = kt.Hyperband(\n",
        "    MyClassificationHyperModel(), objective=\"val_accuracy\", seed=42,\n",
        "    max_epochs=10, factor=3, hyperband_iterations=2,\n",
        "    overwrite=True, directory=\"my_fashion_mnist\", project_name=\"hyperband\")"
      ],
      "metadata": {
        "id": "AS7sfEQYcgm2"
      },
      "execution_count": null,
      "outputs": []
    },
    {
      "cell_type": "markdown",
      "source": [
        "it starts by training many different models for few epochs, then it eliminates the worst models and keeps only the top `1 / factor` models, repeating this selection process until a single model is left.\n",
        "\n",
        "The max_epochs argument controls the max number of epochs that the best model will be trained for.\n",
        "\n",
        "The whole process is repeated twice in this case."
      ],
      "metadata": {
        "id": "an2nfEGQdWoq"
      }
    },
    {
      "cell_type": "markdown",
      "source": [
        "| Bracket | Initial Trials (N) | Epochs for First Round |\n",
        "|---------|--------------------|------------------------|\n",
        "| 0       | 27                 | 1                      |\n",
        "| 1       | 9                  | 3                      |\n",
        "| 2       | 3                  | 9                      |\n",
        "| 3       | 1                  | 10                     |\n",
        "\n",
        "\n",
        "27+9+3+1 = 40\n",
        "40*2 = 80"
      ],
      "metadata": {
        "id": "uZBJyT2wjruE"
      }
    },
    {
      "cell_type": "code",
      "source": [
        "early_stopping_cb = keras.callbacks.EarlyStopping(patience=2)\n",
        "hyperband_tuner.search(X_train, y_train, epochs=10,\n",
        "                       validation_data=(X_valid, y_valid),\n",
        "                       callbacks=[early_stopping_cb])"
      ],
      "metadata": {
        "colab": {
          "base_uri": "https://localhost:8080/"
        },
        "id": "5wbT4Ur2d5VN",
        "outputId": "b5f8a2c1-0a95-4cb4-aeac-c1b3ea6da60a"
      },
      "execution_count": null,
      "outputs": [
        {
          "output_type": "stream",
          "name": "stdout",
          "text": [
            "Trial 60 Complete [00h 00m 41s]\n",
            "val_accuracy: 0.8127999901771545\n",
            "\n",
            "Best val_accuracy So Far: 0.871999979019165\n",
            "Total elapsed time: 00h 18m 06s\n"
          ]
        }
      ]
    },
    {
      "cell_type": "markdown",
      "source": [
        "However, Keras Tuner also includes a `kt.BayesianOptimization` tuner: this algorithm gradually learns which regions of the hyperparameter space are most promising by fitting a probabilistic model called a `Gaussian process`. This allows it to gradually zoom in on the best hyperparameters. The downside is that the algorithm has its own hyperparameters: alpha represents the level of noise you expect in the performance measures across trials, and beta specifies how much you want the algorithm to explore, instead of simply exploiting the known good regions of hyperparameter space."
      ],
      "metadata": {
        "id": "F1HfcPkJkMSk"
      }
    },
    {
      "cell_type": "code",
      "source": [
        "bayesian_opt_tuner = kt.BayesianOptimization(\n",
        "    MyClassificationHyperModel(), objective=\"val_accuracy\", seed=42,\n",
        "    max_trials=10, alpha=1e-4, beta=2.6,\n",
        "    overwrite=True, directory=\"my_fashion_mnist\", project_name=\"bayesian_opt\")\n",
        "bayesian_opt_tuner.search(X_train, y_train, epochs=10,\n",
        "                          validation_data=(X_valid, y_valid),\n",
        "                          callbacks=[early_stopping_cb])"
      ],
      "metadata": {
        "colab": {
          "base_uri": "https://localhost:8080/"
        },
        "id": "9If_XZXlkZ8u",
        "outputId": "f0d13453-5a1a-461d-b04f-0cca11eeca15"
      },
      "execution_count": null,
      "outputs": [
        {
          "output_type": "stream",
          "name": "stdout",
          "text": [
            "Trial 10 Complete [00h 00m 40s]\n",
            "val_accuracy: 0.840399980545044\n",
            "\n",
            "Best val_accuracy So Far: 0.8615999817848206\n",
            "Total elapsed time: 00h 07m 03s\n"
          ]
        }
      ]
    },
    {
      "cell_type": "markdown",
      "metadata": {
        "id": "9PfifMb7hqok"
      },
      "source": [
        "Using randomized search is not too hard, and it works well for many fairly simple problems. When training is slow, however (e.g., for more complex problems with larger datasets), this approach will only explore a tiny portion of the hyperparameter space.\n",
        "\n",
        "You can partially alleviate this problem by assisting the search process manually:\n",
        "* first run a quick random search using wide ranges of hyperparameter values,\n",
        "* then run another search using smaller ranges of values centered on the best ones found during the first run, and so on.\n",
        "This approach will hopefully zoom in on a good set of hyperparameters. However, it’s very time consuming, and probably not the best use of your time.\n",
        "\n",
        "Fortunately, there are many techniques to explore a search space much more efficiently than randomly. Their core idea is simple: when a region of the space turns out to be good, it should be explored more. Such techniques take care of the “zooming” process for you and lead to much better solutions in much less time.\n",
        "\n",
        "Here are some Python libraries you can use to optimize hyperparameters:\n",
        "\n",
        "[Hyperopt](https://github.com/hyperopt/hyperopt): A popular library for optimizing over all sorts of complex search spaces (including real values, such as the learning rate, and discrete values, such as the number of layers).\n",
        "\n",
        "[Hyperas](https://github.com/maxpumperla/hyperas), [kopt](https://github.com/Avsecz/kopt), or [Talos](https://github.com/autonomio/talos): Useful libraries for optimizing hyperparameters for Keras models (the first two are based on Hyperopt).\n",
        "\n",
        "[Keras Tuner](https://www.youtube.com/watch?v=Un0JDL3i5Hg&t=24s): An easy-to-use hyperparameter optimization library by Google for Keras models, with a hosted service for visualization and analysis.\n",
        "\n",
        "[Scikit-Optimize (skopt)](https://scikit-optimize.github.io/stable/): A general-purpose optimization library. The BayesSearchCV class performs Bayesian optimization using an interface similar to GridSearchCV.\n",
        "\n",
        "[Spearmint](https://github.com/JasperSnoek/spearmint): A Bayesian optimization library.\n",
        "\n",
        "[Hyperband](https://github.com/zygmuntz/hyperband)\n",
        "A fast hyperparameter tuning library based on the recent Hyperband paper22 by Lisha Li et al.\n",
        "\n",
        "[Sklearn-Deap](https://github.com/rsteca/sklearn-deap): A hyperparameter optimization library based on evolutionary algorithms, with a GridSearchCV-like interface.\n",
        "\n",
        "Moreover, many companies offer services for hyperparameter optimization. Such as [Google Cloud AI Platform’s hyperparameter tuning service](https://cloud.google.com/ai-platform/training/docs/using-hyperparameter-tuning). Other options include services by [Arimo](https://arimo.com) and [SigOpt](https://sigopt.com), and [CallDesk’s Oscar](http://oscar.calldesk.ai).\n",
        "\n",
        "Hyperparameter tuning is still an active area of research, and evolutionary algorithms are making a comeback. For example, check out [DeepMind’s excellent 2017 paper](https://arxiv.org/abs/1711.09846),where the authors jointly optimize a population of models and their hyperparameters. Google has also used an evolutionary approach, not just to search for hyperparameters but also to look for the best neural network architecture for the problem; their AutoML suite is already available as a [cloud service](https://cloud.google.com/automl/). Perhaps the days of building neural networks manually will soon be over? Check out Google’s [post](https://ai.googleblog.com/2018/03/using-evolutionary-automl-to-discover.html) on this topic. In fact, evolutionary algorithms have been used successfully to train individual neural networks, replacing the ubiquitous Gradient Descent! For an example, see the [2017 post](https://eng.uber.com/deep-neuroevolution/) by Uber where the authors introduce their Deep Neuroevolution technique.\n",
        "\n",
        "But despite all this exciting progress and all these tools and services, it still helps to have an idea of what values are reasonable for each hyperparameter so that you can build a quick prototype and restrict the search space.\n",
        "The following sections provide guidelines for choosing the number of hidden layers and neurons in an MLP and for selecting good values for some of the main hyperparameters."
      ]
    },
    {
      "cell_type": "markdown",
      "metadata": {
        "id": "09dDfEAMhqok"
      },
      "source": [
        "### Number of Hidden Layers\n",
        "\n",
        "For many problems, you can begin with a single hidden layer and get reasonable results. An MLP with just one hidden layer can theoretically model even the most complex functions, provided it has enough neurons. But for complex problems, deep networks have a much higher parameter efficiency than shallow ones: they can model complex functions using exponentially fewer neurons than shallow nets, allowing them to reach much better performance with the same amount of training data.\n",
        "\n",
        "To understand why, suppose you are asked to draw a forest using some drawing software, but you are forbidden to copy and paste anything. It would take an enormous amount of time: you would have to draw each tree individually, branch by branch, leaf by leaf. If you could instead draw one leaf, copy and paste it to draw a branch, then copy and paste that branch to create a tree, and finally copy and paste this tree to make a forest, you would be finished in no time. Real-world data is often structured in such a hierarchical way, and deep neural networks automatically take advantage of this fact: lower hidden layers model low-level structures (e.g., line segments of various shapes and orientations), intermediate hidden layers combine these low-level structures to model intermediate-level structures (e.g., squares, circles), and the highest hidden layers and the output layer combine these intermediate structures to model high-level structures (e.g., faces).\n",
        "\n",
        "Not only does this hierarchical architecture help DNNs converge faster to a good solution, but it also improves their ability to generalize to new datasets. For example, if you have already trained a model to recognize faces in pictures and you now want to train a new neural network to recognize hairstyles, you can kickstart the training by reusing the lower layers of the first network. Instead of randomly initializing the weights and biases of the first few layers of the new neural network, you can initialize them to the values of the weights and biases of the lower layers of the first network. This way the network will not have to learn from scratch all the low-level structures that occur in most pictures; it will only have to learn the higher-level structures (e.g., hairstyles). This is called *transfer learning*.\n",
        "\n",
        "In summary, for many problems you can start with just one or two hidden layers and the neural network will work just fine. For instance, you can easily reach above 97% accuracy on the MNIST dataset using just one hidden layer with a few hundred neurons, and above 98% accuracy using two hidden layers with the same total number of neurons, in roughly the same amount of training time. For more complex problems, you can ramp up the number of hidden layers until you start overfitting the training set. Very complex tasks, such as large image classification or speech recognition, typically require networks with dozens of layers (or even hundreds, but not fully connected ones), and they need a huge amount of training data. You will rarely have to train such networks from scratch: it is much more common to reuse parts of a pretrained state-of-the-art network that performs a similar task. Training will then be a lot faster and require much less data.\n"
      ]
    },
    {
      "cell_type": "markdown",
      "metadata": {
        "id": "fBcGzrH9hqok"
      },
      "source": [
        "### Number of Neurons per Hidden Layer\n",
        "\n",
        "The number of neurons in the input and output layers is determined by the type of input and output your task requires. For example, the MNIST task requires 28 × 28 = 784 input neurons and 10 output neurons.\n",
        "\n",
        "As for the hidden layers, it used to be common to size them to form a pyramid, with fewer and fewer neurons at each layer—the rationale being that many low-level features can coalesce into far fewer high-level features. A typical neural network for MNIST might have 3 hidden layers, the first with 300 neurons, the second with 200, and the third with 100. However, this practice has been largely abandoned because it seems that using the same number of neurons in all hidden layers performs just as well in most cases, or even better; plus, there is only one hyperparameter to tune, instead of one per layer. That said, depending on the dataset, it can sometimes help to make the first hidden layer bigger than the others.\n",
        "\n",
        "Just like the number of layers, you can try increasing the number of neurons gradually until the network starts overfitting. But in practice, it’s often simpler and more efficient to pick a model with more layers and neurons than you actually need, then use early stopping and other regularization techniques to prevent it from overfitting.\n",
        "\n",
        "Vincent Vanhoucke, a scientist at Google, has dubbed this the “stretch pants” approach: instead of wasting time looking for pants that perfectly match your size, just use large stretch pants that will shrink down to the right size. With this approach, you avoid bottleneck layers that could ruin your model. On the flip side, if a layer has too few neurons, it will not have enough representational power to preserve all the useful information from the inputs (e.g., a layer with two neurons can only output 2D data, so if it processes 3D data, some information will be lost). No matter how big and powerful the rest of the network is, that information will never be recovered."
      ]
    },
    {
      "cell_type": "markdown",
      "metadata": {
        "id": "VySWJFpyhqol"
      },
      "source": [
        "### Learning Rate, Batch Size, and Other Hyperparameters\n",
        "\n",
        "The numbers of hidden layers and neurons are not the only hyperparameters you can tweak in an MLP. Here are some of the most important ones, as well as tips on how to set them:\n",
        "\n",
        "\n",
        "* *Learning rate*    \n",
        "    The learning rate is arguably the most important hyperparameter. In general, the optimal learning rate is about half of the maximum learning rate (i.e., the learning rate above which the training algorithm diverges). One way to find a good learning rate is to train the model for a few hundred iterations, starting with a very low learning rate (e.g., 10-5) and gradually increasing it up to a very large value (e.g., 10). This is done by multiplying the learning rate by a constant factor at each iteration (e.g., by exp(log(106)/500) to go from 10-5 to 10 in 500 iterations). If you plot the loss as a function of the learning rate (using a log scale for the learning rate), you should see it dropping at first. But after a while, the learning rate will be too large, so the loss will shoot back up: the optimal learning rate will be a bit lower than the point at which the loss starts to climb (typically about 10 times lower than the turning point). You can then reinitialize your model and train it normally using this good learning rate.\n",
        "        \n",
        "            \n",
        "\n",
        "* *Optimizer*    \n",
        "    Choosing a better optimizer than plain old Mini-batch Gradient Descent (and tuning its hyperparameters) is also quite important.\n",
        "\n",
        "    \n",
        "* *Batch size*    \n",
        "    The batch size can have a significant impact on your model’s performance and training time. The main benefit of using large batch sizes is that hardware accelerators like GPUs can process them efficiently, so the training algorithm will see more instances per second. Therefore, many researchers and practitioners recommend using the largest batch size that can fit in GPU RAM. There’s a catch, though: in practice, large batch sizes often lead to training instabilities, especially at the beginning of training, and the resulting model may not generalize as well as a model trained with a smaller batch size. In April 2018, Yann LeCun even tweeted “Friends don’t let friends use mini-batches larger than 32,” citing a [2018 paper](https://arxiv.org/abs/1804.07612) by Dominic Masters and Carlo Luschi which concluded that using small batches (from 2 to 32) was preferable because small batches led to better models in less training time. Other papers point in the opposite direction, however; in 2017, papers by [Elad Hoffer et al.](https://arxiv.org/abs/1705.08741) and [Priya Goyal et al.](https://arxiv.org/abs/1706.02677) showed that it was possible to use very large batch sizes (up to 8,192) using various techniques such as warming up the learning rate (i.e., starting training with a small learning rate, then ramping it up). This led to a very short training time, without any generalization gap. So, one strategy is to try to use a large batch size, using learning rate warmup, and if training is unstable or the final performance is disappointing, then try using a small batch size instead.\n",
        "    \n",
        "    \n",
        "* *Activation function*    \n",
        "    In general, the `ReLU` activation function will be a good default for all hidden layers. For the output layer, it really depends on your task.\n",
        "\n",
        "    \n",
        "* *Number of iterations*    \n",
        "    In most cases, the number of training iterations does not actually need to be tweaked: just use early stopping instead.\n",
        "\n",
        "For more best practices regarding tuning neural network hyperparameters, check out the excellent [2018 paper](https://arxiv.org/abs/1803.09820) by Leslie Smith."
      ]
    }
  ],
  "metadata": {
    "colab": {
      "provenance": [],
      "include_colab_link": true
    },
    "kernelspec": {
      "display_name": "Python 3",
      "language": "python",
      "name": "python3"
    },
    "language_info": {
      "codemirror_mode": {
        "name": "ipython",
        "version": 3
      },
      "file_extension": ".py",
      "mimetype": "text/x-python",
      "name": "python",
      "nbconvert_exporter": "python",
      "pygments_lexer": "ipython3",
      "version": "3.8.6"
    },
    "nav_menu": {
      "height": "264px",
      "width": "369px"
    },
    "toc": {
      "navigate_menu": true,
      "number_sections": true,
      "sideBar": true,
      "threshold": 6,
      "toc_cell": false,
      "toc_section_display": "block",
      "toc_window_display": false
    }
  },
  "nbformat": 4,
  "nbformat_minor": 0
}